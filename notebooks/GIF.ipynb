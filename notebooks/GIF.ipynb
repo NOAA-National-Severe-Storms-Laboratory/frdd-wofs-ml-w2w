{
 "cells": [
  {
   "cell_type": "code",
   "execution_count": 1,
   "id": "2a131e4f",
   "metadata": {},
   "outputs": [],
   "source": [
    "import os\n",
    "from glob import glob\n",
    "from os.path import join, exists\n",
    "import numpy as np\n",
    "import imageio"
   ]
  },
  {
   "cell_type": "code",
   "execution_count": null,
   "id": "f3ba946a",
   "metadata": {},
   "outputs": [
    {
     "name": "stderr",
     "output_type": "stream",
     "text": [
      "/tmp/ipykernel_929921/3065660032.py:23: DeprecationWarning: Starting with ImageIO v3 the behavior of this function will switch to that of iio.v3.imread. To keep the current behavior (and make this warning disappear) use `import imageio.v2 as imageio` or call `imageio.v2.imread` directly.\n",
      "  day_images = [imageio.imread(f) for f in sorted]\n"
     ]
    }
   ],
   "source": [
    "base_path = f'/work/samuel.varga/data/2to6_hr_severe_wx/sfe_prep/SummaryFiles'\n",
    "dates=[d for d in os.listdir(base_path) if '.txt' not in d] \n",
    "\n",
    "##########################\n",
    "##Get Paths of Files##\n",
    "##########################\n",
    "\n",
    " #list of valid paths for worker function\n",
    "for d in dates:\n",
    "    date_paths = []\n",
    "    day_images = []\n",
    "    times = [t for t in os.listdir(join(base_path,d)) if 'basemap' not in t] #initialization time\n",
    "    \n",
    "    for t in times: #For every init time on that day\n",
    "        path = join(base_path,d,t)   \n",
    "        files = glob(join(path, f'wofs_ML2TO6_*Deep_2.png'))  \n",
    "        if len(files)>0:\n",
    "            date_paths.append(files[0])\n",
    "            \n",
    "    try:\n",
    "        sorted =[date_paths[i] for i in np.argsort([d.split('/')[-1] for d in date_paths])]\n",
    "        fname = f\"{'/'.join(sorted[0].split('/')[:-2])}/{sorted[0].split('/')[-3]}_Deep.gif\"\n",
    "        day_images = [imageio.imread(f) for f in sorted]\n",
    "        imageio.mimsave(fname, day_images, fps=1)\n",
    "    except:\n",
    "        pass"
   ]
  },
  {
   "cell_type": "code",
   "execution_count": 4,
   "id": "18f9e180",
   "metadata": {},
   "outputs": [
    {
     "name": "stderr",
     "output_type": "stream",
     "text": [
      "/tmp/ipykernel_3437946/4032568381.py:3: DeprecationWarning: Starting with ImageIO v3 the behavior of this function will switch to that of iio.v3.imread. To keep the current behavior (and make this warning disappear) use `import imageio.v2 as imageio` or call `imageio.v2.imread` directly.\n",
      "  day_images = [imageio.imread(f) for f in files]\n"
     ]
    }
   ],
   "source": [
    "files = glob('/home/samuel.varga/S*.png')\n",
    "fname = 'Saturday.gif'\n",
    "day_images = [imageio.imread(f) for f in files]\n",
    "imageio.mimsave(fname, day_images, fps=1)"
   ]
  },
  {
   "cell_type": "code",
   "execution_count": 3,
   "id": "4b5b4e1b",
   "metadata": {},
   "outputs": [
    {
     "data": {
      "text/plain": [
       "['/home/samuel.varga/F00.png',\n",
       " '/home/samuel.varga/F01.png',\n",
       " '/home/samuel.varga/F02.png',\n",
       " '/home/samuel.varga/F03.png',\n",
       " '/home/samuel.varga/F04.png',\n",
       " '/home/samuel.varga/F06.png',\n",
       " '/home/samuel.varga/F07.png',\n",
       " '/home/samuel.varga/F08.png',\n",
       " '/home/samuel.varga/F09.png',\n",
       " '/home/samuel.varga/F10.png']"
      ]
     },
     "execution_count": 3,
     "metadata": {},
     "output_type": "execute_result"
    }
   ],
   "source": [
    "files"
   ]
  },
  {
   "cell_type": "code",
   "execution_count": null,
   "id": "90558d64",
   "metadata": {},
   "outputs": [],
   "source": []
  }
 ],
 "metadata": {
  "kernelspec": {
   "display_name": "Vanilla",
   "language": "python",
   "name": "vanilla"
  },
  "language_info": {
   "codemirror_mode": {
    "name": "ipython",
    "version": 3
   },
   "file_extension": ".py",
   "mimetype": "text/x-python",
   "name": "python",
   "nbconvert_exporter": "python",
   "pygments_lexer": "ipython3",
   "version": "3.10.5"
  }
 },
 "nbformat": 4,
 "nbformat_minor": 5
}
