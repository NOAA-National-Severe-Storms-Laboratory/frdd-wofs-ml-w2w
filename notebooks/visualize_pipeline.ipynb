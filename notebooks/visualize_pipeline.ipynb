{
 "cells": [
  {
   "cell_type": "markdown",
   "id": "5982411e",
   "metadata": {},
   "source": [
    "# Import Statements"
   ]
  },
  {
   "cell_type": "code",
   "execution_count": null,
   "id": "a1df4e31",
   "metadata": {},
   "outputs": [],
   "source": [
    "# Import packages \n",
    "import pandas as pd\n",
    "import numpy as np\n",
    "import netCDF4\n",
    "import h5netcdf\n",
    "import xarray as xr\n",
    "from os.path import join\n",
    "import joblib\n",
    "import matplotlib.pyplot as plt\n",
    "import matplotlib.patches as mpatches\n",
    "import shapely\n",
    "import cartopy\n",
    "%matplotlib inline\n",
    "import datetime as dt\n",
    "\n",
    "import sys\n",
    "sys.path.append('/home/samuel.varga/projects/2to6_hr_severe_wx/')\n",
    "sys.path.append('/home/samuel.varga/python_packages/ml_workflow/')\n",
    "sys.path.append('/home/samuel.varga/python_packages/MontePython/')\n",
    "sys.path.append('/home/samuel.varga/python_packages/WoF_post') #WoF post package\n",
    "sys.path.append('/home/samuel.varga/python_packages/wofs_ml_severe/')\n",
    "sys.path.append('/home/samuel.varga/python_packages/VargaPy/')\n",
    "from main.io import load_ml_data\n",
    "\n",
    "from VargaPy.MlUtils import Drop_Unwanted_Variables, get_bl_col, pseudo_all_severe_probs\n",
    "import cartopy.crs as ccrs\n",
    "from cartopy.feature import NaturalEarthFeature\n",
    "import cartopy.feature as cfeature\n",
    "import cartopy.io.shapereader as shpreader\n",
    "from cartopy.feature import ShapelyFeature\n",
    "from wofs.plotting.wofs_colors import WoFSColors\n",
    "from wofs_ml_severe.data_pipeline.storm_report_loader import StormReportLoader\n",
    "from wofs_ml_severe.data_pipeline.storm_report_downloader import StormReportDownloader"
   ]
  },
  {
   "cell_type": "markdown",
   "id": "363d3689",
   "metadata": {},
   "source": [
    "# Load Files"
   ]
  },
  {
   "cell_type": "code",
   "execution_count": null,
   "id": "2b316ba6",
   "metadata": {},
   "outputs": [],
   "source": []
  },
  {
   "cell_type": "markdown",
   "id": "5b110b20",
   "metadata": {},
   "source": [
    "# 3 km Base "
   ]
  },
  {
   "cell_type": "code",
   "execution_count": null,
   "id": "121dc8e7",
   "metadata": {},
   "outputs": [],
   "source": []
  },
  {
   "cell_type": "markdown",
   "id": "bf39fb97",
   "metadata": {},
   "source": [
    "# 9 km Upscaled"
   ]
  },
  {
   "cell_type": "code",
   "execution_count": null,
   "id": "a810f8dd",
   "metadata": {},
   "outputs": [],
   "source": []
  },
  {
   "cell_type": "markdown",
   "id": "4e9b8302",
   "metadata": {},
   "source": [
    "# 9 km Time Composite"
   ]
  },
  {
   "cell_type": "code",
   "execution_count": null,
   "id": "0c0cd218",
   "metadata": {},
   "outputs": [],
   "source": []
  },
  {
   "cell_type": "markdown",
   "id": "4b8b9832",
   "metadata": {},
   "source": [
    "# 9 km Neighborhoods & Statistics"
   ]
  },
  {
   "cell_type": "code",
   "execution_count": null,
   "id": "6788ec1d",
   "metadata": {},
   "outputs": [],
   "source": []
  },
  {
   "cell_type": "markdown",
   "id": "c4bd93b3",
   "metadata": {},
   "source": [
    "# Target Visualization"
   ]
  },
  {
   "cell_type": "markdown",
   "id": "ec443d7d",
   "metadata": {},
   "source": [
    "# 3 km: Target Mapping"
   ]
  },
  {
   "cell_type": "code",
   "execution_count": null,
   "id": "e18ca3a4",
   "metadata": {},
   "outputs": [],
   "source": []
  },
  {
   "cell_type": "markdown",
   "id": "35a6dc09",
   "metadata": {},
   "source": [
    "# 3 km: 9km Filter"
   ]
  },
  {
   "cell_type": "code",
   "execution_count": null,
   "id": "fb739539",
   "metadata": {},
   "outputs": [],
   "source": []
  },
  {
   "cell_type": "markdown",
   "id": "ba5efddf",
   "metadata": {},
   "source": [
    "# 9km: Targets on Upscaled Grid"
   ]
  },
  {
   "cell_type": "code",
   "execution_count": null,
   "id": "b171bfab",
   "metadata": {},
   "outputs": [],
   "source": []
  },
  {
   "cell_type": "code",
   "execution_count": null,
   "id": "52bdf796",
   "metadata": {},
   "outputs": [],
   "source": [
    "def get_targets(target_scale, base_path, date, bl_column, FRAMEWORK=FRAMEWORK, TIMESCALE=TIMESCALE, append_UH=False, Three_km=False, return_targets=True, mode=None, SigSevere=SigSev, appendUH=False, Tkm=False): #Return targets for a given day to produce heatmap\n",
    "        if SigSevere:\n",
    "            target_col=f'wind_sig_severe__{target_scale}km'\n",
    "        else:\n",
    "            target_col=f'wind_severe__{target_scale}km'\n",
    "        X, X_bl, y = load_ml_data(base_path=base_path, date=date,\n",
    "                                      mode=mode,\n",
    "                                      target_col=target_col,\n",
    "                                      bl_column=bl_column,\n",
    "                                      FRAMEWORK=FRAMEWORK,\n",
    "                                      TIMESCALE=TIMESCALE, appendUH=appendUH, Three_km=Three_km,\n",
    "                                      return_targets=return_targets)\n",
    "        print(len(y[y>0])) #Number of points with wind targets\n",
    "        for hazard in ['hail','tornado']:\n",
    "            if SigSevere:\n",
    "                target_col='{}_sig_severe__{}km'.format(hazard, target_scale)\n",
    "            else:\n",
    "                target_col='{}_severe__{}km'.format(hazard, target_scale)\n",
    "            _, _, y1  = load_ml_data(base_path=base_path, date=date,\n",
    "                                           mode=mode,\n",
    "                                           target_col=target_col,\n",
    "                                           bl_column=bl_column,\n",
    "                                           FRAMEWORK=FRAMEWORK,\n",
    "                                           TIMESCALE=TIMESCALE, Three_km=Three_km,\n",
    "                                    return_targets=return_targets) \n",
    "            y +=y1\n",
    "            print(len(y[y>0])) #Prints the number of wind+hail targets, then wind+hail+tornado\n",
    "\n",
    "        y[y > 0] = 1 #All target points (y>1) are remapped to y=1\n",
    "    \n",
    "        return y \n",
    "    \n",
    "def get_pseudo_all_severe_probs(target_scale, base_path=base_path, date=date, bl_column=bl_column, shape=shape): \n",
    "    targets=np.array(get_targets(target_scale,base_path, date, bl_column))\n",
    "    targets_2D=targets.reshape(shape)\n",
    "    return targets_2D"
   ]
  },
  {
   "cell_type": "code",
   "execution_count": null,
   "id": "be3de176",
   "metadata": {},
   "outputs": [],
   "source": [
    "%matplotlib inline\n",
    "\n",
    "fig, axes = plt.subplots(figsize=(10,8), facecolor='w',\n",
    "                     dpi=170, nrows=1, ncols=2, subplot_kw={'projection': projection}, \n",
    "                        constrained_layout=True)\n",
    "\n",
    "    \n",
    "for ax, target_scale in zip(axes.flat, ['36','9']):\n",
    "    targets_2D=get_pseudo_all_severe_probs(target_scale)\n",
    "#36km and 9km scales  \n",
    "    add_map_stuff(ax, states, shape_feature)\n",
    "    targets_2D = np.ma.masked_where(targets_2D==0, targets_2D)\n",
    "\n",
    "        #cmap=WoFSColors.wz_cmap\n",
    "    cf = ax.contourf(lons,lats, targets_2D, cmap=WoFSColors.wz_cmap, alpha=0.95, levels=[0,1],\n",
    "                    transform = crs, )\n",
    "\n",
    "        ##point_lat, point_lon = points[hazard]\n",
    "    if hazard=='all':\n",
    "            for Lorem in ['hail','wind','tornado']:\n",
    "                _points=points[Lorem]\n",
    "                axes[0].scatter(_points[:,1],_points[:,0], s=10, color=hazard_color[Lorem], alpha=0.8, zorder=1, transform=crs)\n",
    "    else:\n",
    "            _points = points[hazard]\n",
    "            ax.scatter(_points[:,1],_points[:,0], s=900, color='k', alpha=0.8, zorder=1, transform=crs) #s=10\n",
    "\n",
    "\n",
    "    ax = set_extent(ax, projection , crs, lats, lons,)\n",
    "    fontsize = 10 if len(name) > 5 else 12\n",
    "    ax.set_title(f'Regions within {target_scale}km of a Storm Report', fontsize=fontsize)\n",
    "\n",
    "    fig.tight_layout()\n",
    "    #Add 36/18/9km radius to storm reports\n",
    "    if False:  \n",
    "        if hazard=='all':\n",
    "                for Lorem in ['hail','wind','tornado']:\n",
    "                    _points = points[Lorem]\n",
    "                    for pair in zip(_points[::3,1], _points[::3,0]):\n",
    "                        repX, repY = circleofRadius(pair[1],pair[0], 36)\n",
    "                        axes.plot(repX, repY, transform=crs, color='k', linewidth=1, alpha=0.5)\n",
    "        else:\n",
    "                for pair in zip(_points[:,1], _points[:,0]):\n",
    "                    repX, repY = circleofRadius(pair[1],pair[0], 36)\n",
    "                    axes.plot(repX, repY, transform=crs, color='k', linewidth=1)\n",
    "axes[1].annotate(title, (0.48, 1.07), xycoords='axes fraction', fontsize=10, color='k')\n",
    "plt.show()"
   ]
  }
 ],
 "metadata": {
  "kernelspec": {
   "display_name": "Vanilla",
   "language": "python",
   "name": "vanilla"
  },
  "language_info": {
   "codemirror_mode": {
    "name": "ipython",
    "version": 3
   },
   "file_extension": ".py",
   "mimetype": "text/x-python",
   "name": "python",
   "nbconvert_exporter": "python",
   "pygments_lexer": "ipython3",
   "version": "3.10.5"
  }
 },
 "nbformat": 4,
 "nbformat_minor": 5
}
