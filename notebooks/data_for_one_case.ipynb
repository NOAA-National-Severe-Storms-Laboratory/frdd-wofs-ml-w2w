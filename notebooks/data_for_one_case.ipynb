{
 "cells": [
  {
   "cell_type": "code",
   "execution_count": 1,
   "id": "fe14bb8d",
   "metadata": {},
   "outputs": [],
   "source": [
    "import sys \n",
    "sys.path.append('/home/monte.flora/python_packages/wofs_ml_severe')\n",
    "from wofs_ml_severe.data.ml_2to6_data_pipeline import (GridPointExtracter,\n",
    "                                                       subsampler, \n",
    "                                                       load_dataset)\n",
    "from os.path import join"
   ]
  },
  {
   "cell_type": "raw",
   "id": "71d560da",
   "metadata": {},
   "source": [
    "array(['20180503', '20180504', '20180514', '20180515', '20180521',\n",
    "       '20180524', '20180525', '20180527', '20180530', '20190502',\n",
    "       '20190503', '20190507', '20190508', '20190509', '20190510',\n",
    "       '20190528', '20200501', '20200505', '20200508', '20200522',\n",
    "       '20210504', '20210505', '20210506', '20210517', '20210523'],\n",
    "      dtype=object)"
   ]
  },
  {
   "cell_type": "code",
   "execution_count": 2,
   "id": "5b267aa0",
   "metadata": {},
   "outputs": [],
   "source": [
    "dates = ['20180530']"
   ]
  },
  {
   "cell_type": "code",
   "execution_count": 3,
   "id": "09505fc0",
   "metadata": {},
   "outputs": [
    {
     "name": "stdout",
     "output_type": "stream",
     "text": [
      "Saving /work/mflora/ML_2TO6HR/data/wofs_ml_severe__2to6hr__20180530_data.feather...\n"
     ]
    }
   ],
   "source": [
    "##date = '20210504'\n",
    "\n",
    "init_time = '1900'\n",
    "\n",
    "for date in dates:\n",
    "    path = f'/work/mflora/SummaryFiles/{date}/{init_time}'\n",
    "\n",
    "    out_path = join('/work/mflora/ML_2TO6HR', 'data') \n",
    "\n",
    "    X_env, X_strm, ncfile  = load_dataset(path)\n",
    "    extracter = GridPointExtracter(ncfile, env_vars=X_env.keys(), strm_vars=X_strm.keys())\n",
    "    df = extracter(X_env, X_strm, predict=True)\n",
    "    df.reset_index(drop=True, inplace=True)\n",
    "\n",
    "    out_name = join(out_path, f'wofs_ml_severe__2to6hr__{date}_data.feather')\n",
    "    print(f'Saving {out_name}...')\n",
    "    df.to_feather(out_name)"
   ]
  }
 ],
 "metadata": {
  "kernelspec": {
   "display_name": "Python 3 (ipykernel)",
   "language": "python",
   "name": "python3"
  },
  "language_info": {
   "codemirror_mode": {
    "name": "ipython",
    "version": 3
   },
   "file_extension": ".py",
   "mimetype": "text/x-python",
   "name": "python",
   "nbconvert_exporter": "python",
   "pygments_lexer": "ipython3",
   "version": "3.8.13"
  }
 },
 "nbformat": 4,
 "nbformat_minor": 5
}
