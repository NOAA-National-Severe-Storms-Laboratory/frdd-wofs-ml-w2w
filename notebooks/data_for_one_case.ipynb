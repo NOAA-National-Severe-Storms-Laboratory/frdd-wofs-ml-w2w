{
 "cells": [
  {
   "cell_type": "code",
   "execution_count": 1,
   "id": "fe14bb8d",
   "metadata": {},
   "outputs": [],
   "source": [
    "import sys \n",
    "#sys.path.append('/home/monte.flora/python_packages/wofs_ml_severe')\n",
    "sys.path.append('/home/monte.flora/python_packages/WoF_post')\n",
    "#sys.path.append('/home/samuel.varga/python_packages/wofs_ml_severe')\n",
    "sys.path.append('/home/samuel.varga/projects/2to6_hr_severe_wx/experiments')\n",
    "sys.path.append('/home/samuel.varga/python_packages/MontePython/')\n",
    "#from ml_2to6_data_pipeline import (GridPointExtracter,\n",
    "#                                                       subsampler, \n",
    "#                                                       load_dataset)\n",
    "from WIP_pipeline import (GridPointExtracter,\n",
    "                                                       subsampler, \n",
    "                                                       load_dataset)\n",
    "from os.path import join"
   ]
  },
  {
   "cell_type": "raw",
   "id": "71d560da",
   "metadata": {},
   "source": [
    "array(['20180503', '20180504', '20180514', '20180515', '20180521',\n",
    "       '20180524', '20180525', '20180527', '20180530', '20190502',\n",
    "       '20190503', '20190507', '20190508', '20190509', '20190510',\n",
    "       '20190528', '20200501', '20200505', '20200508', '20200522',\n",
    "       '20210504', '20210505', '20210506', '20210517', '20210523'],\n",
    "      dtype=object)"
   ]
  },
  {
   "cell_type": "code",
   "execution_count": 2,
   "id": "5b267aa0",
   "metadata": {},
   "outputs": [],
   "source": [
    "#dates = ['20180504',\n",
    "#       '20180509', '20180512', '20180519', '20180524', '20180530',\n",
    "#       '20190513', '20190518', '20190521', '20190522', '20200520',\n",
    "#       '20200521', '20200526', '20200528', '20210506', '20210510',\n",
    "#       '20210513', '20210514', '20210521', '20210523', '20210524',\n",
    "#       '20210525']\n",
    "FRAMEWORK='ADAM'\n",
    "TIMESCALE='0to3'\n",
    "dates=[ '20180512']"
   ]
  },
  {
   "cell_type": "code",
   "execution_count": 3,
   "id": "09505fc0",
   "metadata": {},
   "outputs": [
    {
     "name": "stdout",
     "output_type": "stream",
     "text": [
      "ADAM block 2\n",
      "True and ADAM\n",
      "False and ADAM\n",
      "dict_keys(['uh_2to5_instant__time_max__9km__smoothed'])\n",
      "dict_keys(['uh_2to5_instant__time_max__2km', 'uh_0to2_instant__time_max__2km', 'wz_0to2_instant__time_max__2km', 'comp_dz__time_max__2km', 'ws_80__time_max__2km', 'hailcast__time_max__2km', 'w_up__time_max__2km', 'okubo_weiss__time_max__2km'])\n",
      "0to3\n",
      "Saving /work/samuel.varga/data/0to3_hr_severe_wx/ADAM/Single/wofs_ml_severe__0to3hr__20180512_data.feather...\n"
     ]
    }
   ],
   "source": [
    "##date = '20210504'\n",
    "\n",
    "if TIMESCALE=='0to3':\n",
    "    init_time='0000'#Predictions valid from 0000-0300\n",
    "else:\n",
    "    init_time='2200' #Predictions valid from 0000-0400 this would actually be valid the day after, so change this\n",
    "\n",
    "    #init_time = '1900' #3 hours out from effective time? Should be same init time in storm report?\n",
    "\n",
    "for date in dates:\n",
    "    #path = f'/work/samuel.varga/data/2to6_hr_severe_wx/SummaryFiles/{date}/{init_time}'\n",
    "    path = f'/work/mflora/SummaryFiles/{date}/{init_time}' #What files would I need to make it myself? Env and storm variables?\n",
    "    out_path = join(f'/work/samuel.varga/data/{TIMESCALE}_hr_severe_wx/{FRAMEWORK}', 'Single') \n",
    "\n",
    "    X_env, X_strm, ncfile, llgrid  = load_dataset(path, TIMESCALE=TIMESCALE)\n",
    "    extracter = GridPointExtracter(ncfile, env_vars=X_env.keys(), strm_vars=X_strm.keys(), ll_grid=llgrid, TIMESCALE=TIMESCALE, FRAMEWORK=FRAMEWORK)\n",
    "    df = extracter(X_env, X_strm, predict=False) #True \n",
    "    df.reset_index(drop=True, inplace=True)\n",
    "\n",
    "    out_name = join(out_path, f'wofs_ml_severe__{TIMESCALE}hr__{date}_data.feather')\n",
    "    print(f'Saving {out_name}...')\n",
    "    df.to_feather(out_name)"
   ]
  },
  {
   "cell_type": "markdown",
   "id": "e1c9a506",
   "metadata": {},
   "source": [
    "# Trouble shooting steps"
   ]
  },
  {
   "cell_type": "code",
   "execution_count": 2,
   "id": "18531d15",
   "metadata": {},
   "outputs": [],
   "source": [
    "#path = f'/work/mflora/SummaryFiles/{dates[0]}/{init_time}'\n",
    "#out_path = join('/work/samuel.varga/data/2to6_hr_severe_wx', 'singleCase')"
   ]
  },
  {
   "cell_type": "code",
   "execution_count": 3,
   "id": "7595d466",
   "metadata": {},
   "outputs": [],
   "source": [
    "#X_env, X_strm, ncfile, llgrid  = load_dataset(path)"
   ]
  },
  {
   "cell_type": "code",
   "execution_count": 4,
   "id": "a8a81ea3",
   "metadata": {},
   "outputs": [],
   "source": [
    "#extracter = GridPointExtracter(ncfile, env_vars=X_env.keys(), strm_vars=X_strm.keys(), ll_grid=llgrid)\n",
    "#df = extracter(X_env, X_strm, predict=True)\n",
    "#df.reset_index(drop=True, inplace=True)"
   ]
  },
  {
   "cell_type": "code",
   "execution_count": 5,
   "id": "32345781",
   "metadata": {},
   "outputs": [],
   "source": [
    "#for date in dates:\n",
    "#    path = f'/work/mflora/SummaryFiles/{date}/{init_time}'\n",
    "#    print(path)"
   ]
  }
 ],
 "metadata": {
  "kernelspec": {
   "display_name": "Vanilla",
   "language": "python",
   "name": "vanilla"
  },
  "language_info": {
   "codemirror_mode": {
    "name": "ipython",
    "version": 3
   },
   "file_extension": ".py",
   "mimetype": "text/x-python",
   "name": "python",
   "nbconvert_exporter": "python",
   "pygments_lexer": "ipython3",
   "version": "3.10.4"
  }
 },
 "nbformat": 4,
 "nbformat_minor": 5
}
