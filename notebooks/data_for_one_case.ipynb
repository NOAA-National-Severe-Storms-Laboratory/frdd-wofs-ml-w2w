{
 "cells": [
  {
   "cell_type": "code",
   "execution_count": 1,
   "id": "fe14bb8d",
   "metadata": {},
   "outputs": [
    {
     "ename": "ModuleNotFoundError",
     "evalue": "No module named 'importlib_resources'",
     "output_type": "error",
     "traceback": [
      "\u001b[0;31m---------------------------------------------------------------------------\u001b[0m",
      "\u001b[0;31mModuleNotFoundError\u001b[0m                       Traceback (most recent call last)",
      "Input \u001b[0;32mIn [1]\u001b[0m, in \u001b[0;36m<cell line: 10>\u001b[0;34m()\u001b[0m\n\u001b[1;32m      6\u001b[0m sys\u001b[38;5;241m.\u001b[39mpath\u001b[38;5;241m.\u001b[39mappend(\u001b[38;5;124m'\u001b[39m\u001b[38;5;124m/home/samuel.varga/python_packages/MontePython/\u001b[39m\u001b[38;5;124m'\u001b[39m)\n\u001b[1;32m      7\u001b[0m \u001b[38;5;66;03m#from ml_2to6_data_pipeline import (GridPointExtracter,\u001b[39;00m\n\u001b[1;32m      8\u001b[0m \u001b[38;5;66;03m#                                                       subsampler, \u001b[39;00m\n\u001b[1;32m      9\u001b[0m \u001b[38;5;66;03m#                                                       load_dataset)\u001b[39;00m\n\u001b[0;32m---> 10\u001b[0m \u001b[38;5;28;01mfrom\u001b[39;00m \u001b[38;5;21;01mml_2to6_data_pipeline\u001b[39;00m \u001b[38;5;28;01mimport\u001b[39;00m (GridPointExtracter,\n\u001b[1;32m     11\u001b[0m                                                        subsampler, \n\u001b[1;32m     12\u001b[0m                                                        load_dataset, random_subsampler)\n\u001b[1;32m     13\u001b[0m \u001b[38;5;28;01mfrom\u001b[39;00m \u001b[38;5;21;01mos\u001b[39;00m\u001b[38;5;21;01m.\u001b[39;00m\u001b[38;5;21;01mpath\u001b[39;00m \u001b[38;5;28;01mimport\u001b[39;00m join, exists\n",
      "File \u001b[0;32m~/projects/2to6_hr_severe_wx/experiments/ml_2to6_data_pipeline.py:13\u001b[0m, in \u001b[0;36m<module>\u001b[0;34m\u001b[0m\n\u001b[1;32m      1\u001b[0m \u001b[38;5;66;03m####################################################################################\u001b[39;00m\n\u001b[1;32m      2\u001b[0m \u001b[38;5;66;03m#\u001b[39;00m\n\u001b[1;32m      3\u001b[0m \u001b[38;5;66;03m# DATA PIPELINE SCRIPT FOR THE 2-6 HR WOFS-ML-SEVERE PRODUCTS\u001b[39;00m\n\u001b[0;32m   (...)\u001b[0m\n\u001b[1;32m     10\u001b[0m \u001b[38;5;66;03m#Varga version\u001b[39;00m\n\u001b[1;32m     11\u001b[0m \u001b[38;5;66;03m#These are from the wofs_post package\u001b[39;00m\n\u001b[0;32m---> 13\u001b[0m \u001b[38;5;28;01mfrom\u001b[39;00m \u001b[38;5;21;01mwofs\u001b[39;00m\u001b[38;5;21;01m.\u001b[39;00m\u001b[38;5;21;01mpost\u001b[39;00m\u001b[38;5;21;01m.\u001b[39;00m\u001b[38;5;21;01mutils\u001b[39;00m \u001b[38;5;28;01mimport\u001b[39;00m (\n\u001b[1;32m     14\u001b[0m     save_dataset,\n\u001b[1;32m     15\u001b[0m     load_multiple_nc_files,\n\u001b[1;32m     16\u001b[0m )\n\u001b[1;32m     17\u001b[0m \u001b[38;5;28;01mfrom\u001b[39;00m \u001b[38;5;21;01mwofs\u001b[39;00m\u001b[38;5;21;01m.\u001b[39;00m\u001b[38;5;21;01mverification\u001b[39;00m\u001b[38;5;21;01m.\u001b[39;00m\u001b[38;5;21;01mlsrs\u001b[39;00m\u001b[38;5;21;01m.\u001b[39;00m\u001b[38;5;21;01mget_storm_reports\u001b[39;00m \u001b[38;5;28;01mimport\u001b[39;00m StormReports\n\u001b[1;32m     18\u001b[0m \u001b[38;5;28;01mfrom\u001b[39;00m \u001b[38;5;21;01mwofs\u001b[39;00m\u001b[38;5;21;01m.\u001b[39;00m\u001b[38;5;21;01mplotting\u001b[39;00m\u001b[38;5;21;01m.\u001b[39;00m\u001b[38;5;21;01mutil\u001b[39;00m \u001b[38;5;28;01mimport\u001b[39;00m decompose_file_path\n",
      "File \u001b[0;32m~/python_packages/WoF_post/wofs/__init__.py:26\u001b[0m, in \u001b[0;36m<module>\u001b[0;34m\u001b[0m\n\u001b[1;32m     22\u001b[0m \u001b[38;5;28;01mfrom\u001b[39;00m \u001b[38;5;21;01m.\u001b[39;00m\u001b[38;5;21;01mplotting\u001b[39;00m\u001b[38;5;21;01m.\u001b[39;00m\u001b[38;5;21;01mwofs_verification_plotter\u001b[39;00m \u001b[38;5;28;01mimport\u001b[39;00m WoFSVerificationPlotter\n\u001b[1;32m     23\u001b[0m \u001b[38;5;28;01mfrom\u001b[39;00m \u001b[38;5;21;01m.\u001b[39;00m\u001b[38;5;21;01mplotting\u001b[39;00m\u001b[38;5;21;01m.\u001b[39;00m\u001b[38;5;21;01mwofs_plotter\u001b[39;00m \u001b[38;5;28;01mimport\u001b[39;00m WoFSPlotter\n\u001b[0;32m---> 26\u001b[0m \u001b[38;5;28;01mfrom\u001b[39;00m \u001b[38;5;21;01m.\u001b[39;00m\u001b[38;5;21;01mpost\u001b[39;00m\u001b[38;5;21;01m.\u001b[39;00m\u001b[38;5;21;01msummary_files\u001b[39;00m \u001b[38;5;28;01mimport\u001b[39;00m SummaryFile\n",
      "File \u001b[0;32m~/python_packages/WoF_post/wofs/post/summary_files.py:1\u001b[0m, in \u001b[0;36m<module>\u001b[0;34m\u001b[0m\n\u001b[0;32m----> 1\u001b[0m \u001b[38;5;28;01mfrom\u001b[39;00m \u001b[38;5;21;01m.\u001b[39;00m\u001b[38;5;21;01mwrf_diagnostics\u001b[39;00m \u001b[38;5;28;01mimport\u001b[39;00m WRFDiagnostics\n\u001b[1;32m      2\u001b[0m \u001b[38;5;28;01mimport\u001b[39;00m \u001b[38;5;21;01mxarray\u001b[39;00m \u001b[38;5;28;01mas\u001b[39;00m \u001b[38;5;21;01mxr\u001b[39;00m \n\u001b[1;32m      3\u001b[0m \u001b[38;5;28;01mimport\u001b[39;00m \u001b[38;5;21;01mnumpy\u001b[39;00m \u001b[38;5;28;01mas\u001b[39;00m \u001b[38;5;21;01mnp\u001b[39;00m\n",
      "File \u001b[0;32m~/python_packages/WoF_post/wofs/post/wrf_diagnostics.py:1\u001b[0m, in \u001b[0;36m<module>\u001b[0;34m\u001b[0m\n\u001b[0;32m----> 1\u001b[0m \u001b[38;5;28;01mfrom\u001b[39;00m \u001b[38;5;21;01m.\u001b[39;00m\u001b[38;5;21;01menvironment_diagnostics\u001b[39;00m \u001b[38;5;28;01mimport\u001b[39;00m EnvironmentDiagnostics\n\u001b[1;32m      2\u001b[0m \u001b[38;5;28;01mfrom\u001b[39;00m \u001b[38;5;21;01m.\u001b[39;00m\u001b[38;5;21;01mstorm_diagnostics\u001b[39;00m \u001b[38;5;28;01mimport\u001b[39;00m StormDiagnostics\n\u001b[1;32m      3\u001b[0m \u001b[38;5;28;01mfrom\u001b[39;00m \u001b[38;5;21;01m.\u001b[39;00m\u001b[38;5;21;01mmodel_variables\u001b[39;00m \u001b[38;5;28;01mimport\u001b[39;00m ModelVariables\n",
      "File \u001b[0;32m~/python_packages/WoF_post/wofs/post/environment_diagnostics.py:7\u001b[0m, in \u001b[0;36m<module>\u001b[0;34m\u001b[0m\n\u001b[1;32m      5\u001b[0m \u001b[38;5;28;01mfrom\u001b[39;00m \u001b[38;5;21;01m.\u001b[39;00m\u001b[38;5;21;01mwofs_cbook\u001b[39;00m \u001b[38;5;28;01mimport\u001b[39;00m calc_corfidi, calc_bl_moisture_conv, calc_mean_wind_pres_nowgt, calc_scp\n\u001b[1;32m      6\u001b[0m \u001b[38;5;28;01mfrom\u001b[39;00m \u001b[38;5;21;01m.\u001b[39;00m\u001b[38;5;21;01mwofs_cbook\u001b[39;00m \u001b[38;5;28;01mimport\u001b[39;00m layer_averaged_relative_humidity, convolve\n\u001b[0;32m----> 7\u001b[0m \u001b[38;5;28;01mfrom\u001b[39;00m \u001b[38;5;21;01m.\u001b[39;00m \u001b[38;5;28;01mimport\u001b[39;00m cape_routines \u001b[38;5;28;01mas\u001b[39;00m cape_calc\n\u001b[1;32m      8\u001b[0m \u001b[38;5;28;01mimport\u001b[39;00m \u001b[38;5;21;01mnumpy\u001b[39;00m \u001b[38;5;28;01mas\u001b[39;00m \u001b[38;5;21;01mnp\u001b[39;00m\n\u001b[1;32m     11\u001b[0m \u001b[38;5;28;01mclass\u001b[39;00m \u001b[38;5;21;01mEnvironmentDiagnostics\u001b[39;00m:\n",
      "File \u001b[0;32m~/python_packages/WoF_post/wofs/post/cape_routines.py:5\u001b[0m, in \u001b[0;36m<module>\u001b[0;34m\u001b[0m\n\u001b[1;32m      3\u001b[0m \u001b[38;5;28;01mimport\u001b[39;00m \u001b[38;5;21;01mnumpy\u001b[39;00m \u001b[38;5;28;01mas\u001b[39;00m \u001b[38;5;21;01mnp\u001b[39;00m\n\u001b[1;32m      4\u001b[0m \u001b[38;5;28;01mimport\u001b[39;00m \u001b[38;5;21;01mos\u001b[39;00m\n\u001b[0;32m----> 5\u001b[0m \u001b[38;5;28;01mimport\u001b[39;00m \u001b[38;5;21;01mimportlib_resources\u001b[39;00m\n\u001b[1;32m      6\u001b[0m \u001b[38;5;28;01mfrom\u001b[39;00m \u001b[38;5;21;01mos\u001b[39;00m\u001b[38;5;21;01m.\u001b[39;00m\u001b[38;5;21;01mpath\u001b[39;00m \u001b[38;5;28;01mimport\u001b[39;00m dirname, join \n\u001b[1;32m      8\u001b[0m __all__ \u001b[38;5;241m=\u001b[39m [\u001b[38;5;124m'\u001b[39m\u001b[38;5;124mmucape\u001b[39m\u001b[38;5;124m'\u001b[39m,\u001b[38;5;124m'\u001b[39m\u001b[38;5;124mmlcape1\u001b[39m\u001b[38;5;124m'\u001b[39m,\u001b[38;5;124m'\u001b[39m\u001b[38;5;124mmlcape2\u001b[39m\u001b[38;5;124m'\u001b[39m,\u001b[38;5;124m'\u001b[39m\u001b[38;5;124msfcape\u001b[39m\u001b[38;5;124m'\u001b[39m]\n",
      "\u001b[0;31mModuleNotFoundError\u001b[0m: No module named 'importlib_resources'"
     ]
    }
   ],
   "source": [
    "import sys \n",
    "#sys.path.append('/home/monte.flora/python_packages/wofs_ml_severe')\n",
    "sys.path.append('/home/samuel.varga/python_packages/WoF_post')\n",
    "#sys.path.append('/home/samuel.varga/python_packages/wofs_ml_severe')\n",
    "sys.path.append('/home/samuel.varga/projects/2to6_hr_severe_wx/experiments')\n",
    "sys.path.append('/home/samuel.varga/python_packages/MontePython/')\n",
    "#from ml_2to6_data_pipeline import (GridPointExtracter,\n",
    "#                                                       subsampler, \n",
    "#                                                       load_dataset)\n",
    "from ml_2to6_data_pipeline import (GridPointExtracter,\n",
    "                                                       subsampler, \n",
    "                                                       load_dataset, random_subsampler)\n",
    "from os.path import join, exists"
   ]
  },
  {
   "cell_type": "raw",
   "id": "71d560da",
   "metadata": {},
   "source": [
    "array(['20180503', '20180504', '20180514', '20180515', '20180521',\n",
    "       '20180524', '20180525', '20180527', '20180530', '20190502',\n",
    "       '20190503', '20190507', '20190508', '20190509', '20190510',\n",
    "       '20190528', '20200501', '20200505', '20200508', '20200522',\n",
    "       '20210504', '20210505', '20210506', '20210517', '20210523'],\n",
    "      dtype=object)"
   ]
  },
  {
   "cell_type": "code",
   "execution_count": 7,
   "id": "5b267aa0",
   "metadata": {},
   "outputs": [],
   "source": [
    "#dates = ['20180504',\n",
    "#       '20180509', '20180512', '20180519', '20180524', '20180530',\n",
    "#       '20190513', '20190518', '20190521', '20190522', '20200520',\n",
    "#       '20200521', '20200526', '20200528', '20210506', '20210510',\n",
    "#       '20210513', '20210514', '20210521', '20210523', '20210524',\n",
    "#       '20210525']\n",
    "FRAMEWORK='ADAM'\n",
    "TIMESCALE='0to3'\n",
    "dates=[\n",
    "  '20180524'\n",
    "       ]"
   ]
  },
  {
   "cell_type": "code",
   "execution_count": 8,
   "id": "09505fc0",
   "metadata": {},
   "outputs": [
    {
     "name": "stdout",
     "output_type": "stream",
     "text": [
      "True and ADAM\n",
      "False and ADAM\n",
      "dict_keys(['uh_2to5_instant__time_max__9km__smoothed'])\n",
      "dict_keys(['uh_2to5_instant__time_max__4km', 'uh_0to2_instant__time_max__4km', 'wz_0to2_instant__time_max__4km', 'comp_dz__time_max__4km', 'ws_80__time_max__4km', 'hailcast__time_max__4km', 'w_up__time_max__4km', 'okubo_weiss__time_max__4km'])\n",
      "7056\n",
      "Saving /work/samuel.varga/data/0to3_hr_severe_wx/ADAM/Single/wofs_ml_severe__0to3hr__20180524_data.feather...\n"
     ]
    }
   ],
   "source": [
    "##date = '20210504'\n",
    "\n",
    "if TIMESCALE=='0to3':\n",
    "    init_time='0000'#Predictions valid from 0000-0300\n",
    "else:\n",
    "    init_time='2200' #Predictions valid from 0000-0400 this would actually be valid the day after, so change this\n",
    "\n",
    "    #init_time = '1900' #3 hours out from effective time? Should be same init time in storm report?\n",
    "\n",
    "for date in dates:\n",
    "    #path = f'/work/samuel.varga/data/2to6_hr_severe_wx/SummaryFiles/{date}/{init_time}'\n",
    "    path = f'/work/mflora/SummaryFiles/{date}/{init_time}' #What files would I need to make it myself? Env and storm variables?\n",
    "    out_path = join(f'/work/samuel.varga/data/{TIMESCALE}_hr_severe_wx/{FRAMEWORK}', 'Single') \n",
    "\n",
    "    X_env, X_strm, ncfile, llgrid  = load_dataset(path, TIMESCALE=TIMESCALE)\n",
    "    extracter = GridPointExtracter(ncfile, env_vars=X_env.keys(), strm_vars=X_strm.keys(), ll_grid=llgrid, TIMESCALE=TIMESCALE, FRAMEWORK=FRAMEWORK)\n",
    "    df = extracter(X_env, X_strm, predict=True) #True \n",
    "    df.reset_index(drop=True, inplace=True)\n",
    "    print(len(df))\n",
    "    \n",
    "    out_name = join(out_path, f'wofs_ml_severe__{TIMESCALE}hr__{date}_data.feather')\n",
    "    print(f'Saving {out_name}...')\n",
    "    df.to_feather(out_name)"
   ]
  },
  {
   "cell_type": "markdown",
   "id": "e1c9a506",
   "metadata": {},
   "source": [
    "# Trouble shooting steps"
   ]
  },
  {
   "cell_type": "code",
   "execution_count": 3,
   "id": "18531d15",
   "metadata": {},
   "outputs": [],
   "source": [
    "import pandas as pd\n",
    "import matplotlib.pyplot as plt\n",
    "X=pd.read_feather('/work/samuel.varga/data/0to3_hr_severe_wx/ADAM/Single/wofs_ml_severe__0to3hr__20180512_data.feather')"
   ]
  },
  {
   "cell_type": "code",
   "execution_count": 16,
   "id": "7595d466",
   "metadata": {},
   "outputs": [],
   "source": [
    "import numpy as np\n",
    "x=np.arange(0,10)"
   ]
  },
  {
   "cell_type": "code",
   "execution_count": 21,
   "id": "a8a81ea3",
   "metadata": {},
   "outputs": [
    {
     "data": {
      "text/plain": [
       "array([0, 1, 2, 3, 4, 5, 6, 7, 8, 9])"
      ]
     },
     "execution_count": 21,
     "metadata": {},
     "output_type": "execute_result"
    }
   ],
   "source": [
    "x[::None]"
   ]
  },
  {
   "cell_type": "code",
   "execution_count": 20,
   "id": "32345781",
   "metadata": {},
   "outputs": [],
   "source": []
  },
  {
   "cell_type": "code",
   "execution_count": 16,
   "id": "863d1192",
   "metadata": {},
   "outputs": [
    {
     "name": "stdout",
     "output_type": "stream",
     "text": [
      "POTVIN\n",
      "True and POTVIN\n",
      "False and POTVIN\n",
      "7056\n",
      "Saving /work/samuel.varga/data/2to6_hr_severe_wx/POTVIN/Single/wofs_ML2TO6.feather...\n",
      "2116\n",
      "ADAM\n",
      "True and ADAM\n",
      "False and ADAM\n",
      "dict_keys(['uh_2to5_instant__time_max__9km__smoothed'])\n",
      "dict_keys(['uh_2to5_instant__time_max__4km', 'uh_0to2_instant__time_max__4km', 'wz_0to2_instant__time_max__4km', 'comp_dz__time_max__4km', 'ws_80__time_max__4km', 'hailcast__time_max__4km', 'w_up__time_max__4km', 'okubo_weiss__time_max__4km'])\n",
      "7056\n",
      "Saving /work/samuel.varga/data/2to6_hr_severe_wx/ADAM/Single/wofs_ML2TO6.feather...\n",
      "2116\n"
     ]
    }
   ],
   "source": [
    "FRAMEWORK=['POTVIN','ADAM']; TIMESCALE='2to6'; date='20180524'; init_time='0000'\n",
    "base_path = f'/work/mflora/SummaryFiles/{date}/{init_time}'\n",
    "SUMMARY_FILE_OUT_PATH = '/work/samuel.varga/data/{}_hr_severe_wx'.format(TIMESCALE) \n",
    "X_env, X_strm, ncfile, ll_grid  = load_dataset(base_path, TIMESCALE=TIMESCALE) #Load the files for the time scale\n",
    "inds=None #set to none\n",
    "    \n",
    "for framework in FRAMEWORK:\n",
    "        print(framework)\n",
    "        extracter = GridPointExtracter(ncfile, env_vars=X_env.keys(), strm_vars=X_strm.keys(), ll_grid=ll_grid, TIMESCALE=TIMESCALE, FRAMEWORK=framework) #Def GPE-- pass timescale and framework through\n",
    "        df = extracter(X_env, X_strm) #Apply GPE to the env and storm\n",
    "        print(len(df))\n",
    "        #ys = [f for f in df.columns if 'severe' in f]\n",
    "        #y_df = df[ys].sum(axis='columns')\n",
    "\n",
    "        # Sampling all grid points with an event, but only 15% of \n",
    "        # grid points with no events. \n",
    "        #inds = subsampler(y_df, pos_percent=1.0, neg_percent=1.0) #Loken et. didn't resample, so use 1\n",
    "\n",
    "        if inds is None: #Inds will be none on the first call. For the second framework, inds will already be assigned\n",
    "            inds = random_subsampler(len(df), percent=0.3)\n",
    "        \n",
    "        df_sub = df.iloc[inds, :] #Selects subset based on inds-- will choose the same indices for both frameworks\n",
    "        df_sub.reset_index(drop=True, inplace=True)\n",
    "\n",
    "        out_path = path.replace(base_path, join(SUMMARY_FILE_OUT_PATH, f'{framework}/Single')) #replace the base path with the output path\n",
    "        if not exists(out_path):\n",
    "            os.makedirs(out_path)\n",
    "\n",
    "        out_name = join(out_path, 'wofs_ML{}.feather'.format(TIMESCALE.upper()))\n",
    "        print(f'Saving {out_name}...')\n",
    "        print(len(df_sub))\n",
    "        df_sub.to_feather(out_name)"
   ]
  },
  {
   "cell_type": "code",
   "execution_count": 7,
   "id": "469dd6fa",
   "metadata": {},
   "outputs": [
    {
     "data": {
      "text/plain": [
       "array([ 25,   9, 125,  98,  44, 149,  41,  63, 116,  61, 143,   2, 127,\n",
       "        94,  69,  86, 123, 111, 148, 147, 138,  68, 129, 139,  90, 122,\n",
       "         3,   8,   0, 109,  45,  16,  76,  60,  50, 119,  74, 134, 126,\n",
       "        33,  89,  10, 135, 108, 120])"
      ]
     },
     "execution_count": 7,
     "metadata": {},
     "output_type": "execute_result"
    }
   ],
   "source": [
    "random_subsampler(150, percent=0.3)"
   ]
  },
  {
   "cell_type": "code",
   "execution_count": null,
   "id": "78938df5",
   "metadata": {},
   "outputs": [],
   "source": []
  }
 ],
 "metadata": {
  "kernelspec": {
   "display_name": "Vanilla",
   "language": "python",
   "name": "vanilla"
  },
  "language_info": {
   "codemirror_mode": {
    "name": "ipython",
    "version": 3
   },
   "file_extension": ".py",
   "mimetype": "text/x-python",
   "name": "python",
   "nbconvert_exporter": "python",
   "pygments_lexer": "ipython3",
   "version": "3.10.4"
  }
 },
 "nbformat": 4,
 "nbformat_minor": 5
}
