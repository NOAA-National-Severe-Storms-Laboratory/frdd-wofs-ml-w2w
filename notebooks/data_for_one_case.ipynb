{
 "cells": [
  {
   "cell_type": "code",
   "execution_count": 1,
   "id": "fe14bb8d",
   "metadata": {},
   "outputs": [
    {
     "name": "stdout",
     "output_type": "stream",
     "text": [
      "lookup_file: /home/samuel.varga/python_packages/WoF_post/wofs/data/psadilookup.dat\n"
     ]
    }
   ],
   "source": [
    "import sys \n",
    "sys.path.append('/home/samuel.varga/python_packages/wofs_ml_severe')\n",
    "sys.path.append('/home/samuel.varga/python_packages/WoF_post')\n",
    "sys.path.append('/home/samuel.varga/projects/2to6_hr_severe_wx/experiments')\n",
    "sys.path.append('/home/samuel.varga/python_packages/MontePython/')\n",
    "from ml_2to6_data_pipeline import (GridPointExtracter,\n",
    "                                                       subsampler, \n",
    "                                                       load_dataset, random_subsampler)\n",
    "from os.path import join, exists"
   ]
  },
  {
   "cell_type": "raw",
   "id": "71d560da",
   "metadata": {},
   "source": [
    "array(['20180503', '20180504', '20180514', '20180515', '20180521',\n",
    "       '20180524', '20180525', '20180527', '20180530', '20190502',\n",
    "       '20190503', '20190507', '20190508', '20190509', '20190510',\n",
    "       '20190528', '20200501', '20200505', '20200508', '20200522',\n",
    "       '20210504', '20210505', '20210506', '20210517', '20210523'],\n",
    "      dtype=object)"
   ]
  },
  {
   "cell_type": "code",
   "execution_count": 2,
   "id": "98479960",
   "metadata": {},
   "outputs": [],
   "source": [
    "from wofs_ml_severe.data_pipeline.storm_report_loader import StormReportLoader\n",
    "from itertools import product"
   ]
  },
  {
   "cell_type": "code",
   "execution_count": 3,
   "id": "5b267aa0",
   "metadata": {},
   "outputs": [],
   "source": [
    "FRAMEWORKS=['POTVIN']\n",
    "TIMESCALE='2to6'\n",
    "init_times=['2100','2200','2300','0000','0100']#['1900','2000','2100','2200','2300','0000','0100','0200','0300'] #17-03\n",
    "dates= ['20190526'] #['20190520','20190523','20200507','20210523']"
   ]
  },
  {
   "cell_type": "code",
   "execution_count": null,
   "id": "09505fc0",
   "metadata": {},
   "outputs": [
    {
     "name": "stdout",
     "output_type": "stream",
     "text": [
      "/work/mflora/SummaryFiles/20190526/2100\n",
      "/work/samuel.varga/data/2to6_hr_severe_wx/POTVIN/Single/2100\n",
      "True and POTVIN\n",
      "False and POTVIN\n",
      "10000\n",
      "Saving /work/samuel.varga/data/2to6_hr_severe_wx/POTVIN/Single/2100/wofs_ml_severe__2to6hr__20190526_data.feather...\n",
      "/work/mflora/SummaryFiles/20190526/2200\n",
      "/work/samuel.varga/data/2to6_hr_severe_wx/POTVIN/Single/2200\n",
      "True and POTVIN\n",
      "False and POTVIN\n",
      "10000\n",
      "Saving /work/samuel.varga/data/2to6_hr_severe_wx/POTVIN/Single/2200/wofs_ml_severe__2to6hr__20190526_data.feather...\n",
      "/work/mflora/SummaryFiles/20190526/2300\n",
      "/work/samuel.varga/data/2to6_hr_severe_wx/POTVIN/Single/2300\n",
      "True and POTVIN\n",
      "False and POTVIN\n",
      "10000\n",
      "Saving /work/samuel.varga/data/2to6_hr_severe_wx/POTVIN/Single/2300/wofs_ml_severe__2to6hr__20190526_data.feather...\n",
      "/work/mflora/SummaryFiles/20190526/0000\n",
      "/work/samuel.varga/data/2to6_hr_severe_wx/POTVIN/Single/0000\n"
     ]
    }
   ],
   "source": [
    "#1700-0300\n",
    "#so 2-6 can be valid from 1900-0900\n",
    "#0-3 can be valid from 1700-0600\n",
    "#Comparison init times must be [1900,0100] for 0-3 and 2-6\n",
    "\n",
    "for init_time, date, FRAMEWORK in product(init_times, dates, FRAMEWORKS):\n",
    "    if TIMESCALE=='0to3' and init_time is None:\n",
    "        init_time='0000'#Predictions valid from 0000-0300\n",
    "    elif TIMESCALE=='2to6' and init_time is None:\n",
    "        init_time='0000' #Predictions valid from 0000-0400 this would actually be valid the day after, so change this\n",
    "\n",
    "    path = f'/work/mflora/SummaryFiles/{date}/{init_time}' #What files would I need to make it myself? Env and storm variables?\n",
    "    out_path = join(f'/work/samuel.varga/data/{TIMESCALE}_hr_severe_wx/{FRAMEWORK}', f'Single/{init_time}') \n",
    "    \n",
    "    print(path)\n",
    "    print(out_path)\n",
    "    \n",
    "    X_env, X_strm, ncfile, llgrid  = load_dataset(path, TIMESCALE=TIMESCALE)\n",
    "    extracter = GridPointExtracter(ncfile, env_vars=X_env.keys(), strm_vars=X_strm.keys(), ll_grid=llgrid, TIMESCALE=TIMESCALE, FRAMEWORK=FRAMEWORK)\n",
    "    df = extracter(X_env, X_strm, predict=False) \n",
    "    df.reset_index(drop=True, inplace=True)\n",
    "    print(len(df)) #10000\n",
    "    \n",
    "    out_name = join(out_path, f'wofs_ml_severe__{TIMESCALE}hr__{date}_data.feather')\n",
    "    print(f'Saving {out_name}...')\n",
    "    df.to_feather(out_name)"
   ]
  },
  {
   "cell_type": "markdown",
   "id": "e1c9a506",
   "metadata": {},
   "source": [
    "# Trouble shooting steps"
   ]
  },
  {
   "cell_type": "code",
   "execution_count": null,
   "id": "2e39b6e0",
   "metadata": {},
   "outputs": [],
   "source": [
    "print(df.columns)"
   ]
  },
  {
   "cell_type": "code",
   "execution_count": 3,
   "id": "18531d15",
   "metadata": {},
   "outputs": [],
   "source": [
    "import pandas as pd\n",
    "import matplotlib.pyplot as plt\n",
    "X=pd.read_feather('/work/samuel.varga/data/0to3_hr_severe_wx/ADAM/Single/wofs_ml_severe__0to3hr__20180512_data.feather')"
   ]
  },
  {
   "cell_type": "code",
   "execution_count": 16,
   "id": "7595d466",
   "metadata": {},
   "outputs": [],
   "source": [
    "import numpy as np\n",
    "x=np.arange(0,10)"
   ]
  },
  {
   "cell_type": "code",
   "execution_count": 21,
   "id": "a8a81ea3",
   "metadata": {},
   "outputs": [
    {
     "data": {
      "text/plain": [
       "array([0, 1, 2, 3, 4, 5, 6, 7, 8, 9])"
      ]
     },
     "execution_count": 21,
     "metadata": {},
     "output_type": "execute_result"
    }
   ],
   "source": [
    "x[::None]"
   ]
  },
  {
   "cell_type": "code",
   "execution_count": 20,
   "id": "32345781",
   "metadata": {},
   "outputs": [],
   "source": []
  },
  {
   "cell_type": "code",
   "execution_count": 7,
   "id": "863d1192",
   "metadata": {},
   "outputs": [
    {
     "name": "stdout",
     "output_type": "stream",
     "text": [
      "POTVIN\n"
     ]
    },
    {
     "ename": "KeyboardInterrupt",
     "evalue": "",
     "output_type": "error",
     "traceback": [
      "\u001b[0;31m---------------------------------------------------------------------------\u001b[0m",
      "\u001b[0;31mKeyboardInterrupt\u001b[0m                         Traceback (most recent call last)",
      "Input \u001b[0;32mIn [7]\u001b[0m, in \u001b[0;36m<cell line: 7>\u001b[0;34m()\u001b[0m\n\u001b[1;32m      8\u001b[0m \u001b[38;5;28mprint\u001b[39m(framework)\n\u001b[1;32m      9\u001b[0m extracter \u001b[38;5;241m=\u001b[39m GridPointExtracter(ncfile, env_vars\u001b[38;5;241m=\u001b[39mX_env\u001b[38;5;241m.\u001b[39mkeys(), strm_vars\u001b[38;5;241m=\u001b[39mX_strm\u001b[38;5;241m.\u001b[39mkeys(), ll_grid\u001b[38;5;241m=\u001b[39mll_grid, TIMESCALE\u001b[38;5;241m=\u001b[39mTIMESCALE, FRAMEWORK\u001b[38;5;241m=\u001b[39mframework) \u001b[38;5;66;03m#Def GPE-- pass timescale and framework through\u001b[39;00m\n\u001b[0;32m---> 10\u001b[0m df \u001b[38;5;241m=\u001b[39m \u001b[43mextracter\u001b[49m\u001b[43m(\u001b[49m\u001b[43mX_env\u001b[49m\u001b[43m,\u001b[49m\u001b[43m \u001b[49m\u001b[43mX_strm\u001b[49m\u001b[43m)\u001b[49m \u001b[38;5;66;03m#Apply GPE to the env and storm\u001b[39;00m\n\u001b[1;32m     11\u001b[0m \u001b[38;5;28mprint\u001b[39m(\u001b[38;5;28mlen\u001b[39m(df))\n\u001b[1;32m     12\u001b[0m \u001b[38;5;66;03m#ys = [f for f in df.columns if 'severe' in f]\u001b[39;00m\n\u001b[1;32m     13\u001b[0m \u001b[38;5;66;03m#y_df = df[ys].sum(axis='columns')\u001b[39;00m\n\u001b[1;32m     14\u001b[0m \n\u001b[1;32m     15\u001b[0m \u001b[38;5;66;03m# Sampling all grid points with an event, but only 15% of \u001b[39;00m\n\u001b[1;32m     16\u001b[0m \u001b[38;5;66;03m# grid points with no events. \u001b[39;00m\n\u001b[1;32m     17\u001b[0m \u001b[38;5;66;03m#inds = subsampler(y_df, pos_percent=1.0, neg_percent=1.0) #Loken et. didn't resample, so use 1\u001b[39;00m\n",
      "File \u001b[0;32m~/projects/2to6_hr_severe_wx/experiments/ml_2to6_data_pipeline.py:209\u001b[0m, in \u001b[0;36mGridPointExtracter.__call__\u001b[0;34m(self, X_env, X_strm, predict)\u001b[0m\n\u001b[1;32m    203\u001b[0m \u001b[38;5;28;01mdef\u001b[39;00m \u001b[38;5;21m__call__\u001b[39m(\u001b[38;5;28mself\u001b[39m, X_env, X_strm, predict\u001b[38;5;241m=\u001b[39m\u001b[38;5;28;01mFalse\u001b[39;00m):\n\u001b[1;32m    204\u001b[0m     \n\u001b[1;32m    205\u001b[0m     \u001b[38;5;66;03m# TODO: Pre-processor. Get rid of super high updraft speeds, replace NaNs, etc. \u001b[39;00m\n\u001b[1;32m    206\u001b[0m      \n\u001b[1;32m    207\u001b[0m     \n\u001b[1;32m    208\u001b[0m     \u001b[38;5;66;03m# This X has had a 3-grid point gaussian smoother applied to it. -- Identical to original fields when upscale_size==1\u001b[39;00m\n\u001b[0;32m--> 209\u001b[0m     X_env_upscaled \u001b[38;5;241m=\u001b[39m {v  : \u001b[38;5;28mself\u001b[39m\u001b[38;5;241m.\u001b[39mupscaler(X_env[v], \n\u001b[1;32m    210\u001b[0m                                  func\u001b[38;5;241m=\u001b[39muniform_filter,\n\u001b[1;32m    211\u001b[0m                                  size\u001b[38;5;241m=\u001b[39m\u001b[38;5;28mself\u001b[39m\u001b[38;5;241m.\u001b[39m_upscale_size) \u001b[38;5;28;01mfor\u001b[39;00m v \u001b[38;5;129;01min\u001b[39;00m \u001b[38;5;28mself\u001b[39m\u001b[38;5;241m.\u001b[39m_env_vars}\n\u001b[1;32m    213\u001b[0m     \u001b[38;5;66;03m# This X has had a 3-grid point maximum filter applied to it. (See above note)\u001b[39;00m\n\u001b[1;32m    214\u001b[0m     X_strm_upscaled \u001b[38;5;241m=\u001b[39m {v : \u001b[38;5;28mself\u001b[39m\u001b[38;5;241m.\u001b[39mupscaler(X_strm[v], \n\u001b[1;32m    215\u001b[0m                                  func\u001b[38;5;241m=\u001b[39mmaximum_filter,\n\u001b[1;32m    216\u001b[0m                                  size\u001b[38;5;241m=\u001b[39m\u001b[38;5;28mself\u001b[39m\u001b[38;5;241m.\u001b[39m_upscale_size) \u001b[38;5;28;01mfor\u001b[39;00m v \u001b[38;5;129;01min\u001b[39;00m \u001b[38;5;28mself\u001b[39m\u001b[38;5;241m.\u001b[39m_strm_vars}\n",
      "File \u001b[0;32m~/projects/2to6_hr_severe_wx/experiments/ml_2to6_data_pipeline.py:209\u001b[0m, in \u001b[0;36m<dictcomp>\u001b[0;34m(.0)\u001b[0m\n\u001b[1;32m    203\u001b[0m \u001b[38;5;28;01mdef\u001b[39;00m \u001b[38;5;21m__call__\u001b[39m(\u001b[38;5;28mself\u001b[39m, X_env, X_strm, predict\u001b[38;5;241m=\u001b[39m\u001b[38;5;28;01mFalse\u001b[39;00m):\n\u001b[1;32m    204\u001b[0m     \n\u001b[1;32m    205\u001b[0m     \u001b[38;5;66;03m# TODO: Pre-processor. Get rid of super high updraft speeds, replace NaNs, etc. \u001b[39;00m\n\u001b[1;32m    206\u001b[0m      \n\u001b[1;32m    207\u001b[0m     \n\u001b[1;32m    208\u001b[0m     \u001b[38;5;66;03m# This X has had a 3-grid point gaussian smoother applied to it. -- Identical to original fields when upscale_size==1\u001b[39;00m\n\u001b[0;32m--> 209\u001b[0m     X_env_upscaled \u001b[38;5;241m=\u001b[39m {v  : \u001b[38;5;28;43mself\u001b[39;49m\u001b[38;5;241;43m.\u001b[39;49m\u001b[43mupscaler\u001b[49m\u001b[43m(\u001b[49m\u001b[43mX_env\u001b[49m\u001b[43m[\u001b[49m\u001b[43mv\u001b[49m\u001b[43m]\u001b[49m\u001b[43m,\u001b[49m\u001b[43m \u001b[49m\n\u001b[1;32m    210\u001b[0m \u001b[43m                                 \u001b[49m\u001b[43mfunc\u001b[49m\u001b[38;5;241;43m=\u001b[39;49m\u001b[43muniform_filter\u001b[49m\u001b[43m,\u001b[49m\n\u001b[1;32m    211\u001b[0m \u001b[43m                                 \u001b[49m\u001b[43msize\u001b[49m\u001b[38;5;241;43m=\u001b[39;49m\u001b[38;5;28;43mself\u001b[39;49m\u001b[38;5;241;43m.\u001b[39;49m\u001b[43m_upscale_size\u001b[49m\u001b[43m)\u001b[49m \u001b[38;5;28;01mfor\u001b[39;00m v \u001b[38;5;129;01min\u001b[39;00m \u001b[38;5;28mself\u001b[39m\u001b[38;5;241m.\u001b[39m_env_vars}\n\u001b[1;32m    213\u001b[0m     \u001b[38;5;66;03m# This X has had a 3-grid point maximum filter applied to it. (See above note)\u001b[39;00m\n\u001b[1;32m    214\u001b[0m     X_strm_upscaled \u001b[38;5;241m=\u001b[39m {v : \u001b[38;5;28mself\u001b[39m\u001b[38;5;241m.\u001b[39mupscaler(X_strm[v], \n\u001b[1;32m    215\u001b[0m                                  func\u001b[38;5;241m=\u001b[39mmaximum_filter,\n\u001b[1;32m    216\u001b[0m                                  size\u001b[38;5;241m=\u001b[39m\u001b[38;5;28mself\u001b[39m\u001b[38;5;241m.\u001b[39m_upscale_size) \u001b[38;5;28;01mfor\u001b[39;00m v \u001b[38;5;129;01min\u001b[39;00m \u001b[38;5;28mself\u001b[39m\u001b[38;5;241m.\u001b[39m_strm_vars}\n",
      "File \u001b[0;32m~/projects/2to6_hr_severe_wx/experiments/ml_2to6_data_pipeline.py:398\u001b[0m, in \u001b[0;36mGridPointExtracter.upscaler\u001b[0;34m(self, X, func, size, remove_nans)\u001b[0m\n\u001b[1;32m    396\u001b[0m \u001b[38;5;28;01mfor\u001b[39;00m t,n \u001b[38;5;129;01min\u001b[39;00m itertools\u001b[38;5;241m.\u001b[39mproduct(\u001b[38;5;28mrange\u001b[39m(new_X\u001b[38;5;241m.\u001b[39mshape[\u001b[38;5;241m0\u001b[39m]), \u001b[38;5;28mrange\u001b[39m(\u001b[38;5;28mself\u001b[39m\u001b[38;5;241m.\u001b[39m_n_ens)):\n\u001b[1;32m    397\u001b[0m     X_ \u001b[38;5;241m=\u001b[39m np\u001b[38;5;241m.\u001b[39mnan_to_num(X[t,n,:,:], nan\u001b[38;5;241m=\u001b[39mfill_value)\n\u001b[0;32m--> 398\u001b[0m     new_X[t,n,:,:] \u001b[38;5;241m=\u001b[39m \u001b[38;5;28;43mself\u001b[39;49m\u001b[38;5;241;43m.\u001b[39;49m\u001b[43mresample\u001b[49m\u001b[43m(\u001b[49m\u001b[43mfunc\u001b[49m\u001b[43m(\u001b[49m\u001b[43mX_\u001b[49m\u001b[43m,\u001b[49m\u001b[43m \u001b[49m\u001b[43msize\u001b[49m\u001b[43m)\u001b[49m\u001b[43m)\u001b[49m \u001b[38;5;66;03m#Time, Ens Member, lat/lon\u001b[39;00m\n\u001b[1;32m    400\u001b[0m \u001b[38;5;28;01mreturn\u001b[39;00m new_X\n",
      "File \u001b[0;32m~/projects/2to6_hr_severe_wx/experiments/ml_2to6_data_pipeline.py:359\u001b[0m, in \u001b[0;36mGridPointExtracter.resample\u001b[0;34m(self, variable)\u001b[0m\n\u001b[1;32m    339\u001b[0m \u001b[38;5;124;03m'''\u001b[39;00m\n\u001b[1;32m    340\u001b[0m \u001b[38;5;124;03mResamples (i.e., re-projects, re-grid) the original grid to the target grid \u001b[39;00m\n\u001b[1;32m    341\u001b[0m \u001b[38;5;124;03musing a nearest neighborhood approach\u001b[39;00m\n\u001b[0;32m   (...)\u001b[0m\n\u001b[1;32m    356\u001b[0m \u001b[38;5;124;03m    variable_nearest, 2D array of variable resampled to the target grid\u001b[39;00m\n\u001b[1;32m    357\u001b[0m \u001b[38;5;124;03m'''\u001b[39;00m\n\u001b[1;32m    358\u001b[0m \u001b[38;5;66;03m# Create a pyresample object holding the original grid\u001b[39;00m\n\u001b[0;32m--> 359\u001b[0m orig_def \u001b[38;5;241m=\u001b[39m \u001b[43mpyresample\u001b[49m\u001b[38;5;241;43m.\u001b[39;49m\u001b[43mgeometry\u001b[49m\u001b[38;5;241;43m.\u001b[39;49m\u001b[43mSwathDefinition\u001b[49m\u001b[43m(\u001b[49m\u001b[43mlons\u001b[49m\u001b[38;5;241;43m=\u001b[39;49m\u001b[38;5;28;43mself\u001b[39;49m\u001b[38;5;241;43m.\u001b[39;49m\u001b[43m_original_grid\u001b[49m\u001b[43m[\u001b[49m\u001b[38;5;241;43m1\u001b[39;49m\u001b[43m]\u001b[49m\u001b[43m,\u001b[49m\u001b[43m \u001b[49m\u001b[43mlats\u001b[49m\u001b[38;5;241;43m=\u001b[39;49m\u001b[38;5;28;43mself\u001b[39;49m\u001b[38;5;241;43m.\u001b[39;49m\u001b[43m_original_grid\u001b[49m\u001b[43m[\u001b[49m\u001b[38;5;241;43m0\u001b[39;49m\u001b[43m]\u001b[49m\u001b[43m)\u001b[49m\n\u001b[1;32m    361\u001b[0m \u001b[38;5;66;03m# Create another pyresample object for the target grid\u001b[39;00m\n\u001b[1;32m    362\u001b[0m targ_def \u001b[38;5;241m=\u001b[39m pyresample\u001b[38;5;241m.\u001b[39mgeometry\u001b[38;5;241m.\u001b[39mSwathDefinition(lons\u001b[38;5;241m=\u001b[39m\u001b[38;5;28mself\u001b[39m\u001b[38;5;241m.\u001b[39m_target_grid[\u001b[38;5;241m1\u001b[39m], lats\u001b[38;5;241m=\u001b[39m\u001b[38;5;28mself\u001b[39m\u001b[38;5;241m.\u001b[39m_target_grid[\u001b[38;5;241m0\u001b[39m])\n",
      "File \u001b[0;32m~/miniconda3/envs/Vanilla/lib/python3.10/site-packages/pyresample/geometry.py:752\u001b[0m, in \u001b[0;36mSwathDefinition.__init__\u001b[0;34m(self, lons, lats, nprocs, crs)\u001b[0m\n\u001b[1;32m    750\u001b[0m \u001b[38;5;28;01melif\u001b[39;00m lons\u001b[38;5;241m.\u001b[39mndim \u001b[38;5;241m>\u001b[39m \u001b[38;5;241m2\u001b[39m:\n\u001b[1;32m    751\u001b[0m     \u001b[38;5;28;01mraise\u001b[39;00m \u001b[38;5;167;01mValueError\u001b[39;00m(\u001b[38;5;124m'\u001b[39m\u001b[38;5;124mOnly 1 and 2 dimensional swaths are allowed\u001b[39m\u001b[38;5;124m'\u001b[39m)\n\u001b[0;32m--> 752\u001b[0m \u001b[38;5;28mself\u001b[39m\u001b[38;5;241m.\u001b[39mcrs \u001b[38;5;241m=\u001b[39m crs \u001b[38;5;129;01mor\u001b[39;00m \u001b[43mCRS\u001b[49m\u001b[43m(\u001b[49m\u001b[43mproj\u001b[49m\u001b[38;5;241;43m=\u001b[39;49m\u001b[38;5;124;43m\"\u001b[39;49m\u001b[38;5;124;43mlonglat\u001b[39;49m\u001b[38;5;124;43m\"\u001b[39;49m\u001b[43m,\u001b[49m\u001b[43m \u001b[49m\u001b[43mellps\u001b[49m\u001b[38;5;241;43m=\u001b[39;49m\u001b[38;5;124;43m\"\u001b[39;49m\u001b[38;5;124;43mWGS84\u001b[39;49m\u001b[38;5;124;43m\"\u001b[39;49m\u001b[43m)\u001b[49m\n",
      "File \u001b[0;32m~/miniconda3/envs/Vanilla/lib/python3.10/site-packages/pyproj/crs/crs.py:344\u001b[0m, in \u001b[0;36mCRS.__init__\u001b[0;34m(self, projparams, **kwargs)\u001b[0m\n\u001b[1;32m    341\u001b[0m     projstring \u001b[38;5;241m=\u001b[39m _prepare_from_string(\u001b[38;5;124m\"\u001b[39m\u001b[38;5;124m \u001b[39m\u001b[38;5;124m\"\u001b[39m\u001b[38;5;241m.\u001b[39mjoin((projstring, projkwargs)))\n\u001b[1;32m    343\u001b[0m \u001b[38;5;28mself\u001b[39m\u001b[38;5;241m.\u001b[39msrs \u001b[38;5;241m=\u001b[39m projstring\n\u001b[0;32m--> 344\u001b[0m \u001b[38;5;28mself\u001b[39m\u001b[38;5;241m.\u001b[39m_local \u001b[38;5;241m=\u001b[39m \u001b[43mCRSLocal\u001b[49m\u001b[43m(\u001b[49m\u001b[43m)\u001b[49m\n\u001b[1;32m    345\u001b[0m \u001b[38;5;28;01mif\u001b[39;00m \u001b[38;5;28misinstance\u001b[39m(projparams, _CRS):\n\u001b[1;32m    346\u001b[0m     \u001b[38;5;28mself\u001b[39m\u001b[38;5;241m.\u001b[39m_local\u001b[38;5;241m.\u001b[39mcrs \u001b[38;5;241m=\u001b[39m projparams\n",
      "File \u001b[0;32m~/miniconda3/envs/Vanilla/lib/python3.10/site-packages/pyproj/crs/crs.py:60\u001b[0m, in \u001b[0;36mCRSLocal.__init__\u001b[0;34m(self)\u001b[0m\n\u001b[1;32m     52\u001b[0m \u001b[38;5;28;01mclass\u001b[39;00m \u001b[38;5;21;01mCRSLocal\u001b[39;00m(threading\u001b[38;5;241m.\u001b[39mlocal):\n\u001b[1;32m     53\u001b[0m     \u001b[38;5;124;03m\"\"\"\u001b[39;00m\n\u001b[1;32m     54\u001b[0m \u001b[38;5;124;03m    Threading local instance for cython CRS class.\u001b[39;00m\n\u001b[1;32m     55\u001b[0m \n\u001b[1;32m     56\u001b[0m \u001b[38;5;124;03m    For more details, see:\u001b[39;00m\n\u001b[1;32m     57\u001b[0m \u001b[38;5;124;03m    https://github.com/pyproj4/pyproj/issues/782\u001b[39;00m\n\u001b[1;32m     58\u001b[0m \u001b[38;5;124;03m    \"\"\"\u001b[39;00m\n\u001b[0;32m---> 60\u001b[0m     \u001b[38;5;28;01mdef\u001b[39;00m \u001b[38;5;21m__init__\u001b[39m(\u001b[38;5;28mself\u001b[39m):\n\u001b[1;32m     61\u001b[0m         \u001b[38;5;28mself\u001b[39m\u001b[38;5;241m.\u001b[39mcrs \u001b[38;5;241m=\u001b[39m \u001b[38;5;28;01mNone\u001b[39;00m  \u001b[38;5;66;03m# Initialises in each thread\u001b[39;00m\n\u001b[1;32m     62\u001b[0m         \u001b[38;5;28msuper\u001b[39m()\u001b[38;5;241m.\u001b[39m\u001b[38;5;21m__init__\u001b[39m()\n",
      "\u001b[0;31mKeyboardInterrupt\u001b[0m: "
     ]
    }
   ],
   "source": [
    "FRAMEWORK=['POTVIN','ADAM']; TIMESCALE='2to6'; date='20180524'; init_time='0000'\n",
    "base_path = f'/work/mflora/SummaryFiles/{date}/{init_time}'\n",
    "SUMMARY_FILE_OUT_PATH = '/work/samuel.varga/data/{}_hr_severe_wx'.format(TIMESCALE) \n",
    "X_env, X_strm, ncfile, ll_grid  = load_dataset(base_path, TIMESCALE=TIMESCALE) #Load the files for the time scale\n",
    "inds=None #set to none\n",
    "    \n",
    "for framework in FRAMEWORK:\n",
    "        print(framework)\n",
    "        extracter = GridPointExtracter(ncfile, env_vars=X_env.keys(), strm_vars=X_strm.keys(), ll_grid=ll_grid, TIMESCALE=TIMESCALE, FRAMEWORK=framework) #Def GPE-- pass timescale and framework through\n",
    "        df = extracter(X_env, X_strm) #Apply GPE to the env and storm\n",
    "        print(len(df))\n",
    "        #ys = [f for f in df.columns if 'severe' in f]\n",
    "        #y_df = df[ys].sum(axis='columns')\n",
    "\n",
    "        # Sampling all grid points with an event, but only 15% of \n",
    "        # grid points with no events. \n",
    "        #inds = subsampler(y_df, pos_percent=1.0, neg_percent=1.0) #Loken et. didn't resample, so use 1\n",
    "\n",
    "        if inds is None: #Inds will be none on the first call. For the second framework, inds will already be assigned\n",
    "            inds = random_subsampler(len(df), percent=0.3)\n",
    "        \n",
    "        df_sub = df.iloc[inds, :] #Selects subset based on inds-- will choose the same indices for both frameworks\n",
    "        df_sub.reset_index(drop=True, inplace=True)\n",
    "\n",
    "        out_path = path.replace(base_path, join(SUMMARY_FILE_OUT_PATH, f'{framework}/Single')) #replace the base path with the output path\n",
    "        if not exists(out_path):\n",
    "            os.makedirs(out_path)\n",
    "\n",
    "        out_name = join(out_path, 'wofs_ML{}.feather'.format(TIMESCALE.upper()))\n",
    "        print(f'Saving {out_name}...')\n",
    "        print(len(df_sub))\n",
    "        df_sub.to_feather(out_name)"
   ]
  },
  {
   "cell_type": "code",
   "execution_count": 7,
   "id": "469dd6fa",
   "metadata": {},
   "outputs": [
    {
     "data": {
      "text/plain": [
       "array([ 25,   9, 125,  98,  44, 149,  41,  63, 116,  61, 143,   2, 127,\n",
       "        94,  69,  86, 123, 111, 148, 147, 138,  68, 129, 139,  90, 122,\n",
       "         3,   8,   0, 109,  45,  16,  76,  60,  50, 119,  74, 134, 126,\n",
       "        33,  89,  10, 135, 108, 120])"
      ]
     },
     "execution_count": 7,
     "metadata": {},
     "output_type": "execute_result"
    }
   ],
   "source": [
    "random_subsampler(150, percent=0.3)"
   ]
  },
  {
   "cell_type": "code",
   "execution_count": null,
   "id": "78938df5",
   "metadata": {},
   "outputs": [],
   "source": []
  }
 ],
 "metadata": {
  "kernelspec": {
   "display_name": "Vanilla",
   "language": "python",
   "name": "vanilla"
  },
  "language_info": {
   "codemirror_mode": {
    "name": "ipython",
    "version": 3
   },
   "file_extension": ".py",
   "mimetype": "text/x-python",
   "name": "python",
   "nbconvert_exporter": "python",
   "pygments_lexer": "ipython3",
   "version": "3.10.5"
  }
 },
 "nbformat": 4,
 "nbformat_minor": 5
}
