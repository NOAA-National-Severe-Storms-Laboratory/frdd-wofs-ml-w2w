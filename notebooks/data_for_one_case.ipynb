{
 "cells": [
  {
   "cell_type": "code",
   "execution_count": 1,
   "id": "fe14bb8d",
   "metadata": {},
   "outputs": [
    {
     "name": "stdout",
     "output_type": "stream",
     "text": [
      "lookup_file: /home/samuel.varga/python_packages/WoF_post/wofs/data/psadilookup.dat\n"
     ]
    }
   ],
   "source": [
    "import sys \n",
    "sys.path.append('/home/samuel.varga/python_packages/wofs_ml_severe')\n",
    "sys.path.append('/home/samuel.varga/python_packages/WoF_post')\n",
    "#sys.path.append('/home/samuel.varga/python_packages/wofs_ml_severe')\n",
    "sys.path.append('/home/samuel.varga/projects/2to6_hr_severe_wx/experiments')\n",
    "sys.path.append('/home/samuel.varga/python_packages/MontePython/')\n",
    "#from ml_2to6_data_pipeline import (GridPointExtracter,\n",
    "#                                                       subsampler, \n",
    "#                                                       load_dataset)\n",
    "from ml_2to6_data_pipeline import (GridPointExtracter,\n",
    "                                                       subsampler, \n",
    "                                                       load_dataset, random_subsampler)\n",
    "from os.path import join, exists"
   ]
  },
  {
   "cell_type": "raw",
   "id": "71d560da",
   "metadata": {},
   "source": [
    "array(['20180503', '20180504', '20180514', '20180515', '20180521',\n",
    "       '20180524', '20180525', '20180527', '20180530', '20190502',\n",
    "       '20190503', '20190507', '20190508', '20190509', '20190510',\n",
    "       '20190528', '20200501', '20200505', '20200508', '20200522',\n",
    "       '20210504', '20210505', '20210506', '20210517', '20210523'],\n",
    "      dtype=object)"
   ]
  },
  {
   "cell_type": "code",
   "execution_count": 2,
   "id": "98479960",
   "metadata": {},
   "outputs": [],
   "source": [
    "from wofs_ml_severe.data_pipeline.storm_report_loader import StormReportLoader"
   ]
  },
  {
   "cell_type": "code",
   "execution_count": 4,
   "id": "5b267aa0",
   "metadata": {},
   "outputs": [],
   "source": [
    "#dates = ['20180504',\n",
    "#       '20180509', '20180512', '20180519', '20180524', '20180530',\n",
    "#       '20190513', '20190518', '20190521', '20190522', '20200520',\n",
    "#       '20200521', '20200526', '20200528', '20210506', '20210510',\n",
    "#       '20210513', '20210514', '20210521', '20210523', '20210524',\n",
    "#       '20210525']\n",
    "FRAMEWORK='ADAM'\n",
    "TIMESCALE='2to6'\n",
    "dates=[#'20180511', '20180514', '20180521', '20180531', '20190501',\n",
    "       #'20190502', '20190508', \n",
    "       '20190510', '20190515', '20190520'\n",
    "       \n",
    "        \n",
    "       '20190521', '20190523', '20190526', '20200506', '20200507',\n",
    "       '20200508', '20200519',\n",
    "    '20200529', '20210504', '20210507',\n",
    "       '20210510', '20210513', '20210520', '20210521', '20210523'\n",
    "           ]"
   ]
  },
  {
   "cell_type": "code",
   "execution_count": 5,
   "id": "09505fc0",
   "metadata": {},
   "outputs": [
    {
     "name": "stdout",
     "output_type": "stream",
     "text": [
      "True and ADAM\n",
      "False and ADAM\n",
      "dict_keys(['uh_2to5_instant__time_max__9km__smoothed'])\n",
      "dict_keys(['uh_2to5_instant__time_max__4km', 'uh_0to2_instant__time_max__4km', 'wz_0to2_instant__time_max__4km', 'comp_dz__time_max__4km', 'ws_80__time_max__4km', 'hailcast__time_max__4km', 'w_up__time_max__4km', 'okubo_weiss__time_max__4km'])\n",
      "7056\n",
      "Saving /work/samuel.varga/data/2to6_hr_severe_wx/ADAM/Single/wofs_ml_severe__2to6hr__20180511_data.feather...\n",
      "True and ADAM\n",
      "False and ADAM\n",
      "dict_keys(['uh_2to5_instant__time_max__9km__smoothed'])\n",
      "dict_keys(['uh_2to5_instant__time_max__4km', 'uh_0to2_instant__time_max__4km', 'wz_0to2_instant__time_max__4km', 'comp_dz__time_max__4km', 'ws_80__time_max__4km', 'hailcast__time_max__4km', 'w_up__time_max__4km', 'okubo_weiss__time_max__4km'])\n",
      "7056\n",
      "Saving /work/samuel.varga/data/2to6_hr_severe_wx/ADAM/Single/wofs_ml_severe__2to6hr__20180514_data.feather...\n",
      "True and ADAM\n",
      "False and ADAM\n",
      "dict_keys(['uh_2to5_instant__time_max__9km__smoothed'])\n",
      "dict_keys(['uh_2to5_instant__time_max__4km', 'uh_0to2_instant__time_max__4km', 'wz_0to2_instant__time_max__4km', 'comp_dz__time_max__4km', 'ws_80__time_max__4km', 'hailcast__time_max__4km', 'w_up__time_max__4km', 'okubo_weiss__time_max__4km'])\n",
      "7056\n",
      "Saving /work/samuel.varga/data/2to6_hr_severe_wx/ADAM/Single/wofs_ml_severe__2to6hr__20180521_data.feather...\n",
      "True and ADAM\n",
      "False and ADAM\n",
      "dict_keys(['uh_2to5_instant__time_max__9km__smoothed'])\n",
      "dict_keys(['uh_2to5_instant__time_max__4km', 'uh_0to2_instant__time_max__4km', 'wz_0to2_instant__time_max__4km', 'comp_dz__time_max__4km', 'ws_80__time_max__4km', 'hailcast__time_max__4km', 'w_up__time_max__4km', 'okubo_weiss__time_max__4km'])\n",
      "7056\n",
      "Saving /work/samuel.varga/data/2to6_hr_severe_wx/ADAM/Single/wofs_ml_severe__2to6hr__20180531_data.feather...\n",
      "True and ADAM\n",
      "False and ADAM\n",
      "dict_keys(['uh_2to5_instant__time_max__9km__smoothed'])\n",
      "dict_keys(['uh_2to5_instant__time_max__4km', 'uh_0to2_instant__time_max__4km', 'wz_0to2_instant__time_max__4km', 'comp_dz__time_max__4km', 'ws_80__time_max__4km', 'hailcast__time_max__4km', 'w_up__time_max__4km', 'okubo_weiss__time_max__4km'])\n",
      "10000\n",
      "Saving /work/samuel.varga/data/2to6_hr_severe_wx/ADAM/Single/wofs_ml_severe__2to6hr__20190501_data.feather...\n",
      "True and ADAM\n",
      "False and ADAM\n",
      "dict_keys(['uh_2to5_instant__time_max__9km__smoothed'])\n",
      "dict_keys(['uh_2to5_instant__time_max__4km', 'uh_0to2_instant__time_max__4km', 'wz_0to2_instant__time_max__4km', 'comp_dz__time_max__4km', 'ws_80__time_max__4km', 'hailcast__time_max__4km', 'w_up__time_max__4km', 'okubo_weiss__time_max__4km'])\n",
      "10000\n",
      "Saving /work/samuel.varga/data/2to6_hr_severe_wx/ADAM/Single/wofs_ml_severe__2to6hr__20190502_data.feather...\n",
      "True and ADAM\n",
      "False and ADAM\n",
      "dict_keys(['uh_2to5_instant__time_max__9km__smoothed'])\n",
      "dict_keys(['uh_2to5_instant__time_max__4km', 'uh_0to2_instant__time_max__4km', 'wz_0to2_instant__time_max__4km', 'comp_dz__time_max__4km', 'ws_80__time_max__4km', 'hailcast__time_max__4km', 'w_up__time_max__4km', 'okubo_weiss__time_max__4km'])\n",
      "10000\n",
      "Saving /work/samuel.varga/data/2to6_hr_severe_wx/ADAM/Single/wofs_ml_severe__2to6hr__20190508_data.feather...\n"
     ]
    },
    {
     "ename": "KeyboardInterrupt",
     "evalue": "",
     "output_type": "error",
     "traceback": [
      "\u001b[0;31m---------------------------------------------------------------------------\u001b[0m",
      "\u001b[0;31mKeyError\u001b[0m                                  Traceback (most recent call last)",
      "File \u001b[0;32m~/miniconda3/envs/Vanilla/lib/python3.10/site-packages/xarray/backends/file_manager.py:201\u001b[0m, in \u001b[0;36mCachingFileManager._acquire_with_cache_info\u001b[0;34m(self, needs_lock)\u001b[0m\n\u001b[1;32m    200\u001b[0m \u001b[38;5;28;01mtry\u001b[39;00m:\n\u001b[0;32m--> 201\u001b[0m     file \u001b[38;5;241m=\u001b[39m \u001b[38;5;28;43mself\u001b[39;49m\u001b[38;5;241;43m.\u001b[39;49m\u001b[43m_cache\u001b[49m\u001b[43m[\u001b[49m\u001b[38;5;28;43mself\u001b[39;49m\u001b[38;5;241;43m.\u001b[39;49m\u001b[43m_key\u001b[49m\u001b[43m]\u001b[49m\n\u001b[1;32m    202\u001b[0m \u001b[38;5;28;01mexcept\u001b[39;00m \u001b[38;5;167;01mKeyError\u001b[39;00m:\n",
      "File \u001b[0;32m~/miniconda3/envs/Vanilla/lib/python3.10/site-packages/xarray/backends/lru_cache.py:55\u001b[0m, in \u001b[0;36mLRUCache.__getitem__\u001b[0;34m(self, key)\u001b[0m\n\u001b[1;32m     54\u001b[0m \u001b[38;5;28;01mwith\u001b[39;00m \u001b[38;5;28mself\u001b[39m\u001b[38;5;241m.\u001b[39m_lock:\n\u001b[0;32m---> 55\u001b[0m     value \u001b[38;5;241m=\u001b[39m \u001b[38;5;28;43mself\u001b[39;49m\u001b[38;5;241;43m.\u001b[39;49m\u001b[43m_cache\u001b[49m\u001b[43m[\u001b[49m\u001b[43mkey\u001b[49m\u001b[43m]\u001b[49m\n\u001b[1;32m     56\u001b[0m     \u001b[38;5;28mself\u001b[39m\u001b[38;5;241m.\u001b[39m_cache\u001b[38;5;241m.\u001b[39mmove_to_end(key)\n",
      "\u001b[0;31mKeyError\u001b[0m: [<class 'netCDF4._netCDF4.Dataset'>, ('/work/mflora/SummaryFiles/20190510/2200/wofs_ENV_57_20190510_2200_0245.nc',), 'r', (('clobber', True), ('diskless', False), ('format', 'NETCDF4'), ('persist', False))]",
      "\nDuring handling of the above exception, another exception occurred:\n",
      "\u001b[0;31mKeyboardInterrupt\u001b[0m                         Traceback (most recent call last)",
      "Input \u001b[0;32mIn [5]\u001b[0m, in \u001b[0;36m<cell line: 10>\u001b[0;34m()\u001b[0m\n\u001b[1;32m     12\u001b[0m path \u001b[38;5;241m=\u001b[39m \u001b[38;5;124mf\u001b[39m\u001b[38;5;124m'\u001b[39m\u001b[38;5;124m/work/mflora/SummaryFiles/\u001b[39m\u001b[38;5;132;01m{\u001b[39;00mdate\u001b[38;5;132;01m}\u001b[39;00m\u001b[38;5;124m/\u001b[39m\u001b[38;5;132;01m{\u001b[39;00minit_time\u001b[38;5;132;01m}\u001b[39;00m\u001b[38;5;124m'\u001b[39m \u001b[38;5;66;03m#What files would I need to make it myself? Env and storm variables?\u001b[39;00m\n\u001b[1;32m     13\u001b[0m out_path \u001b[38;5;241m=\u001b[39m join(\u001b[38;5;124mf\u001b[39m\u001b[38;5;124m'\u001b[39m\u001b[38;5;124m/work/samuel.varga/data/\u001b[39m\u001b[38;5;132;01m{\u001b[39;00mTIMESCALE\u001b[38;5;132;01m}\u001b[39;00m\u001b[38;5;124m_hr_severe_wx/\u001b[39m\u001b[38;5;132;01m{\u001b[39;00mFRAMEWORK\u001b[38;5;132;01m}\u001b[39;00m\u001b[38;5;124m'\u001b[39m, \u001b[38;5;124m'\u001b[39m\u001b[38;5;124mSingle\u001b[39m\u001b[38;5;124m'\u001b[39m) \n\u001b[0;32m---> 15\u001b[0m X_env, X_strm, ncfile, llgrid  \u001b[38;5;241m=\u001b[39m \u001b[43mload_dataset\u001b[49m\u001b[43m(\u001b[49m\u001b[43mpath\u001b[49m\u001b[43m,\u001b[49m\u001b[43m \u001b[49m\u001b[43mTIMESCALE\u001b[49m\u001b[38;5;241;43m=\u001b[39;49m\u001b[43mTIMESCALE\u001b[49m\u001b[43m)\u001b[49m\n\u001b[1;32m     16\u001b[0m extracter \u001b[38;5;241m=\u001b[39m GridPointExtracter(ncfile, env_vars\u001b[38;5;241m=\u001b[39mX_env\u001b[38;5;241m.\u001b[39mkeys(), strm_vars\u001b[38;5;241m=\u001b[39mX_strm\u001b[38;5;241m.\u001b[39mkeys(), ll_grid\u001b[38;5;241m=\u001b[39mllgrid, TIMESCALE\u001b[38;5;241m=\u001b[39mTIMESCALE, FRAMEWORK\u001b[38;5;241m=\u001b[39mFRAMEWORK)\n\u001b[1;32m     17\u001b[0m df \u001b[38;5;241m=\u001b[39m extracter(X_env, X_strm, predict\u001b[38;5;241m=\u001b[39m\u001b[38;5;28;01mTrue\u001b[39;00m) \u001b[38;5;66;03m#True \u001b[39;00m\n",
      "File \u001b[0;32m~/projects/2to6_hr_severe_wx/experiments/ml_2to6_data_pipeline.py:91\u001b[0m, in \u001b[0;36mload_dataset\u001b[0;34m(path, TIMESCALE)\u001b[0m\n\u001b[1;32m     86\u001b[0m coord_vars \u001b[38;5;241m=\u001b[39m [\u001b[38;5;124m\"\u001b[39m\u001b[38;5;124mxlat\u001b[39m\u001b[38;5;124m\"\u001b[39m, \u001b[38;5;124m\"\u001b[39m\u001b[38;5;124mxlon\u001b[39m\u001b[38;5;124m\"\u001b[39m, \u001b[38;5;124m\"\u001b[39m\u001b[38;5;124mhgt\u001b[39m\u001b[38;5;124m\"\u001b[39m]\n\u001b[1;32m     88\u001b[0m X_strm, coords, _, _  \u001b[38;5;241m=\u001b[39m load_multiple_nc_files(\n\u001b[1;32m     89\u001b[0m             ens_files, concat_dim\u001b[38;5;241m=\u001b[39m\u001b[38;5;124m\"\u001b[39m\u001b[38;5;124mtime\u001b[39m\u001b[38;5;124m\"\u001b[39m, coord_vars\u001b[38;5;241m=\u001b[39mcoord_vars,  load_vars\u001b[38;5;241m=\u001b[39mml_config[\u001b[38;5;124m'\u001b[39m\u001b[38;5;124mENS_VARS\u001b[39m\u001b[38;5;124m'\u001b[39m])\n\u001b[0;32m---> 91\u001b[0m X_env, _, _, _  \u001b[38;5;241m=\u001b[39m \u001b[43mload_multiple_nc_files\u001b[49m\u001b[43m(\u001b[49m\n\u001b[1;32m     92\u001b[0m \u001b[43m            \u001b[49m\u001b[43menv_files\u001b[49m\u001b[43m,\u001b[49m\u001b[43m \u001b[49m\u001b[43mconcat_dim\u001b[49m\u001b[38;5;241;43m=\u001b[39;49m\u001b[38;5;124;43m\"\u001b[39;49m\u001b[38;5;124;43mtime\u001b[39;49m\u001b[38;5;124;43m\"\u001b[39;49m\u001b[43m,\u001b[49m\u001b[43m \u001b[49m\u001b[43mcoord_vars\u001b[49m\u001b[38;5;241;43m=\u001b[39;49m\u001b[43mcoord_vars\u001b[49m\u001b[43m,\u001b[49m\u001b[43m  \u001b[49m\u001b[43mload_vars\u001b[49m\u001b[38;5;241;43m=\u001b[39;49m\u001b[43mml_config\u001b[49m\u001b[43m[\u001b[49m\u001b[38;5;124;43m'\u001b[39;49m\u001b[38;5;124;43mENV_VARS\u001b[39;49m\u001b[38;5;124;43m'\u001b[39;49m\u001b[43m]\u001b[49m\u001b[43m)\u001b[49m\n\u001b[1;32m     94\u001b[0m X_svr, _, _, _ \u001b[38;5;241m=\u001b[39m load_multiple_nc_files(\n\u001b[1;32m     95\u001b[0m             svr_files, concat_dim\u001b[38;5;241m=\u001b[39m\u001b[38;5;124m\"\u001b[39m\u001b[38;5;124mtime\u001b[39m\u001b[38;5;124m\"\u001b[39m, coord_vars\u001b[38;5;241m=\u001b[39mcoord_vars,  load_vars\u001b[38;5;241m=\u001b[39mml_config[\u001b[38;5;124m'\u001b[39m\u001b[38;5;124mSVR_VARS\u001b[39m\u001b[38;5;124m'\u001b[39m])\n\u001b[1;32m     97\u001b[0m X_env \u001b[38;5;241m=\u001b[39m {\u001b[38;5;241m*\u001b[39m\u001b[38;5;241m*\u001b[39mX_env, \u001b[38;5;241m*\u001b[39m\u001b[38;5;241m*\u001b[39mX_svr}\n",
      "File \u001b[0;32m~/python_packages/WoF_post/wofs/post/utils.py:73\u001b[0m, in \u001b[0;36mload_multiple_nc_files\u001b[0;34m(nc_file_paths, concat_dim, coord_vars, drop_vars, load_vars)\u001b[0m\n\u001b[1;32m     71\u001b[0m multiple_datasets \u001b[38;5;241m=\u001b[39m [ ]\n\u001b[1;32m     72\u001b[0m \u001b[38;5;28;01mfor\u001b[39;00m i, ncfile \u001b[38;5;129;01min\u001b[39;00m \u001b[38;5;28menumerate\u001b[39m(nc_file_paths):\n\u001b[0;32m---> 73\u001b[0m     dataset \u001b[38;5;241m=\u001b[39m \u001b[43mopen_dataset\u001b[49m\u001b[43m(\u001b[49m\u001b[43mncfile\u001b[49m\u001b[43m,\u001b[49m\u001b[43m \u001b[49m\u001b[43mdrop_variables\u001b[49m\u001b[38;5;241;43m=\u001b[39;49m\u001b[43mcoord_vars\u001b[49m\u001b[38;5;241;43m+\u001b[39;49m\u001b[43mdrop_vars\u001b[49m\u001b[43m,\u001b[49m\u001b[43m \u001b[49m\u001b[43mdecode_times\u001b[49m\u001b[38;5;241;43m=\u001b[39;49m\u001b[38;5;28;43;01mFalse\u001b[39;49;00m\u001b[43m)\u001b[49m\n\u001b[1;32m     75\u001b[0m     \u001b[38;5;28;01mif\u001b[39;00m load_vars \u001b[38;5;129;01mis\u001b[39;00m \u001b[38;5;28;01mNone\u001b[39;00m:\n\u001b[1;32m     76\u001b[0m         load_vars \u001b[38;5;241m=\u001b[39m \u001b[38;5;28mlist\u001b[39m(dataset\u001b[38;5;241m.\u001b[39mdata_vars)\n",
      "File \u001b[0;32m~/python_packages/WoF_post/wofs/common/zarr.py:29\u001b[0m, in \u001b[0;36mopen_dataset\u001b[0;34m(path, **kwargs)\u001b[0m\n\u001b[1;32m     27\u001b[0m         \u001b[38;5;28;01mreturn\u001b[39;00m xr\u001b[38;5;241m.\u001b[39mopen_zarr(mapper, \u001b[38;5;241m*\u001b[39m\u001b[38;5;241m*\u001b[39mkwargs)\n\u001b[1;32m     28\u001b[0m     \u001b[38;5;28;01melse\u001b[39;00m:\n\u001b[0;32m---> 29\u001b[0m         \u001b[38;5;28;01mreturn\u001b[39;00m \u001b[43mxr\u001b[49m\u001b[38;5;241;43m.\u001b[39;49m\u001b[43mopen_dataset\u001b[49m\u001b[43m(\u001b[49m\u001b[43mpath\u001b[49m\u001b[43m,\u001b[49m\u001b[43m \u001b[49m\u001b[38;5;241;43m*\u001b[39;49m\u001b[38;5;241;43m*\u001b[39;49m\u001b[43mkwargs\u001b[49m\u001b[43m)\u001b[49m\n\u001b[1;32m     30\u001b[0m \u001b[38;5;28;01melse\u001b[39;00m:\n\u001b[1;32m     31\u001b[0m     \u001b[38;5;28;01mreturn\u001b[39;00m xr\u001b[38;5;241m.\u001b[39mopen_zarr(path, \u001b[38;5;241m*\u001b[39m\u001b[38;5;241m*\u001b[39mkwargs)\n",
      "File \u001b[0;32m~/miniconda3/envs/Vanilla/lib/python3.10/site-packages/xarray/backends/api.py:531\u001b[0m, in \u001b[0;36mopen_dataset\u001b[0;34m(filename_or_obj, engine, chunks, cache, decode_cf, mask_and_scale, decode_times, decode_timedelta, use_cftime, concat_characters, decode_coords, drop_variables, inline_array, backend_kwargs, **kwargs)\u001b[0m\n\u001b[1;32m    519\u001b[0m decoders \u001b[38;5;241m=\u001b[39m _resolve_decoders_kwargs(\n\u001b[1;32m    520\u001b[0m     decode_cf,\n\u001b[1;32m    521\u001b[0m     open_backend_dataset_parameters\u001b[38;5;241m=\u001b[39mbackend\u001b[38;5;241m.\u001b[39mopen_dataset_parameters,\n\u001b[0;32m   (...)\u001b[0m\n\u001b[1;32m    527\u001b[0m     decode_coords\u001b[38;5;241m=\u001b[39mdecode_coords,\n\u001b[1;32m    528\u001b[0m )\n\u001b[1;32m    530\u001b[0m overwrite_encoded_chunks \u001b[38;5;241m=\u001b[39m kwargs\u001b[38;5;241m.\u001b[39mpop(\u001b[38;5;124m\"\u001b[39m\u001b[38;5;124moverwrite_encoded_chunks\u001b[39m\u001b[38;5;124m\"\u001b[39m, \u001b[38;5;28;01mNone\u001b[39;00m)\n\u001b[0;32m--> 531\u001b[0m backend_ds \u001b[38;5;241m=\u001b[39m \u001b[43mbackend\u001b[49m\u001b[38;5;241;43m.\u001b[39;49m\u001b[43mopen_dataset\u001b[49m\u001b[43m(\u001b[49m\n\u001b[1;32m    532\u001b[0m \u001b[43m    \u001b[49m\u001b[43mfilename_or_obj\u001b[49m\u001b[43m,\u001b[49m\n\u001b[1;32m    533\u001b[0m \u001b[43m    \u001b[49m\u001b[43mdrop_variables\u001b[49m\u001b[38;5;241;43m=\u001b[39;49m\u001b[43mdrop_variables\u001b[49m\u001b[43m,\u001b[49m\n\u001b[1;32m    534\u001b[0m \u001b[43m    \u001b[49m\u001b[38;5;241;43m*\u001b[39;49m\u001b[38;5;241;43m*\u001b[39;49m\u001b[43mdecoders\u001b[49m\u001b[43m,\u001b[49m\n\u001b[1;32m    535\u001b[0m \u001b[43m    \u001b[49m\u001b[38;5;241;43m*\u001b[39;49m\u001b[38;5;241;43m*\u001b[39;49m\u001b[43mkwargs\u001b[49m\u001b[43m,\u001b[49m\n\u001b[1;32m    536\u001b[0m \u001b[43m\u001b[49m\u001b[43m)\u001b[49m\n\u001b[1;32m    537\u001b[0m ds \u001b[38;5;241m=\u001b[39m _dataset_from_backend_dataset(\n\u001b[1;32m    538\u001b[0m     backend_ds,\n\u001b[1;32m    539\u001b[0m     filename_or_obj,\n\u001b[0;32m   (...)\u001b[0m\n\u001b[1;32m    547\u001b[0m     \u001b[38;5;241m*\u001b[39m\u001b[38;5;241m*\u001b[39mkwargs,\n\u001b[1;32m    548\u001b[0m )\n\u001b[1;32m    549\u001b[0m \u001b[38;5;28;01mreturn\u001b[39;00m ds\n",
      "File \u001b[0;32m~/miniconda3/envs/Vanilla/lib/python3.10/site-packages/xarray/backends/netCDF4_.py:555\u001b[0m, in \u001b[0;36mNetCDF4BackendEntrypoint.open_dataset\u001b[0;34m(self, filename_or_obj, mask_and_scale, decode_times, concat_characters, decode_coords, drop_variables, use_cftime, decode_timedelta, group, mode, format, clobber, diskless, persist, lock, autoclose)\u001b[0m\n\u001b[1;32m    534\u001b[0m \u001b[38;5;28;01mdef\u001b[39;00m \u001b[38;5;21mopen_dataset\u001b[39m(\n\u001b[1;32m    535\u001b[0m     \u001b[38;5;28mself\u001b[39m,\n\u001b[1;32m    536\u001b[0m     filename_or_obj,\n\u001b[0;32m   (...)\u001b[0m\n\u001b[1;32m    551\u001b[0m     autoclose\u001b[38;5;241m=\u001b[39m\u001b[38;5;28;01mFalse\u001b[39;00m,\n\u001b[1;32m    552\u001b[0m ):\n\u001b[1;32m    554\u001b[0m     filename_or_obj \u001b[38;5;241m=\u001b[39m _normalize_path(filename_or_obj)\n\u001b[0;32m--> 555\u001b[0m     store \u001b[38;5;241m=\u001b[39m \u001b[43mNetCDF4DataStore\u001b[49m\u001b[38;5;241;43m.\u001b[39;49m\u001b[43mopen\u001b[49m\u001b[43m(\u001b[49m\n\u001b[1;32m    556\u001b[0m \u001b[43m        \u001b[49m\u001b[43mfilename_or_obj\u001b[49m\u001b[43m,\u001b[49m\n\u001b[1;32m    557\u001b[0m \u001b[43m        \u001b[49m\u001b[43mmode\u001b[49m\u001b[38;5;241;43m=\u001b[39;49m\u001b[43mmode\u001b[49m\u001b[43m,\u001b[49m\n\u001b[1;32m    558\u001b[0m \u001b[43m        \u001b[49m\u001b[38;5;28;43mformat\u001b[39;49m\u001b[38;5;241;43m=\u001b[39;49m\u001b[38;5;28;43mformat\u001b[39;49m\u001b[43m,\u001b[49m\n\u001b[1;32m    559\u001b[0m \u001b[43m        \u001b[49m\u001b[43mgroup\u001b[49m\u001b[38;5;241;43m=\u001b[39;49m\u001b[43mgroup\u001b[49m\u001b[43m,\u001b[49m\n\u001b[1;32m    560\u001b[0m \u001b[43m        \u001b[49m\u001b[43mclobber\u001b[49m\u001b[38;5;241;43m=\u001b[39;49m\u001b[43mclobber\u001b[49m\u001b[43m,\u001b[49m\n\u001b[1;32m    561\u001b[0m \u001b[43m        \u001b[49m\u001b[43mdiskless\u001b[49m\u001b[38;5;241;43m=\u001b[39;49m\u001b[43mdiskless\u001b[49m\u001b[43m,\u001b[49m\n\u001b[1;32m    562\u001b[0m \u001b[43m        \u001b[49m\u001b[43mpersist\u001b[49m\u001b[38;5;241;43m=\u001b[39;49m\u001b[43mpersist\u001b[49m\u001b[43m,\u001b[49m\n\u001b[1;32m    563\u001b[0m \u001b[43m        \u001b[49m\u001b[43mlock\u001b[49m\u001b[38;5;241;43m=\u001b[39;49m\u001b[43mlock\u001b[49m\u001b[43m,\u001b[49m\n\u001b[1;32m    564\u001b[0m \u001b[43m        \u001b[49m\u001b[43mautoclose\u001b[49m\u001b[38;5;241;43m=\u001b[39;49m\u001b[43mautoclose\u001b[49m\u001b[43m,\u001b[49m\n\u001b[1;32m    565\u001b[0m \u001b[43m    \u001b[49m\u001b[43m)\u001b[49m\n\u001b[1;32m    567\u001b[0m     store_entrypoint \u001b[38;5;241m=\u001b[39m StoreBackendEntrypoint()\n\u001b[1;32m    568\u001b[0m     \u001b[38;5;28;01mwith\u001b[39;00m close_on_error(store):\n",
      "File \u001b[0;32m~/miniconda3/envs/Vanilla/lib/python3.10/site-packages/xarray/backends/netCDF4_.py:384\u001b[0m, in \u001b[0;36mNetCDF4DataStore.open\u001b[0;34m(cls, filename, mode, format, group, clobber, diskless, persist, lock, lock_maker, autoclose)\u001b[0m\n\u001b[1;32m    378\u001b[0m kwargs \u001b[38;5;241m=\u001b[39m \u001b[38;5;28mdict\u001b[39m(\n\u001b[1;32m    379\u001b[0m     clobber\u001b[38;5;241m=\u001b[39mclobber, diskless\u001b[38;5;241m=\u001b[39mdiskless, persist\u001b[38;5;241m=\u001b[39mpersist, \u001b[38;5;28mformat\u001b[39m\u001b[38;5;241m=\u001b[39m\u001b[38;5;28mformat\u001b[39m\n\u001b[1;32m    380\u001b[0m )\n\u001b[1;32m    381\u001b[0m manager \u001b[38;5;241m=\u001b[39m CachingFileManager(\n\u001b[1;32m    382\u001b[0m     netCDF4\u001b[38;5;241m.\u001b[39mDataset, filename, mode\u001b[38;5;241m=\u001b[39mmode, kwargs\u001b[38;5;241m=\u001b[39mkwargs\n\u001b[1;32m    383\u001b[0m )\n\u001b[0;32m--> 384\u001b[0m \u001b[38;5;28;01mreturn\u001b[39;00m \u001b[38;5;28;43mcls\u001b[39;49m\u001b[43m(\u001b[49m\u001b[43mmanager\u001b[49m\u001b[43m,\u001b[49m\u001b[43m \u001b[49m\u001b[43mgroup\u001b[49m\u001b[38;5;241;43m=\u001b[39;49m\u001b[43mgroup\u001b[49m\u001b[43m,\u001b[49m\u001b[43m \u001b[49m\u001b[43mmode\u001b[49m\u001b[38;5;241;43m=\u001b[39;49m\u001b[43mmode\u001b[49m\u001b[43m,\u001b[49m\u001b[43m \u001b[49m\u001b[43mlock\u001b[49m\u001b[38;5;241;43m=\u001b[39;49m\u001b[43mlock\u001b[49m\u001b[43m,\u001b[49m\u001b[43m \u001b[49m\u001b[43mautoclose\u001b[49m\u001b[38;5;241;43m=\u001b[39;49m\u001b[43mautoclose\u001b[49m\u001b[43m)\u001b[49m\n",
      "File \u001b[0;32m~/miniconda3/envs/Vanilla/lib/python3.10/site-packages/xarray/backends/netCDF4_.py:332\u001b[0m, in \u001b[0;36mNetCDF4DataStore.__init__\u001b[0;34m(self, manager, group, mode, lock, autoclose)\u001b[0m\n\u001b[1;32m    330\u001b[0m \u001b[38;5;28mself\u001b[39m\u001b[38;5;241m.\u001b[39m_group \u001b[38;5;241m=\u001b[39m group\n\u001b[1;32m    331\u001b[0m \u001b[38;5;28mself\u001b[39m\u001b[38;5;241m.\u001b[39m_mode \u001b[38;5;241m=\u001b[39m mode\n\u001b[0;32m--> 332\u001b[0m \u001b[38;5;28mself\u001b[39m\u001b[38;5;241m.\u001b[39mformat \u001b[38;5;241m=\u001b[39m \u001b[38;5;28;43mself\u001b[39;49m\u001b[38;5;241;43m.\u001b[39;49m\u001b[43mds\u001b[49m\u001b[38;5;241m.\u001b[39mdata_model\n\u001b[1;32m    333\u001b[0m \u001b[38;5;28mself\u001b[39m\u001b[38;5;241m.\u001b[39m_filename \u001b[38;5;241m=\u001b[39m \u001b[38;5;28mself\u001b[39m\u001b[38;5;241m.\u001b[39mds\u001b[38;5;241m.\u001b[39mfilepath()\n\u001b[1;32m    334\u001b[0m \u001b[38;5;28mself\u001b[39m\u001b[38;5;241m.\u001b[39mis_remote \u001b[38;5;241m=\u001b[39m is_remote_uri(\u001b[38;5;28mself\u001b[39m\u001b[38;5;241m.\u001b[39m_filename)\n",
      "File \u001b[0;32m~/miniconda3/envs/Vanilla/lib/python3.10/site-packages/xarray/backends/netCDF4_.py:393\u001b[0m, in \u001b[0;36mNetCDF4DataStore.ds\u001b[0;34m(self)\u001b[0m\n\u001b[1;32m    391\u001b[0m \u001b[38;5;129m@property\u001b[39m\n\u001b[1;32m    392\u001b[0m \u001b[38;5;28;01mdef\u001b[39;00m \u001b[38;5;21mds\u001b[39m(\u001b[38;5;28mself\u001b[39m):\n\u001b[0;32m--> 393\u001b[0m     \u001b[38;5;28;01mreturn\u001b[39;00m \u001b[38;5;28;43mself\u001b[39;49m\u001b[38;5;241;43m.\u001b[39;49m\u001b[43m_acquire\u001b[49m\u001b[43m(\u001b[49m\u001b[43m)\u001b[49m\n",
      "File \u001b[0;32m~/miniconda3/envs/Vanilla/lib/python3.10/site-packages/xarray/backends/netCDF4_.py:387\u001b[0m, in \u001b[0;36mNetCDF4DataStore._acquire\u001b[0;34m(self, needs_lock)\u001b[0m\n\u001b[1;32m    386\u001b[0m \u001b[38;5;28;01mdef\u001b[39;00m \u001b[38;5;21m_acquire\u001b[39m(\u001b[38;5;28mself\u001b[39m, needs_lock\u001b[38;5;241m=\u001b[39m\u001b[38;5;28;01mTrue\u001b[39;00m):\n\u001b[0;32m--> 387\u001b[0m     \u001b[38;5;28;01mwith\u001b[39;00m \u001b[38;5;28mself\u001b[39m\u001b[38;5;241m.\u001b[39m_manager\u001b[38;5;241m.\u001b[39macquire_context(needs_lock) \u001b[38;5;28;01mas\u001b[39;00m root:\n\u001b[1;32m    388\u001b[0m         ds \u001b[38;5;241m=\u001b[39m _nc4_require_group(root, \u001b[38;5;28mself\u001b[39m\u001b[38;5;241m.\u001b[39m_group, \u001b[38;5;28mself\u001b[39m\u001b[38;5;241m.\u001b[39m_mode)\n\u001b[1;32m    389\u001b[0m     \u001b[38;5;28;01mreturn\u001b[39;00m ds\n",
      "File \u001b[0;32m~/miniconda3/envs/Vanilla/lib/python3.10/contextlib.py:135\u001b[0m, in \u001b[0;36m_GeneratorContextManager.__enter__\u001b[0;34m(self)\u001b[0m\n\u001b[1;32m    133\u001b[0m \u001b[38;5;28;01mdel\u001b[39;00m \u001b[38;5;28mself\u001b[39m\u001b[38;5;241m.\u001b[39margs, \u001b[38;5;28mself\u001b[39m\u001b[38;5;241m.\u001b[39mkwds, \u001b[38;5;28mself\u001b[39m\u001b[38;5;241m.\u001b[39mfunc\n\u001b[1;32m    134\u001b[0m \u001b[38;5;28;01mtry\u001b[39;00m:\n\u001b[0;32m--> 135\u001b[0m     \u001b[38;5;28;01mreturn\u001b[39;00m \u001b[38;5;28;43mnext\u001b[39;49m\u001b[43m(\u001b[49m\u001b[38;5;28;43mself\u001b[39;49m\u001b[38;5;241;43m.\u001b[39;49m\u001b[43mgen\u001b[49m\u001b[43m)\u001b[49m\n\u001b[1;32m    136\u001b[0m \u001b[38;5;28;01mexcept\u001b[39;00m \u001b[38;5;167;01mStopIteration\u001b[39;00m:\n\u001b[1;32m    137\u001b[0m     \u001b[38;5;28;01mraise\u001b[39;00m \u001b[38;5;167;01mRuntimeError\u001b[39;00m(\u001b[38;5;124m\"\u001b[39m\u001b[38;5;124mgenerator didn\u001b[39m\u001b[38;5;124m'\u001b[39m\u001b[38;5;124mt yield\u001b[39m\u001b[38;5;124m\"\u001b[39m) \u001b[38;5;28;01mfrom\u001b[39;00m \u001b[38;5;28mNone\u001b[39m\n",
      "File \u001b[0;32m~/miniconda3/envs/Vanilla/lib/python3.10/site-packages/xarray/backends/file_manager.py:189\u001b[0m, in \u001b[0;36mCachingFileManager.acquire_context\u001b[0;34m(self, needs_lock)\u001b[0m\n\u001b[1;32m    186\u001b[0m \u001b[38;5;129m@contextlib\u001b[39m\u001b[38;5;241m.\u001b[39mcontextmanager\n\u001b[1;32m    187\u001b[0m \u001b[38;5;28;01mdef\u001b[39;00m \u001b[38;5;21macquire_context\u001b[39m(\u001b[38;5;28mself\u001b[39m, needs_lock\u001b[38;5;241m=\u001b[39m\u001b[38;5;28;01mTrue\u001b[39;00m):\n\u001b[1;32m    188\u001b[0m     \u001b[38;5;124;03m\"\"\"Context manager for acquiring a file.\"\"\"\u001b[39;00m\n\u001b[0;32m--> 189\u001b[0m     file, cached \u001b[38;5;241m=\u001b[39m \u001b[38;5;28;43mself\u001b[39;49m\u001b[38;5;241;43m.\u001b[39;49m\u001b[43m_acquire_with_cache_info\u001b[49m\u001b[43m(\u001b[49m\u001b[43mneeds_lock\u001b[49m\u001b[43m)\u001b[49m\n\u001b[1;32m    190\u001b[0m     \u001b[38;5;28;01mtry\u001b[39;00m:\n\u001b[1;32m    191\u001b[0m         \u001b[38;5;28;01myield\u001b[39;00m file\n",
      "File \u001b[0;32m~/miniconda3/envs/Vanilla/lib/python3.10/site-packages/xarray/backends/file_manager.py:207\u001b[0m, in \u001b[0;36mCachingFileManager._acquire_with_cache_info\u001b[0;34m(self, needs_lock)\u001b[0m\n\u001b[1;32m    205\u001b[0m     kwargs \u001b[38;5;241m=\u001b[39m kwargs\u001b[38;5;241m.\u001b[39mcopy()\n\u001b[1;32m    206\u001b[0m     kwargs[\u001b[38;5;124m\"\u001b[39m\u001b[38;5;124mmode\u001b[39m\u001b[38;5;124m\"\u001b[39m] \u001b[38;5;241m=\u001b[39m \u001b[38;5;28mself\u001b[39m\u001b[38;5;241m.\u001b[39m_mode\n\u001b[0;32m--> 207\u001b[0m file \u001b[38;5;241m=\u001b[39m \u001b[38;5;28;43mself\u001b[39;49m\u001b[38;5;241;43m.\u001b[39;49m\u001b[43m_opener\u001b[49m\u001b[43m(\u001b[49m\u001b[38;5;241;43m*\u001b[39;49m\u001b[38;5;28;43mself\u001b[39;49m\u001b[38;5;241;43m.\u001b[39;49m\u001b[43m_args\u001b[49m\u001b[43m,\u001b[49m\u001b[43m \u001b[49m\u001b[38;5;241;43m*\u001b[39;49m\u001b[38;5;241;43m*\u001b[39;49m\u001b[43mkwargs\u001b[49m\u001b[43m)\u001b[49m\n\u001b[1;32m    208\u001b[0m \u001b[38;5;28;01mif\u001b[39;00m \u001b[38;5;28mself\u001b[39m\u001b[38;5;241m.\u001b[39m_mode \u001b[38;5;241m==\u001b[39m \u001b[38;5;124m\"\u001b[39m\u001b[38;5;124mw\u001b[39m\u001b[38;5;124m\"\u001b[39m:\n\u001b[1;32m    209\u001b[0m     \u001b[38;5;66;03m# ensure file doesn't get overridden when opened again\u001b[39;00m\n\u001b[1;32m    210\u001b[0m     \u001b[38;5;28mself\u001b[39m\u001b[38;5;241m.\u001b[39m_mode \u001b[38;5;241m=\u001b[39m \u001b[38;5;124m\"\u001b[39m\u001b[38;5;124ma\u001b[39m\u001b[38;5;124m\"\u001b[39m\n",
      "File \u001b[0;32msrc/netCDF4/_netCDF4.pyx:2376\u001b[0m, in \u001b[0;36mnetCDF4._netCDF4.Dataset.__init__\u001b[0;34m()\u001b[0m\n",
      "File \u001b[0;32msrc/netCDF4/_netCDF4.pyx:1948\u001b[0m, in \u001b[0;36mgenexpr\u001b[0;34m()\u001b[0m\n",
      "File \u001b[0;32msrc/netCDF4/_netCDF4.pyx:1948\u001b[0m, in \u001b[0;36mgenexpr\u001b[0;34m()\u001b[0m\n",
      "File \u001b[0;32m~/miniconda3/envs/Vanilla/lib/python3.10/site-packages/netCDF4/utils.py:34\u001b[0m, in \u001b[0;36m_find_dim\u001b[0;34m(grp, dimname)\u001b[0m\n\u001b[1;32m     30\u001b[0m \u001b[38;5;28;01mdef\u001b[39;00m \u001b[38;5;21m_sortbylist\u001b[39m(A,B):\n\u001b[1;32m     31\u001b[0m     \u001b[38;5;66;03m# sort one list (A) using the values from another list (B)\u001b[39;00m\n\u001b[1;32m     32\u001b[0m     \u001b[38;5;28;01mreturn\u001b[39;00m [A[i] \u001b[38;5;28;01mfor\u001b[39;00m i \u001b[38;5;129;01min\u001b[39;00m \u001b[38;5;28msorted\u001b[39m(\u001b[38;5;28mrange\u001b[39m(\u001b[38;5;28mlen\u001b[39m(A)), key\u001b[38;5;241m=\u001b[39mB\u001b[38;5;241m.\u001b[39m\u001b[38;5;21m__getitem__\u001b[39m)]\n\u001b[0;32m---> 34\u001b[0m \u001b[38;5;28;01mdef\u001b[39;00m \u001b[38;5;21m_find_dim\u001b[39m(grp, dimname):\n\u001b[1;32m     35\u001b[0m     \u001b[38;5;66;03m# find Dimension instance given group and name.\u001b[39;00m\n\u001b[1;32m     36\u001b[0m     \u001b[38;5;66;03m# look in current group, and parents.\u001b[39;00m\n\u001b[1;32m     37\u001b[0m     group \u001b[38;5;241m=\u001b[39m grp\n\u001b[1;32m     38\u001b[0m     dim \u001b[38;5;241m=\u001b[39m \u001b[38;5;28;01mNone\u001b[39;00m\n",
      "\u001b[0;31mKeyboardInterrupt\u001b[0m: "
     ]
    }
   ],
   "source": [
    "##date = '20210504'\n",
    "\n",
    "if TIMESCALE=='0to3':\n",
    "    init_time='0000'#Predictions valid from 0000-0300\n",
    "else:\n",
    "    init_time='2200' #Predictions valid from 0000-0400 this would actually be valid the day after, so change this\n",
    "\n",
    "    #init_time = '1900' #3 hours out from effective time? Should be same init time in storm report?\n",
    "\n",
    "for date in dates:\n",
    "    #path = f'/work/samuel.varga/data/2to6_hr_severe_wx/SummaryFiles/{date}/{init_time}'\n",
    "    path = f'/work/mflora/SummaryFiles/{date}/{init_time}' #What files would I need to make it myself? Env and storm variables?\n",
    "    out_path = join(f'/work/samuel.varga/data/{TIMESCALE}_hr_severe_wx/{FRAMEWORK}', 'Single') \n",
    "\n",
    "    X_env, X_strm, ncfile, llgrid  = load_dataset(path, TIMESCALE=TIMESCALE)\n",
    "    extracter = GridPointExtracter(ncfile, env_vars=X_env.keys(), strm_vars=X_strm.keys(), ll_grid=llgrid, TIMESCALE=TIMESCALE, FRAMEWORK=FRAMEWORK)\n",
    "    df = extracter(X_env, X_strm, predict=True) #True \n",
    "    df.reset_index(drop=True, inplace=True)\n",
    "    print(len(df))\n",
    "    \n",
    "    out_name = join(out_path, f'wofs_ml_severe__{TIMESCALE}hr__{date}_data.feather')\n",
    "    print(f'Saving {out_name}...')\n",
    "    df.to_feather(out_name)"
   ]
  },
  {
   "cell_type": "markdown",
   "id": "e1c9a506",
   "metadata": {},
   "source": [
    "# Trouble shooting steps"
   ]
  },
  {
   "cell_type": "code",
   "execution_count": 3,
   "id": "18531d15",
   "metadata": {},
   "outputs": [],
   "source": [
    "import pandas as pd\n",
    "import matplotlib.pyplot as plt\n",
    "X=pd.read_feather('/work/samuel.varga/data/0to3_hr_severe_wx/ADAM/Single/wofs_ml_severe__0to3hr__20180512_data.feather')"
   ]
  },
  {
   "cell_type": "code",
   "execution_count": 16,
   "id": "7595d466",
   "metadata": {},
   "outputs": [],
   "source": [
    "import numpy as np\n",
    "x=np.arange(0,10)"
   ]
  },
  {
   "cell_type": "code",
   "execution_count": 21,
   "id": "a8a81ea3",
   "metadata": {},
   "outputs": [
    {
     "data": {
      "text/plain": [
       "array([0, 1, 2, 3, 4, 5, 6, 7, 8, 9])"
      ]
     },
     "execution_count": 21,
     "metadata": {},
     "output_type": "execute_result"
    }
   ],
   "source": [
    "x[::None]"
   ]
  },
  {
   "cell_type": "code",
   "execution_count": 20,
   "id": "32345781",
   "metadata": {},
   "outputs": [],
   "source": []
  },
  {
   "cell_type": "code",
   "execution_count": 16,
   "id": "863d1192",
   "metadata": {},
   "outputs": [
    {
     "name": "stdout",
     "output_type": "stream",
     "text": [
      "POTVIN\n",
      "True and POTVIN\n",
      "False and POTVIN\n",
      "7056\n",
      "Saving /work/samuel.varga/data/2to6_hr_severe_wx/POTVIN/Single/wofs_ML2TO6.feather...\n",
      "2116\n",
      "ADAM\n",
      "True and ADAM\n",
      "False and ADAM\n",
      "dict_keys(['uh_2to5_instant__time_max__9km__smoothed'])\n",
      "dict_keys(['uh_2to5_instant__time_max__4km', 'uh_0to2_instant__time_max__4km', 'wz_0to2_instant__time_max__4km', 'comp_dz__time_max__4km', 'ws_80__time_max__4km', 'hailcast__time_max__4km', 'w_up__time_max__4km', 'okubo_weiss__time_max__4km'])\n",
      "7056\n",
      "Saving /work/samuel.varga/data/2to6_hr_severe_wx/ADAM/Single/wofs_ML2TO6.feather...\n",
      "2116\n"
     ]
    }
   ],
   "source": [
    "FRAMEWORK=['POTVIN','ADAM']; TIMESCALE='2to6'; date='20180524'; init_time='0000'\n",
    "base_path = f'/work/mflora/SummaryFiles/{date}/{init_time}'\n",
    "SUMMARY_FILE_OUT_PATH = '/work/samuel.varga/data/{}_hr_severe_wx'.format(TIMESCALE) \n",
    "X_env, X_strm, ncfile, ll_grid  = load_dataset(base_path, TIMESCALE=TIMESCALE) #Load the files for the time scale\n",
    "inds=None #set to none\n",
    "    \n",
    "for framework in FRAMEWORK:\n",
    "        print(framework)\n",
    "        extracter = GridPointExtracter(ncfile, env_vars=X_env.keys(), strm_vars=X_strm.keys(), ll_grid=ll_grid, TIMESCALE=TIMESCALE, FRAMEWORK=framework) #Def GPE-- pass timescale and framework through\n",
    "        df = extracter(X_env, X_strm) #Apply GPE to the env and storm\n",
    "        print(len(df))\n",
    "        #ys = [f for f in df.columns if 'severe' in f]\n",
    "        #y_df = df[ys].sum(axis='columns')\n",
    "\n",
    "        # Sampling all grid points with an event, but only 15% of \n",
    "        # grid points with no events. \n",
    "        #inds = subsampler(y_df, pos_percent=1.0, neg_percent=1.0) #Loken et. didn't resample, so use 1\n",
    "\n",
    "        if inds is None: #Inds will be none on the first call. For the second framework, inds will already be assigned\n",
    "            inds = random_subsampler(len(df), percent=0.3)\n",
    "        \n",
    "        df_sub = df.iloc[inds, :] #Selects subset based on inds-- will choose the same indices for both frameworks\n",
    "        df_sub.reset_index(drop=True, inplace=True)\n",
    "\n",
    "        out_path = path.replace(base_path, join(SUMMARY_FILE_OUT_PATH, f'{framework}/Single')) #replace the base path with the output path\n",
    "        if not exists(out_path):\n",
    "            os.makedirs(out_path)\n",
    "\n",
    "        out_name = join(out_path, 'wofs_ML{}.feather'.format(TIMESCALE.upper()))\n",
    "        print(f'Saving {out_name}...')\n",
    "        print(len(df_sub))\n",
    "        df_sub.to_feather(out_name)"
   ]
  },
  {
   "cell_type": "code",
   "execution_count": 7,
   "id": "469dd6fa",
   "metadata": {},
   "outputs": [
    {
     "data": {
      "text/plain": [
       "array([ 25,   9, 125,  98,  44, 149,  41,  63, 116,  61, 143,   2, 127,\n",
       "        94,  69,  86, 123, 111, 148, 147, 138,  68, 129, 139,  90, 122,\n",
       "         3,   8,   0, 109,  45,  16,  76,  60,  50, 119,  74, 134, 126,\n",
       "        33,  89,  10, 135, 108, 120])"
      ]
     },
     "execution_count": 7,
     "metadata": {},
     "output_type": "execute_result"
    }
   ],
   "source": [
    "random_subsampler(150, percent=0.3)"
   ]
  },
  {
   "cell_type": "code",
   "execution_count": null,
   "id": "78938df5",
   "metadata": {},
   "outputs": [],
   "source": []
  }
 ],
 "metadata": {
  "kernelspec": {
   "display_name": "Vanilla",
   "language": "python",
   "name": "vanilla"
  },
  "language_info": {
   "codemirror_mode": {
    "name": "ipython",
    "version": 3
   },
   "file_extension": ".py",
   "mimetype": "text/x-python",
   "name": "python",
   "nbconvert_exporter": "python",
   "pygments_lexer": "ipython3",
   "version": "3.10.4"
  }
 },
 "nbformat": 4,
 "nbformat_minor": 5
}
