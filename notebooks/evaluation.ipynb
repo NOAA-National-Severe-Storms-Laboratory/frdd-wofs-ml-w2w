{
 "cells": [
  {
   "cell_type": "markdown",
   "id": "59bb3464",
   "metadata": {},
   "source": [
    "## Evaluating the  Models \n",
    "\n",
    "### Primary Goal: Evaluate the ML and BL models\n",
    "\n",
    "In this notebook, I'll provide a brief tutorial on how to evaluate the final machine learning (ML) and baseline (BL) models. "
   ]
  },
  {
   "cell_type": "code",
   "execution_count": null,
   "id": "53c55a66",
   "metadata": {},
   "outputs": [],
   "source": [
    "# Import packages \n",
    "import pandas as pd\n",
    "import numpy as np\n",
    "from os.path import join\n",
    "\n",
    "# Plotting code imports \n",
    "import matplotlib.pyplot as plt\n",
    "import seaborn as sns\n",
    "sns.set_theme()\n",
    "\n",
    "# We add the github package to our system path so we can import python scripts for that repo. \n",
    "import sys\n",
    "sys.path.append('/home/monte.flora/python_packages/2to6_hr_severe_wx/')\n",
    "from main.io import load_ml_data\n",
    "\n",
    "from master.ml_workflow.ml_workflow.calibrated_pipeline_hyperopt_cv import CalibratedPipelineHyperOptCV\n",
    "\n",
    "from os.path import join\n",
    "from ml_workflow.ml_workflow.ml_methods import norm_aupdc, brier_skill_score, \n",
    "from sklearn.metrics import roc_auc_score\n",
    "from sklearn.calibration import calibration_curve\n",
    "from sklearn.metrics import precision_recall_curve"
   ]
  },
  {
   "cell_type": "code",
   "execution_count": null,
   "id": "7bbde0d4",
   "metadata": {},
   "outputs": [],
   "source": [
    "# Configuration variables (You'll need to change based on where you store your data)\n",
    "base_path = '/work/mflora/ML_2TO6HR/data'"
   ]
  },
  {
   "cell_type": "markdown",
   "id": "3ab91eff",
   "metadata": {},
   "source": [
    "<div class=\"alert alert-block alert-danger\"> <b>CAUTION</b> We are evaluating the models, so make sure mode = 'test' in load_ml_data or load_bl_data </div>"
   ]
  },
  {
   "cell_type": "code",
   "execution_count": null,
   "id": "bd579981",
   "metadata": {},
   "outputs": [],
   "source": [
    "X, y, metadata = load_ml_data(base_path=base_path, \n",
    "                            mode='test', \n",
    "                            target_col='hail_severe__36km')"
   ]
  },
  {
   "cell_type": "code",
   "execution_count": null,
   "id": "8fb77a87",
   "metadata": {},
   "outputs": [],
   "source": [
    "bl_model = joblib.load('hail_baseline_model.joblib')\n",
    "ml_data = joblib.load('hail_model.joblib')\n",
    "\n",
    "ml_model = ml_data['model']\n",
    "features = data['features']\n",
    "\n",
    "X = X[features]"
   ]
  },
  {
   "cell_type": "code",
   "execution_count": null,
   "id": "78a49190",
   "metadata": {},
   "outputs": [],
   "source": [
    "def scorer(model, X, y, known_skew, n_boot=30):\n",
    "    \"\"\"\n",
    "    Computes bootstrap-avg for multiple verification scores. \n",
    "    \"\"\"\n",
    "    naupdc = []\n",
    "    bss = [] \n",
    "    auc = []\n",
    "    for n in range(n_boot):\n",
    "        inds = np.random.choice(len(X), size=len(X))\n",
    "        X_i = X.iloc[inds, :]\n",
    "        y_i = y[inds]\n",
    "        predictions = model.predict_proba(X_i)[:,1]\n",
    "        naupdc.append(norm_aupdc(y_i, predictions, known_skew=known_skew))\n",
    "        bss.append(brier_skill_score(y_i, predictions))\n",
    "        auc.append(roc_auc_score(y_i, predictions))\n",
    "    \n",
    "    #print( f'NAUPDC: {np.mean(naupdc):.03f} | BSS : {np.mean(bss):.03f} | AUC : {np.mean(auc):.03f}')\n",
    "    return np.mean(naupdc), np.mean(bss), np.mean(auc)"
   ]
  },
  {
   "cell_type": "code",
   "execution_count": null,
   "id": "effc4877",
   "metadata": {},
   "outputs": [],
   "source": [
    "scores_ml = scorer(ml_model, X, y, known_skew, n_boot=30)\n",
    "scores_bl = scorer(bl_model, X, y, known_skew, n_boot=30)"
   ]
  },
  {
   "cell_type": "code",
   "execution_count": null,
   "id": "29d54f7c",
   "metadata": {},
   "outputs": [],
   "source": [
    "pred = clf.predict_proba(X)[:,1]\n",
    "prob_true, prob_pred = calibration_curve(y, pred, n_bins=10)\n",
    "sr, pod, _ = precision_recall_curve(y, pred)"
   ]
  },
  {
   "cell_type": "code",
   "execution_count": null,
   "id": "e0beeefd",
   "metadata": {},
   "outputs": [],
   "source": [
    "f, axes = plt.subplots(ncols=2, dpi=300, sharey=True, figsize=(8,4))\n",
    "\n",
    "for i, (ax, x, y) in enumerate(zip(axes.flat, [prob_pred, sr], [prob_true, pod])):\n",
    "    \n",
    "    prob_true[(prob_true < 0.00001) & (prob_pred > 0)] = np.nan\n",
    "    \n",
    "    ax.set_xlim([0,1])\n",
    "    ax.set_ylim([0,1])\n",
    "    if i == 0:\n",
    "        ax.plot([0,1], [0,1], ls='dashed')\n",
    "    else:\n",
    "        xx = np.linspace(0,1,100)\n",
    "        yy = xx\n",
    "        xx,yy = np.meshgrid(xx,xx)\n",
    "        csi = 1 / (1/xx + 1/yy -1)\n",
    "        ax.contourf(xx,yy,csi, cmap='Blues', alpha=0.3, levels=np.arange(0,1.1,0.1))\n",
    "        \n",
    "    ax.plot(x,y, color='k')\n",
    "\n",
    "plt.savefig(f'{model_name}_{lead_time}_target.png')"
   ]
  }
 ],
 "metadata": {
  "kernelspec": {
   "display_name": "Python 3 (ipykernel)",
   "language": "python",
   "name": "python3"
  },
  "language_info": {
   "codemirror_mode": {
    "name": "ipython",
    "version": 3
   },
   "file_extension": ".py",
   "mimetype": "text/x-python",
   "name": "python",
   "nbconvert_exporter": "python",
   "pygments_lexer": "ipython3",
   "version": "3.8.10"
  }
 },
 "nbformat": 4,
 "nbformat_minor": 5
}
