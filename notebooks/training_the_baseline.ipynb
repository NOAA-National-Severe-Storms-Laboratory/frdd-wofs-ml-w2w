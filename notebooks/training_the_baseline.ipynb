{
 "cells": [
  {
   "cell_type": "markdown",
   "id": "b6131ebb",
   "metadata": {},
   "source": [
    "# Training the Baseline Model \n",
    "\n",
    "### Primary Goal: Train an accurate baseline model for the individual severe weather hazards. \n",
    "\n",
    "In this notebook, I'll provide a brief tutorial on how to train and evaluate a baseline model. It is not only helpful, but crucial to develop a simplier, baseline model against which to evaluate the skill of the machine learning model. "
   ]
  },
  {
   "cell_type": "code",
   "execution_count": 1,
   "id": "10ece0b3",
   "metadata": {},
   "outputs": [
    {
     "name": "stderr",
     "output_type": "stream",
     "text": [
      "Intel(R) Extension for Scikit-learn* enabled (https://github.com/intel/scikit-learn-intelex)\n",
      "Intel(R) Extension for Scikit-learn* enabled (https://github.com/intel/scikit-learn-intelex)\n"
     ]
    }
   ],
   "source": [
    "# Import packages \n",
    "import pandas as pd\n",
    "import numpy as np\n",
    "import joblib\n",
    "\n",
    "# Plotting code imports \n",
    "import matplotlib.pyplot as plt\n",
    "import seaborn as sns\n",
    "sns.set_theme()\n",
    "\n",
    "# We add the github package to our system path so we can import python scripts for that repo. \n",
    "import sys\n",
    "sys.path.append('/home/samuel.varga/projects/2to6_hr_severe_wx/')\n",
    "#sys.path.append('/home/samuel.varga/python_packages/ml_workflow/ml_workflow/')\n",
    "sys.path.append('/home/samuel.varga/python_packages/ml_workflow/')\n",
    "sys.path.append('/home/samuel.varga/python_packages/VargaPy/')\n",
    "#print(sys.path)\n",
    "#sys.path.remove(sys.path[8])\n",
    "#sys.path.append('/home/monte.flora/python_packages/2to6_hr_severe_wx/')\n",
    "from main.io import load_bl_data\n",
    "#sys.path.remove('/home/monte.flora/python_packages/2to6_hr_severe_wx/main/')\n",
    "from main.evaluator import baseline_cv_scorer\n",
    "from sklearn.isotonic import IsotonicRegression\n",
    "from VargaPy.MlUtils import All_Severe, Drop_Unwanted_Variables"
   ]
  },
  {
   "cell_type": "code",
   "execution_count": 2,
   "id": "7aea1179",
   "metadata": {},
   "outputs": [],
   "source": [
    "# Configuration variables (You'll need to change based on where you store your data)\n",
    "#base_path = '/work/mflora/ML_2TO6HR/data'\n",
    "TIMESCALE='2to6'\n",
    "FRAMEWORK='POTVIN'\n",
    "base_path=f'/work/samuel.varga/data/{TIMESCALE}_hr_severe_wx/{FRAMEWORK}'"
   ]
  },
  {
   "cell_type": "markdown",
   "id": "064c6c98",
   "metadata": {},
   "source": [
    "### Neighborhood Maximum Ensemble Probability (NMEP)\n",
    "\n",
    "For the baseline system, we use a single variable approach in which we compute the ensemble probability and extract the maximum value within a track. To compute the ensemble probability ($EP$), we threshold a variable $f$ on some threshold $t$ for each ensemble member and compute the average number of members exceeding that threshold:\n",
    "\\begin{equation}\n",
    "\t        EP = \\frac{1}{N}\\sum_{i=1}^{N} f_i > t\n",
    "\\end{equation}\n",
    "\n",
    "The following variables and their threshold are as follows: \n",
    "   * Tornado $\\rightarrow$ Updraft Helicity (`uh_2ot5_instant`)\n",
    "   * Severe Hail $\\rightarrow$ HAILCAST (`hailcast`)\n",
    "   * Severe Wind $\\rightarrow$ 80-m wind speed (`ws_80`)\n",
    "   \n",
    "   \n",
    "For the NMEP, we apply a local maximum value filter to each ensemble member prior to computing the $EP$. By finding the maximum value within some neighborhood, we are accounting for the spatial uncertainty. \n",
    "\n",
    "<div class=\"alert alert-block alert-warning\"> <b>Task:</b> Per hazard and target variable, determine the most skillful threshold and scale   </div>\n",
    "\n",
    "To improve the probabilistic guidance provided by the baseline system, we used [isotonic regression](https://scikit-learn.org/stable/modules/isotonic.html) to calibrate the probabilities. We used the cross-validation approach from [Platt 1999](http://citeseer.ist.psu.edu/viewdoc/summary?doi=10.1.1.41.1639) to train the calibration model where the prediction and target values on each validation set are concatenated together and then isotonic regression is fit on that combined dataset. "
   ]
  },
  {
   "cell_type": "markdown",
   "id": "872123a5",
   "metadata": {},
   "source": [
    "## Step 1. Evaluate the NMEP at different thresholds and scales. \n",
    "\n",
    "As a first example, I've provided some code that evaluates the NMEP using cross-validation on the training dataset. Your goal will be to determine the best threshold and scale per hazard. You'll want to create a figure similar to Fig. 1 in [Loken et al. 2020](https://journals.ametsoc.org/view/journals/wefo/35/4/wafD190258.xml), which will be a great addition to your paper. \n"
   ]
  },
  {
   "cell_type": "code",
   "execution_count": 31,
   "id": "80faad24",
   "metadata": {},
   "outputs": [
    {
     "name": "stdout",
     "output_type": "stream",
     "text": [
      "Help on function load_bl_data in module main.io:\n",
      "\n",
      "load_bl_data(base_path, target_col, mode, feature_col=None)\n",
      "    Load the baseline dataset.\n",
      "    \n",
      "    Parameters\n",
      "    ----------------\n",
      "    base_path : path-like str\n",
      "        Path to where the training or testing dataset is stored.\n",
      "    \n",
      "    target_col : str \n",
      "        The name of the target column \n",
      "        \n",
      "     mode : 'train', 'test', or None\n",
      "        Indicating whether to load the training or testing dataset.\n",
      "        If None, then the original, unsplit dataset is loaded.    \n",
      "        \n",
      "    feature_col : str (default=None)\n",
      "        The name of the feature column. If None, then return the full dataframe. \n",
      "        Useful for training the baseline model.\n",
      "\n"
     ]
    }
   ],
   "source": [
    "# Uncomment and run this command to learn about the input args for the load_bl_data function.\n",
    "help(load_bl_data)"
   ]
  },
  {
   "cell_type": "code",
   "execution_count": 3,
   "id": "5a9d60e9",
   "metadata": {},
   "outputs": [],
   "source": [
    "scale='36' #36, 18, 9\n",
    "df, y, dates = load_bl_data(mode='train', \n",
    "                            target_col = 'hail_severe__{}km'.format(scale),\n",
    "#                            target_col = 'tornado_severe__36km',\n",
    "#                            target_col = 'wind_severe__36km',\n",
    "                            base_path = base_path,\n",
    "                           TIMESCALE=TIMESCALE) \n"
   ]
  },
  {
   "cell_type": "code",
   "execution_count": 5,
   "id": "a513ea90",
   "metadata": {},
   "outputs": [],
   "source": [
    "# Uncomment and run to see the full list of features. \n",
    "#list(df.columns)\n",
    "\n",
    "# Here is the breakdown for the naming convention \n",
    "# [hailcast|ws_80|uh_2to5_instant]__nmep__>[thresholds]_[9|27|45]km\n",
    "#Prob is 0_5, 0_75, 1_0-- wrong\n",
    "#help(baseline_cv_scorer)"
   ]
  },
  {
   "cell_type": "markdown",
   "id": "02afb656",
   "metadata": {},
   "source": [
    "Here is an example of how to use the `baseline_cv_scorer` function. You'll want to write a for loop to iterate over the different thresholds and scales. You'll want to keep the mean value for each set of `cv_scores`. Since you have two degrees of freedom (threshold and scale), the final figure will look like a heatmap. For an easy plotting example, look at the [seaborn heat map](https://seaborn.pydata.org/generated/seaborn.heatmap.html). "
   ]
  },
  {
   "cell_type": "code",
   "execution_count": 30,
   "id": "8219f704",
   "metadata": {},
   "outputs": [],
   "source": [
    "X = df['hailcast__nmep_>1_0_9km']\n",
    "cv_scores = baseline_cv_scorer(X, y, dates)"
   ]
  },
  {
   "cell_type": "code",
   "execution_count": 31,
   "id": "64500c74",
   "metadata": {},
   "outputs": [
    {
     "data": {
      "text/plain": [
       "[0.20221134906674787,\n",
       " 0.18826250741652273,\n",
       " 0.17738546406506916,\n",
       " 0.19778243601618883,\n",
       " 0.21054674332955492]"
      ]
     },
     "execution_count": 31,
     "metadata": {},
     "output_type": "execute_result"
    }
   ],
   "source": [
    "cv_scores"
   ]
  },
  {
   "cell_type": "markdown",
   "id": "b6ca02e9",
   "metadata": {},
   "source": [
    "<div class=\"alert alert-block alert-info\"> <b>Tip</b> It may be useful to save the results so you can plot them later. </div>"
   ]
  },
  {
   "cell_type": "code",
   "execution_count": 3,
   "id": "c4f64dac",
   "metadata": {},
   "outputs": [],
   "source": [
    "#Variables containing Name/title info\n",
    "varNam=['hailcast','ws_80','uh_2to5_instant']\n",
    "units=['in','kts', 'm^2*s^-2']\n",
    "thresh=list(np.ndarray((3,7), dtype=str)) #2D array used to hold threshold values for each variable as strings\n",
    "thresh[0]=['0_5','0_75','1_0','1_25','1_5', '', '']\n",
    "thresh[2]=[50,75,100,125,150,175,200]\n",
    "thresh[1]=['30','40','50','60', '', '', '']\n",
    "scales=['9','27','45']"
   ]
  },
  {
   "cell_type": "code",
   "execution_count": 32,
   "id": "c5d28b22",
   "metadata": {},
   "outputs": [],
   "source": [
    "#List of threshholds and scales\n",
    "# [hailcast|ws_80|uh_2to5_instant]__nmep__>[thresholds]_[9|27|45]km\n",
    "\n",
    "\n",
    "\n",
    "#array of shape {Max number of thresholds} x {Number of scales}\n",
    "mean_cv_scores=np.ones((7,3))*-999 #Shape of mean_cv_scores is [var_name, threshold, scale]\n",
    "\n",
    "#I'm sure there is a prettier way to do this without nested loops, so I'll update this if I think of it\n",
    "v=0\n",
    "for j, p in enumerate(thresh[v]):\n",
    "        for k, s in enumerate(scales):\n",
    "            #print([v,j,k])\n",
    "            if v==0 and j>=5:\n",
    "                continue\n",
    "            elif v==1 and j>=4:\n",
    "                continue\n",
    "            #print([v,p,s])\n",
    "            else:\n",
    "                X=df['{}__nmep_>{}_{}km'.format(varNam[v],p,s)]\n",
    "                mean_cv_scores[j,k]=np.nanmean(baseline_cv_scorer(X,y,dates))\n",
    "                #print([v,j,k])"
   ]
  },
  {
   "cell_type": "code",
   "execution_count": 33,
   "id": "f01abd59",
   "metadata": {},
   "outputs": [
    {
     "data": {
      "image/png": "[encoded data removed]",
      "text/plain": [
       "<Figure size 640x480 with 2 Axes>"
      ]
     },
     "metadata": {},
     "output_type": "display_data"
    },
    {
     "name": "stdout",
     "output_type": "stream",
     "text": [
      "['0_5', '27']\n",
      "0.30610413528893093\n"
     ]
    }
   ],
   "source": [
    "#Heatmap for 36km hail\n",
    "ma_mean_cv_scores=np.ma.masked_where(mean_cv_scores<=0, mean_cv_scores) #Compress to remove the masked values\n",
    "Heat2D=np.reshape(np.ma.compressed(ma_mean_cv_scores), (5,3)) #reshape into 2D (n X 3) array of BSS\n",
    "fig, ax = plt.subplots()\n",
    "sns.heatmap(Heat2D, ax=ax)\n",
    "ax.set_xlabel('Resolution (km)')\n",
    "ax.set_xticklabels(scales)\n",
    "ax.set_ylabel('{} Threshold ({})'.format(varNam[v],units[v])) #Check units for this\n",
    "ax.set_yticklabels(thresh[v][:len(Heat2D)]) #The indexing is a little funky bc this is a python list, not np.array\n",
    "ax.set_title(f'Mean BSS Scores for Severe {scale}km Hail')\n",
    "plt.show()\n",
    "\n",
    "#There is definitely a more efficient way to do this\n",
    "\n",
    "#Print statements for sanity checks\n",
    "bestInd=np.unravel_index(np.argmax(Heat2D),Heat2D.shape)\n",
    "print([thresh[v][bestInd[0]],scales[bestInd[1]]])\n",
    "print(Heat2D[bestInd[0],bestInd[1]])"
   ]
  },
  {
   "cell_type": "markdown",
   "id": "e4c46658",
   "metadata": {},
   "source": [
    "## Step 2. Training the final, calibrated model \n",
    "\n",
    "Once you are confident about the best threshold and scale, you can train the final baseline model. \n"
   ]
  },
  {
   "cell_type": "code",
   "execution_count": 4,
   "id": "05cfb8ba",
   "metadata": {},
   "outputs": [],
   "source": [
    "def train_baseline(X,y,dates, save_name):\n",
    "    \"\"\"Train a baseline model and then save it.\"\"\"\n",
    "    clf = IsotonicRegression(out_of_bounds='clip', y_min=0, y_max=1)\n",
    "    clf.fit(X, y)\n",
    "    joblib.dump(clf, save_name, compress=4)"
   ]
  },
  {
   "cell_type": "code",
   "execution_count": 40,
   "id": "2ff9d961",
   "metadata": {},
   "outputs": [
    {
     "name": "stdout",
     "output_type": "stream",
     "text": [
      "/work/samuel.varga/projects/2to6_hr_severe_wx/blModels/hail_baseline_model_36km.joblib\n"
     ]
    }
   ],
   "source": [
    "# Create a save path for the baseline model. \n",
    "workDir='/work/{}/projects/2to6_hr_severe_wx/blModels/'.format('samuel.varga') #Work directory\n",
    "save_name = 'hail_baseline_model_{}km.joblib'.format(scale)\n",
    "save_name=workDir+save_name\n",
    "print(save_name)\n",
    "\n",
    "#Load the optimal baseline data\n",
    "#X=df['{}__nmep_>{}_{}km'.format('hailcast','1_25','45')] #Need to update this to include the other two optimal vars\n",
    "X=df['{}__nmep_>{}_{}km'.format(varNam[v],thresh[v][bestInd[0]],scales[bestInd[1]])] \n",
    "train_baseline(X,y,dates, save_name)\n",
    "\n",
    "#Model has to be trained for the best threshold and prob for each hazard"
   ]
  },
  {
   "cell_type": "markdown",
   "id": "dd39caa5",
   "metadata": {},
   "source": [
    "# Step 3. Repeating the Process for Wind"
   ]
  },
  {
   "cell_type": "code",
   "execution_count": 41,
   "id": "7b0a2d77",
   "metadata": {},
   "outputs": [
    {
     "data": {
      "image/png": "[encoded data removed]",
      "text/plain": [
       "<Figure size 640x480 with 2 Axes>"
      ]
     },
     "metadata": {},
     "output_type": "display_data"
    },
    {
     "name": "stdout",
     "output_type": "stream",
     "text": [
      "/work/samuel.varga/projects/2to6_hr_severe_wx/blModels/wind_baseline_model_36km.joblib\n",
      "['40', '45']\n",
      "0.11062935340186826\n"
     ]
    }
   ],
   "source": [
    "#Load the target data\n",
    "df, y, dates = load_bl_data(mode='train', \n",
    "                            target_col = 'wind_severe__{}km'.format(scale),\n",
    "                            base_path = base_path) \n",
    "\n",
    "\n",
    "#Reset the CV_scores\n",
    "mean_cv_scores=np.ones((7,3))*-999 #Shape of mean_cv_scores is [var_name, threshold, scale]\n",
    "\n",
    "#Switch to v=1 for wind\n",
    "v=1\n",
    "\n",
    "#CV_scores for each threshold and scale\n",
    "for j, p in enumerate(thresh[v]):\n",
    "        for k, s in enumerate(scales):\n",
    "            #print([v,j,k])\n",
    "            if v==0 and j>=5:\n",
    "                continue\n",
    "            elif v==1 and j>=4:\n",
    "                continue\n",
    "            #print([v,p,s])\n",
    "            else:\n",
    "                X=df['{}__nmep_>{}_{}km'.format(varNam[v],p,s)]\n",
    "                mean_cv_scores[j,k]=np.nanmean(baseline_cv_scorer(X,y,dates))\n",
    "                #print([v,j,k])\n",
    "                \n",
    "#Heatmap for 36km wind\n",
    "ma_mean_cv_scores=np.ma.masked_where(mean_cv_scores<=0, mean_cv_scores) #Compress to remove the masked values\n",
    "Heat2D=np.reshape(np.ma.compressed(ma_mean_cv_scores), (int(len(np.ma.compressed(ma_mean_cv_scores))/3),3)) #reshape into 2D array of BSS\n",
    "fig, ax = plt.subplots()\n",
    "sns.heatmap(Heat2D, ax=ax)\n",
    "ax.set_xlabel('Resolution (km)')\n",
    "ax.set_xticklabels(scales)\n",
    "ax.set_ylabel('{} Threshold ({})'.format(varNam[v],units[v])) #Check units for this\n",
    "ax.set_yticklabels(thresh[v][:len(Heat2D)]) #The indexing is a little funky bc this is a python list, not np.array\n",
    "ax.set_title('Mean BSS Scores for Severe {scale}km Wind')\n",
    "plt.show()\n",
    "\n",
    "\n",
    "# Create a save path for the baseline model. \n",
    "workDir='/work/{}/projects/2to6_hr_severe_wx/blModels/'.format('samuel.varga') #Work directory\n",
    "save_name = 'wind_baseline_model_{}km.joblib'.format(scale)\n",
    "save_name=workDir+save_name\n",
    "print(save_name)\n",
    "\n",
    "#Grab the indices for the maximum CV_score\n",
    "bestInd=np.unravel_index(np.argmax(Heat2D),Heat2D.shape)\n",
    "print([thresh[v][bestInd[0]],scales[bestInd[1]]])\n",
    "print(Heat2D[bestInd[0],bestInd[1]])\n",
    "#Load the optimal baseline data and train the baseline model\n",
    "X=df['{}__nmep_>{}_{}km'.format(varNam[v],thresh[v][bestInd[0]],scales[bestInd[1]])] \n",
    "train_baseline(X,y,dates, save_name)"
   ]
  },
  {
   "cell_type": "markdown",
   "id": "9ffdb9da",
   "metadata": {},
   "source": [
    "# Step 4. Repeating the Process for Tornadoes"
   ]
  },
  {
   "cell_type": "code",
   "execution_count": null,
   "id": "3d52a35e",
   "metadata": {},
   "outputs": [],
   "source": [
    "#Load the target data\n",
    "#df, y, dates = load_bl_data(mode='train', \n",
    "#                            target_col = 'tornado_severe__{}km'.format(scale),\n",
    "#                            base_path = base_path) \n",
    "\n",
    "\n",
    "#Reset the CV_scores\n",
    "mean_cv_scores=np.ones((7,3))*-999 #Shape of mean_cv_scores is [var_name, threshold, scale]\n",
    "\n",
    "#Switch to v=2 for tornado\n",
    "v=2\n",
    "\n",
    "#CV_scores for each threshold and scale\n",
    "for j, p in enumerate(thresh[v]):\n",
    "        for k, s in enumerate(scales):\n",
    "            #print([v,j,k])\n",
    "            if v==0 and j>=5:\n",
    "                continue\n",
    "            elif v==1 and j>=4:\n",
    "                continue\n",
    "            #print([v,p,s])\n",
    "            else:\n",
    "                X=df['{}__nmep_>{}_{}km'.format(varNam[v],p,s)]\n",
    "                mean_cv_scores[j,k]=np.nanmean(baseline_cv_scorer(X,y,dates))\n",
    "                #print([v,j,k])\n",
    "                \n",
    "#Heatmap for 36km tornado\n",
    "ma_mean_cv_scores=np.ma.masked_where(mean_cv_scores<=0, mean_cv_scores) #Compress to remove the masked values\n",
    "Heat2D=np.reshape(np.ma.compressed(ma_mean_cv_scores), (int(len(np.ma.compressed(ma_mean_cv_scores))/3),3)) #reshape into 2D array of BSS\n",
    "fig, ax = plt.subplots()\n",
    "sns.heatmap(Heat2D, ax=ax)\n",
    "ax.set_xlabel('Resolution (km)')\n",
    "ax.set_xticklabels(scales)\n",
    "ax.set_ylabel('{} Threshold ({})'.format(varNam[v],units[v])) #Check units for this\n",
    "ax.set_yticklabels(thresh[v][:len(Heat2D)]) #The indexing is a little funky bc this is a python list, not np.array\n",
    "ax.set_title(f'Mean BSS Scores for Severe {scale}km Tornado')\n",
    "plt.show()\n",
    "\n",
    "\n",
    "# Create a save path for the baseline model. \n",
    "#workDir='/work/{}/projects/2to6_hr_severe_wx/blModels/'.format('samuel.varga') #Work directory\n",
    "#save_name = 'tornado_baseline_model_{}km.joblib'.format(scale)\n",
    "save_name=f'/work/samuel.varga/projects/0to3_hr_severe_wx/POTVIN/blModels/all_baseline_model_{scale}km.joblib'\n",
    "#save_name=workDir+save_name\n",
    "print(save_name)\n",
    "\n",
    "#Grab the indices for the maximum CV_score\n",
    "bestInd=np.unravel_index(np.argmax(Heat2D),Heat2D.shape)\n",
    "print(Heat2D[bestInd[0],bestInd[1]])\n",
    "print([thresh[v][bestInd[0]],scales[bestInd[1]]])\n",
    "\n",
    "#Load the optimal baseline data and train the baseline model\n",
    "X=df['{}__nmep_>{}_{}km'.format(varNam[v],thresh[v][bestInd[0]],scales[bestInd[1]])] \n",
    "train_baseline(X,y,dates, save_name)"
   ]
  },
  {
   "cell_type": "markdown",
   "id": "beaf1799",
   "metadata": {},
   "source": [
    "I'll leave this as a note for future me. The color bars for the heatmaps are all different, which I should address in the future. "
   ]
  },
  {
   "cell_type": "markdown",
   "id": "70d087b7",
   "metadata": {},
   "source": [
    "# UH Baseline for All Severe\n",
    "\n",
    "This baseline is relevant to Clark & Loken (2022). It is evaluated on all three severe weather hazards, and uses 2-5 km UH."
   ]
  },
  {
   "cell_type": "code",
   "execution_count": 5,
   "id": "e8a2cbf7",
   "metadata": {},
   "outputs": [
    {
     "name": "stdout",
     "output_type": "stream",
     "text": [
      "7368\n",
      "15909\n",
      "16861\n"
     ]
    },
    {
     "name": "stderr",
     "output_type": "stream",
     "text": [
      "/tmp/ipykernel_2010757/3851031884.py:21: SettingWithCopyWarning: \n",
      "A value is trying to be set on a copy of a slice from a DataFrame\n",
      "\n",
      "See the caveats in the documentation: https://pandas.pydata.org/pandas-docs/stable/user_guide/indexing.html#returning-a-view-versus-a-copy\n",
      "  y[y > 0] = 1\n"
     ]
    },
    {
     "data": {
      "image/png": "[encoded data removed]",
      "text/plain": [
       "<Figure size 640x480 with 2 Axes>"
      ]
     },
     "metadata": {},
     "output_type": "display_data"
    },
    {
     "name": "stdout",
     "output_type": "stream",
     "text": [
      "/work/samuel.varga/projects/2to6_hr_severe_wx/POTVIN/blModels/all_baseline_model_sig_36km.joblib\n",
      "0.08571415828843165\n",
      "[200, '27']\n"
     ]
    }
   ],
   "source": [
    "TIMESCALE='2to6'\n",
    "FRAMEWORK='POTVIN'\n",
    "scale='36' #100,45 /100,27/ 125, 27\n",
    "Tkm=False\n",
    "hazard='all'\n",
    "base_path=f'/work/samuel.varga/data/{TIMESCALE}_hr_severe_wx/{FRAMEWORK}'\n",
    "if hazard == 'all':    \n",
    "    target_col='{}_sig_severe__{}km'.format('wind', scale)\n",
    "    df,y,dates = load_bl_data(base_path=base_path, \n",
    "                                mode='train', \n",
    "                                target_col=target_col,\n",
    "                               TIMESCALE=TIMESCALE,\n",
    "                             Big=False, Three_km=Tkm)\n",
    "    print(len(y[y>0]))\n",
    "    for sub_hazard in ['hail','tornado']: #tornado\n",
    "            target_col='{}_sig_severe__{}km'.format(sub_hazard, scale)\n",
    "            SPAM, y1, SPAM  = load_bl_data(base_path=base_path, mode='train', target_col=target_col,  TIMESCALE=TIMESCALE, Big=False, Three_km=Tkm) \n",
    "            y +=y1\n",
    "            print(len(y[y>0]))\n",
    "\n",
    "    y[y > 0] = 1\n",
    "else:\n",
    "    target_col=f'{hazard}_severe__{scale}km'\n",
    "    df,y,dates = load_bl_data(base_path=base_path, \n",
    "                                mode='train', \n",
    "                                target_col=target_col,\n",
    "                               TIMESCALE=TIMESCALE,\n",
    "                             Big=False, Three_km=Tkm)\n",
    "#Reset the CV_scores\n",
    "mean_cv_scores=np.ones((7,3))*-999 #Shape of mean_cv_scores is [var_name, threshold, scale]\n",
    "#7,3\n",
    "#Switch to v=2 for 2-5 UH\n",
    "hazard_dic={'hail':0,'wind':1,'tornado':2,'all':2}\n",
    "hazard_var_names={'hail':'HAILCAST','wind':'80-meter Wind Speed','tornado':'2-5 km UH','all':'2-5 km UH'}\n",
    "v=hazard_dic[hazard]\n",
    "\n",
    "#CV_scores for each threshold and scale\n",
    "for j, p in enumerate(thresh[v]):\n",
    "        for k, s in enumerate(scales): #scales\n",
    "            #print([v,j,k])\n",
    "            if v==0 and j>=5:\n",
    "                continue\n",
    "            elif v==1 and j>=4:\n",
    "                continue\n",
    "            #print([v,p,s])\n",
    "            else:\n",
    "                X=df['{}__nmep_>{}_{}km'.format(varNam[v],p,s)]\n",
    "                mean_cv_scores[j,k]=np.nanmean(baseline_cv_scorer(X,y,dates))\n",
    "                #print([v,j,k])\n",
    "                \n",
    "#Heatmap of CV scores for All severe at given scale\n",
    "ma_mean_cv_scores=np.ma.masked_where(mean_cv_scores<=0, mean_cv_scores) #Compress to remove the masked values\n",
    "Heat2D=np.reshape(np.ma.compressed(ma_mean_cv_scores), (int(len(np.ma.compressed(ma_mean_cv_scores))/3),3)) #reshape into 2D array of BSS\n",
    "#Heat2D=np.reshape(np.ma.compressed(ma_mean_cv_scores), (7,3)) #reshape into 2D array of BSS\n",
    "fig, ax = plt.subplots()\n",
    "sns.heatmap(Heat2D, ax=ax)\n",
    "ax.set_xlabel('Filter Radius (km)')\n",
    "ax.set_xticklabels(scales) #scales\n",
    "ax.set_ylabel(f'{hazard_var_names[hazard]} Threshold ({units[v]})') #Check units for this\n",
    "ax.set_yticklabels(thresh[v][:len(Heat2D)]) #The indexing is a little funky bc this is a python list, not np.array\n",
    "ax.set_title(f'Mean BSS Scores for {hazard.capitalize()} Severe {scale}km')\n",
    "#plt.savefig(f'/home/samuel.varga/{hazard}_bl_heatmap.png', bbox_inches='tight')\n",
    "plt.show()\n",
    "\n",
    "\n",
    "# Create a save path for the baseline model. \n",
    "#workDir='/work/{}/projects/2to6_hr_severe_wx/blModels/'.format('samuel.varga') #Work directory\n",
    "#save_name = 'tornado_baseline_model_{}km.joblib'.format(scale)\n",
    "save_name=f'/work/samuel.varga/projects/{TIMESCALE}_hr_severe_wx/{FRAMEWORK}/blModels/{hazard}_baseline_model_sig_{scale}km.joblib'\n",
    "#save_name=workDir+save_name\n",
    "print(save_name)\n",
    "\n",
    "#Grab the indices for the maximum CV_score\n",
    "bestInd=np.unravel_index(np.argmax(Heat2D),Heat2D.shape)\n",
    "print(Heat2D[bestInd[0],bestInd[1]])\n",
    "print([thresh[v][bestInd[0]],scales[bestInd[1]]])\n",
    "\n",
    "#Load the optimal baseline data and train the baseline model\n",
    "X=df['{}__nmep_>{}_{}km'.format(varNam[v],thresh[v][bestInd[0]],scales[bestInd[1]])] #scales[bestInd[1]])] #scales[bestInd[1]]\n",
    "train_baseline(X,y,dates, save_name)"
   ]
  },
  {
   "cell_type": "code",
   "execution_count": 19,
   "id": "52eda8b2",
   "metadata": {},
   "outputs": [
    {
     "data": {
      "text/plain": [
       "Index(['hailcast__nmep_>0_5_4km', 'hailcast__nmep_>0_75_4km',\n",
       "       'hailcast__nmep_>1_0_4km', 'hailcast__nmep_>1_25_4km',\n",
       "       'hailcast__nmep_>1_5_4km', 'uh_2to5_instant__nmep_>50_4km',\n",
       "       'uh_2to5_instant__nmep_>75_4km', 'uh_2to5_instant__nmep_>100_4km',\n",
       "       'uh_2to5_instant__nmep_>125_4km', 'uh_2to5_instant__nmep_>150_4km',\n",
       "       'uh_2to5_instant__nmep_>175_4km', 'uh_2to5_instant__nmep_>200_4km',\n",
       "       'ws_80__nmep_>30_4km', 'ws_80__nmep_>40_4km', 'ws_80__nmep_>50_4km',\n",
       "       'ws_80__nmep_>60_4km', 'Run Date', 'Init Time', 'tornado_severe__36km',\n",
       "       'hail_severe__36km', 'wind_severe__36km', 'tornado_sig_severe__36km',\n",
       "       'hail_sig_severe__36km', 'wind_sig_severe__36km',\n",
       "       'tornado_severe__18km', 'hail_severe__18km', 'wind_severe__18km',\n",
       "       'tornado_sig_severe__18km', 'hail_sig_severe__18km',\n",
       "       'wind_sig_severe__18km', 'tornado_severe__9km', 'hail_severe__9km',\n",
       "       'wind_severe__9km', 'tornado_sig_severe__9km', 'hail_sig_severe__9km',\n",
       "       'wind_sig_severe__9km'],\n",
       "      dtype='object')"
      ]
     },
     "execution_count": 19,
     "metadata": {},
     "output_type": "execute_result"
    }
   ],
   "source": [
    "df.columns"
   ]
  },
  {
   "cell_type": "code",
   "execution_count": null,
   "id": "208b8625",
   "metadata": {},
   "outputs": [],
   "source": []
  }
 ],
 "metadata": {
  "kernelspec": {
   "display_name": "Vanilla",
   "language": "python",
   "name": "vanilla"
  },
  "language_info": {
   "codemirror_mode": {
    "name": "ipython",
    "version": 3
   },
   "file_extension": ".py",
   "mimetype": "text/x-python",
   "name": "python",
   "nbconvert_exporter": "python",
   "pygments_lexer": "ipython3",
   "version": "3.10.5"
  }
 },
 "nbformat": 4,
 "nbformat_minor": 5
}
