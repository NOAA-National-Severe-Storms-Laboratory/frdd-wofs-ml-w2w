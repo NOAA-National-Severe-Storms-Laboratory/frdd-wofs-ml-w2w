{
 "cells": [
  {
   "cell_type": "code",
   "execution_count": 1,
   "id": "900abd59",
   "metadata": {},
   "outputs": [
    {
     "name": "stdout",
     "output_type": "stream",
     "text": [
      "lookup_file: /home/samuel.varga/python_packages/WoF_post/wofs/data/psadilookup.dat\n"
     ]
    },
    {
     "name": "stderr",
     "output_type": "stream",
     "text": [
      "Intel(R) Extension for Scikit-learn* enabled (https://github.com/intel/scikit-learn-intelex)\n",
      "Intel(R) Extension for Scikit-learn* enabled (https://github.com/intel/scikit-learn-intelex)\n"
     ]
    }
   ],
   "source": [
    "import sys \n",
    "import joblib\n",
    "sys.path.append('/home/samuel.varga/python_packages/wofs_ml_severe')\n",
    "sys.path.append('/home/samuel.varga/python_packages/WoF_post')\n",
    "sys.path.append('/home/samuel.varga/python_packages/scikit-explain')\n",
    "sys.path.append('/home/samuel.varga/projects/2to6_hr_severe_wx/experiments')\n",
    "sys.path.append('/home/samuel.varga/python_packages/MontePython/')\n",
    "\n",
    "from ml_2to6_data_pipeline import (GridPointExtracter,\n",
    "                                                       subsampler, \n",
    "                                                       load_dataset, random_subsampler)\n",
    "from os.path import join, exists\n",
    "import sys\n",
    "import argparse\n",
    "#Appendages\n",
    "sys.path.append('/home/samuel.varga/projects/2to6_hr_severe_wx/')\n",
    "sys.path.append('/home/samuel.varga/python_packages/ml_workflow/')\n",
    "sys.path.append('/home/samuel.varga/python_packages/VargaPy/')\n",
    "# Import packages \n",
    "import pandas as pd\n",
    "import numpy as np\n",
    "import sklearn\n",
    "from os.path import join\n",
    "from sklearn.linear_model import LogisticRegression\n",
    "from hyperopt import hp\n",
    "from main.io import load_ml_data\n",
    "from ml_workflow.calibrated_pipeline_hyperopt_cv import norm_aupdc_scorer, norm_csi_scorer\n",
    "from ml_workflow.tuned_estimator import TunedEstimator, dates_to_groups\n",
    "from VargaPy.MlUtils import All_Severe, Drop_Unwanted_Variables, Train_Ml_Parser\n",
    "from sklearn.model_selection import GroupKFold"
   ]
  },
  {
   "cell_type": "markdown",
   "id": "79563a7f",
   "metadata": {},
   "source": [
    "## Load data"
   ]
  },
  {
   "cell_type": "code",
   "execution_count": 2,
   "id": "c432c479",
   "metadata": {},
   "outputs": [
    {
     "name": "stdout",
     "output_type": "stream",
     "text": [
      "37752\n",
      "63915\n",
      "66734\n",
      "Using new variables- dropping old 90th percentile\n",
      "(1274972, 174)\n",
      "all\n"
     ]
    }
   ],
   "source": [
    "FRAMEWORK='POTVIN'\n",
    "TIMESCALE='2to6'\n",
    "target_scale='36'\n",
    "base_path = f'/work/samuel.varga/data/{TIMESCALE}_hr_severe_wx/{FRAMEWORK}'\n",
    "X,y,metadata = All_Severe(base_path, mode='train',\n",
    "                                  target_scale=target_scale,\n",
    "                                  FRAMEWORK=FRAMEWORK,\n",
    "                                  TIMESCALE=TIMESCALE, Big=False)\n",
    "X, ts_suff = Drop_Unwanted_Variables(X, original=False, training_scale=False, intrastormOnly=False, envOnly=False)"
   ]
  },
  {
   "cell_type": "markdown",
   "id": "69b1660d",
   "metadata": {},
   "source": [
    "## Plot Coefficient Ranks"
   ]
  },
  {
   "cell_type": "code",
   "execution_count": 3,
   "id": "7e670470",
   "metadata": {},
   "outputs": [
    {
     "ename": "AttributeError",
     "evalue": "'LogisticRegression' object has no attribute 'coef_'",
     "output_type": "error",
     "traceback": [
      "\u001b[0;31m---------------------------------------------------------------------------\u001b[0m",
      "\u001b[0;31mAttributeError\u001b[0m                            Traceback (most recent call last)",
      "Input \u001b[0;32mIn [3]\u001b[0m, in \u001b[0;36m<cell line: 10>\u001b[0;34m()\u001b[0m\n\u001b[1;32m      8\u001b[0m \u001b[38;5;66;03m# X and y are the training dataset\u001b[39;00m\n\u001b[1;32m      9\u001b[0m explainer \u001b[38;5;241m=\u001b[39m skexplain\u001b[38;5;241m.\u001b[39mExplainToolkit(X\u001b[38;5;241m=\u001b[39mX,y\u001b[38;5;241m=\u001b[39my)\n\u001b[0;32m---> 10\u001b[0m coefs \u001b[38;5;241m=\u001b[39m \u001b[43mmodel\u001b[49m\u001b[43m[\u001b[49m\u001b[38;5;124;43m'\u001b[39;49m\u001b[38;5;124;43mmodel\u001b[39;49m\u001b[38;5;124;43m'\u001b[39;49m\u001b[43m]\u001b[49m\u001b[38;5;241;43m.\u001b[39;49m\u001b[43mbase_estimator\u001b[49m\u001b[38;5;241;43m.\u001b[39;49m\u001b[43mnamed_steps\u001b[49m\u001b[43m[\u001b[49m\u001b[38;5;124;43m'\u001b[39;49m\u001b[38;5;124;43mmodel\u001b[39;49m\u001b[38;5;124;43m'\u001b[39;49m\u001b[43m]\u001b[49m\u001b[38;5;241;43m.\u001b[39;49m\u001b[43mcoef_\u001b[49m[\u001b[38;5;241m0\u001b[39m]\n\u001b[1;32m     11\u001b[0m coef_rank \u001b[38;5;241m=\u001b[39m to_skexplain_importance(coefs,\n\u001b[1;32m     12\u001b[0m                                        estimator_name\u001b[38;5;241m=\u001b[39mname, \n\u001b[1;32m     13\u001b[0m                                        feature_names\u001b[38;5;241m=\u001b[39mX\u001b[38;5;241m.\u001b[39mcolumns, \n\u001b[1;32m     14\u001b[0m                                         method \u001b[38;5;241m=\u001b[39m \u001b[38;5;124m'\u001b[39m\u001b[38;5;124mcoefs\u001b[39m\u001b[38;5;124m'\u001b[39m)\n\u001b[1;32m     16\u001b[0m panels \u001b[38;5;241m=\u001b[39m [(\u001b[38;5;124m'\u001b[39m\u001b[38;5;124mCoefs.\u001b[39m\u001b[38;5;124m'\u001b[39m, \u001b[38;5;124m'\u001b[39m\u001b[38;5;124mLogisticRegression\u001b[39m\u001b[38;5;124m'\u001b[39m)]\n",
      "\u001b[0;31mAttributeError\u001b[0m: 'LogisticRegression' object has no attribute 'coef_'"
     ]
    }
   ],
   "source": [
    "from skexplain.common.importance_utils import to_skexplain_importance\n",
    "import skexplain\n",
    "\n",
    "base_path=f'/work/samuel.varga/projects/{TIMESCALE}_hr_severe_wx/{FRAMEWORK}'\n",
    "model_ind=2\n",
    "model=joblib.load(join(base_path, f'mlModels/{target_scale}km/Varga_all_logistic_all_{target_scale}km_control_{model_ind}.joblib'))\n",
    "\n",
    "# X and y are the training dataset\n",
    "explainer = skexplain.ExplainToolkit(X=X,y=y)\n",
    "coefs = model['model'].base_estimator.named_steps['model'].coef_[0]\n",
    "coef_rank = to_skexplain_importance(coefs,\n",
    "                                       estimator_name=name, \n",
    "                                       feature_names=X.columns, \n",
    "                                        method = 'coefs')\n",
    "\n",
    "panels = [('Coefs.', 'LogisticRegression')]\n",
    "fig = explainer.plot_importance(data=coef_rank, panels=panels, \n",
    "                                num_vars_to_plot=10, \n",
    "                               )"
   ]
  },
  {
   "cell_type": "code",
   "execution_count": 5,
   "id": "6f8a3c3a",
   "metadata": {},
   "outputs": [
    {
     "name": "stdout",
     "output_type": "stream",
     "text": [
      "LogisticRegression(l1_ratio=0.001, max_iter=300, penalty='elasticnet',\n",
      "                   random_state=42, solver='saga')\n",
      "['C', '__class__', '__delattr__', '__dict__', '__dir__', '__doc__', '__eq__', '__format__', '__ge__', '__getattribute__', '__getstate__', '__gt__', '__hash__', '__init__', '__init_subclass__', '__le__', '__lt__', '__module__', '__ne__', '__new__', '__reduce__', '__reduce_ex__', '__repr__', '__setattr__', '__setstate__', '__sizeof__', '__str__', '__subclasshook__', '__weakref__', '_check_feature_names', '_check_n_features', '_estimator_type', '_get_param_names', '_get_tags', '_more_tags', '_predict_proba_lr', '_repr_html_', '_repr_html_inner', '_repr_mimebundle_', '_validate_data', 'class_weight', 'decision_function', 'densify', 'dual', 'fit', 'fit_intercept', 'get_params', 'intercept_scaling', 'l1_ratio', 'max_iter', 'multi_class', 'n_jobs', 'penalty', 'predict', 'predict_log_proba', 'predict_proba', 'random_state', 'score', 'set_params', 'solver', 'sparsify', 'tol', 'verbose', 'warm_start']\n"
     ]
    }
   ],
   "source": [
    "#model['model'].base_estimator.named_steps['model'].coef_\n",
    "print(model['model'].base_estimator.named_steps['model'])\n",
    "print(dir(model['model'].base_estimator.named_steps['model']))\n",
    "#It should have coefficients after .fit is called during training -- is it saving the untrained model??"
   ]
  },
  {
   "cell_type": "code",
   "execution_count": null,
   "id": "2e24b618",
   "metadata": {},
   "outputs": [],
   "source": []
  },
  {
   "cell_type": "code",
   "execution_count": null,
   "id": "136c4dfe",
   "metadata": {},
   "outputs": [],
   "source": []
  }
 ],
 "metadata": {
  "kernelspec": {
   "display_name": "Vanilla",
   "language": "python",
   "name": "vanilla"
  },
  "language_info": {
   "codemirror_mode": {
    "name": "ipython",
    "version": 3
   },
   "file_extension": ".py",
   "mimetype": "text/x-python",
   "name": "python",
   "nbconvert_exporter": "python",
   "pygments_lexer": "ipython3",
   "version": "3.10.4"
  }
 },
 "nbformat": 4,
 "nbformat_minor": 5
}
