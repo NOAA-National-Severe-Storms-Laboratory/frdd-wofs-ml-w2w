{
 "cells": [
  {
   "cell_type": "code",
   "execution_count": 1,
   "id": "900abd59",
   "metadata": {},
   "outputs": [
    {
     "name": "stdout",
     "output_type": "stream",
     "text": [
      "lookup_file: /home/samuel.varga/python_packages/WoF_post/wofs/data/psadilookup.dat\n"
     ]
    },
    {
     "name": "stderr",
     "output_type": "stream",
     "text": [
      "Intel(R) Extension for Scikit-learn* enabled (https://github.com/intel/scikit-learn-intelex)\n",
      "Intel(R) Extension for Scikit-learn* enabled (https://github.com/intel/scikit-learn-intelex)\n"
     ]
    }
   ],
   "source": [
    "import sys \n",
    "import joblib\n",
    "sys.path.append('/home/samuel.varga/python_packages/wofs_ml_severe')\n",
    "sys.path.append('/home/samuel.varga/python_packages/WoF_post')\n",
    "sys.path.append('/home/samuel.varga/python_packages/scikit-explain')\n",
    "sys.path.append('/home/samuel.varga/projects/2to6_hr_severe_wx/experiments')\n",
    "sys.path.append('/home/samuel.varga/python_packages/MontePython/')\n",
    "\n",
    "from ml_2to6_data_pipeline import (GridPointExtracter,\n",
    "                                                       subsampler, \n",
    "                                                       load_dataset, random_subsampler)\n",
    "from os.path import join, exists\n",
    "import argparse\n",
    "#Appendages\n",
    "sys.path.append('/home/samuel.varga/projects/2to6_hr_severe_wx/')\n",
    "sys.path.append('/home/samuel.varga/python_packages/ml_workflow/')\n",
    "sys.path.append('/home/samuel.varga/python_packages/VargaPy/')\n",
    "# Import packages \n",
    "import pandas as pd\n",
    "import numpy as np\n",
    "import sklearn\n",
    "from os.path import join\n",
    "from sklearn.linear_model import LogisticRegression\n",
    "from hyperopt import hp\n",
    "from main.io import load_ml_data\n",
    "from ml_workflow.calibrated_pipeline_hyperopt_cv import norm_aupdc_scorer, norm_csi_scorer\n",
    "from ml_workflow.tuned_estimator import TunedEstimator, dates_to_groups\n",
    "from VargaPy.MlUtils import All_Severe, Drop_Unwanted_Variables, Train_Ml_Parser, group_coefs\n",
    "from sklearn.model_selection import GroupKFold\n",
    "import matplotlib.pyplot as plt"
   ]
  },
  {
   "cell_type": "markdown",
   "id": "79563a7f",
   "metadata": {},
   "source": [
    "## Load data"
   ]
  },
  {
   "cell_type": "code",
   "execution_count": 14,
   "id": "c432c479",
   "metadata": {},
   "outputs": [
    {
     "name": "stdout",
     "output_type": "stream",
     "text": [
      "35388\n",
      "63121\n",
      "66309\n",
      "Using new variables- dropping old 90th percentile\n",
      "(1362800, 174)\n",
      "all\n"
     ]
    }
   ],
   "source": [
    "%matplotlib inline\n",
    "FRAMEWORK='POTVIN'\n",
    "TIMESCALE='0to3'\n",
    "target_scale='36'\n",
    "base_path = f'/work/samuel.varga/data/{TIMESCALE}_hr_severe_wx/{FRAMEWORK}'\n",
    "X,y,metadata = All_Severe(base_path, mode='train',\n",
    "                                  target_scale=target_scale,\n",
    "                                  FRAMEWORK=FRAMEWORK,\n",
    "                                  TIMESCALE=TIMESCALE, SigSevere=False)\n",
    "X, ts_suff = Drop_Unwanted_Variables(X, original=False, training_scale=False, intrastormOnly=False, envOnly=False)"
   ]
  },
  {
   "cell_type": "markdown",
   "id": "69b1660d",
   "metadata": {},
   "source": [
    "## Plot Coefficient Ranks"
   ]
  },
  {
   "cell_type": "code",
   "execution_count": 15,
   "id": "c7673a53",
   "metadata": {},
   "outputs": [],
   "source": [
    "from skexplain.common.importance_utils import to_skexplain_importance\n",
    "import skexplain\n",
    "model_ind=0\n",
    "base_path=f'/work/samuel.varga/projects/{TIMESCALE}_hr_severe_wx/{FRAMEWORK}'\n",
    "model=joblib.load(join(base_path, f'mlModels/{target_scale}km/Varga_all_logistic_all_{target_scale}km_control_{model_ind}.joblib'))\n",
    "\n",
    "# X and y are the training dataset\n",
    "explainer = skexplain.ExplainToolkit(X=X,y=y)\n",
    "coefs = model['model'].calibrated_classifiers_[0].base_estimator.named_steps['model'].coef_[0]"
   ]
  },
  {
   "cell_type": "code",
   "execution_count": 34,
   "id": "8afe2b91",
   "metadata": {},
   "outputs": [
    {
     "data": {
      "text/html": [
       "<div>\n",
       "<style scoped>\n",
       "    .dataframe tbody tr th:only-of-type {\n",
       "        vertical-align: middle;\n",
       "    }\n",
       "\n",
       "    .dataframe tbody tr th {\n",
       "        vertical-align: top;\n",
       "    }\n",
       "\n",
       "    .dataframe thead th {\n",
       "        text-align: right;\n",
       "    }\n",
       "</style>\n",
       "<table border=\"1\" class=\"dataframe\">\n",
       "  <thead>\n",
       "    <tr style=\"text-align: right;\">\n",
       "      <th></th>\n",
       "      <th>variable</th>\n",
       "      <th>neighborhood</th>\n",
       "      <th>coef</th>\n",
       "    </tr>\n",
       "  </thead>\n",
       "  <tbody>\n",
       "    <tr>\n",
       "      <th>13</th>\n",
       "      <td>low_level_lapse_rate</td>\n",
       "      <td>45km</td>\n",
       "      <td>1.848932</td>\n",
       "    </tr>\n",
       "    <tr>\n",
       "      <th>43</th>\n",
       "      <td>srh_0to3</td>\n",
       "      <td>45km</td>\n",
       "      <td>1.646495</td>\n",
       "    </tr>\n",
       "    <tr>\n",
       "      <th>12</th>\n",
       "      <td>low_level_lapse_rate</td>\n",
       "      <td>27km</td>\n",
       "      <td>1.310629</td>\n",
       "    </tr>\n",
       "    <tr>\n",
       "      <th>42</th>\n",
       "      <td>srh_0to3</td>\n",
       "      <td>27km</td>\n",
       "      <td>1.276434</td>\n",
       "    </tr>\n",
       "    <tr>\n",
       "      <th>25</th>\n",
       "      <td>shear_u_0to1</td>\n",
       "      <td>45km</td>\n",
       "      <td>0.871915</td>\n",
       "    </tr>\n",
       "    <tr>\n",
       "      <th>...</th>\n",
       "      <td>...</td>\n",
       "      <td>...</td>\n",
       "      <td>...</td>\n",
       "    </tr>\n",
       "    <tr>\n",
       "      <th>17</th>\n",
       "      <td>mid_level_lapse_rate</td>\n",
       "      <td>9km</td>\n",
       "      <td>0.082554</td>\n",
       "    </tr>\n",
       "    <tr>\n",
       "      <th>56</th>\n",
       "      <td>w_up</td>\n",
       "      <td>9km</td>\n",
       "      <td>0.071717</td>\n",
       "    </tr>\n",
       "    <tr>\n",
       "      <th>50</th>\n",
       "      <td>uh_0to2_instant</td>\n",
       "      <td>9km</td>\n",
       "      <td>0.060566</td>\n",
       "    </tr>\n",
       "    <tr>\n",
       "      <th>20</th>\n",
       "      <td>okubo_weiss</td>\n",
       "      <td>9km</td>\n",
       "      <td>0.051792</td>\n",
       "    </tr>\n",
       "    <tr>\n",
       "      <th>41</th>\n",
       "      <td>shear_v_3to6</td>\n",
       "      <td>9km</td>\n",
       "      <td>0.026577</td>\n",
       "    </tr>\n",
       "  </tbody>\n",
       "</table>\n",
       "<p>63 rows × 3 columns</p>\n",
       "</div>"
      ],
      "text/plain": [
       "                variable neighborhood      coef\n",
       "13  low_level_lapse_rate         45km  1.848932\n",
       "43              srh_0to3         45km  1.646495\n",
       "12  low_level_lapse_rate         27km  1.310629\n",
       "42              srh_0to3         27km  1.276434\n",
       "25          shear_u_0to1         45km  0.871915\n",
       "..                   ...          ...       ...\n",
       "17  mid_level_lapse_rate          9km  0.082554\n",
       "56                  w_up          9km  0.071717\n",
       "50       uh_0to2_instant          9km  0.060566\n",
       "20           okubo_weiss          9km  0.051792\n",
       "41          shear_v_3to6          9km  0.026577\n",
       "\n",
       "[63 rows x 3 columns]"
      ]
     },
     "execution_count": 34,
     "metadata": {},
     "output_type": "execute_result"
    }
   ],
   "source": [
    "Z=group_coefs(X.columns, coefs)\n",
    "Z=Z.groupby(['variable','neighborhood']).sum().reset_index() #variable, category, neighborhood, statistic\n",
    "Z.sort_values(by='coef', ascending=False)"
   ]
  },
  {
   "cell_type": "code",
   "execution_count": 25,
   "id": "eadaac72",
   "metadata": {},
   "outputs": [],
   "source": [
    "names=np.array(Z.statistic)\n",
    "coefs_=np.array(Z.coef)"
   ]
  },
  {
   "cell_type": "code",
   "execution_count": 26,
   "id": "7e670470",
   "metadata": {},
   "outputs": [
    {
     "data": {
      "image/png": "[encoded data removed]",
      "text/plain": [
       "<Figure size 900x750 with 3 Axes>"
      ]
     },
     "metadata": {},
     "output_type": "display_data"
    }
   ],
   "source": [
    "coef_rank = to_skexplain_importance(coefs_,\n",
    "                                       estimator_name='LogisticRegression', \n",
    "                                       feature_names=names, \n",
    "                                        method = 'coefs')\n",
    "\n",
    "panels = [('coefs', 'LogisticRegression')]\n",
    "fig = explainer.plot_importance(data=coef_rank, panels=panels, \n",
    "                                num_vars_to_plot=20, \n",
    "                               )"
   ]
  },
  {
   "cell_type": "code",
   "execution_count": 95,
   "id": "6f8a3c3a",
   "metadata": {},
   "outputs": [
    {
     "data": {
      "text/plain": [
       "['__class__',\n",
       " '__delattr__',\n",
       " '__dict__',\n",
       " '__dir__',\n",
       " '__doc__',\n",
       " '__eq__',\n",
       " '__format__',\n",
       " '__ge__',\n",
       " '__getattribute__',\n",
       " '__getstate__',\n",
       " '__gt__',\n",
       " '__hash__',\n",
       " '__init__',\n",
       " '__init_subclass__',\n",
       " '__le__',\n",
       " '__lt__',\n",
       " '__module__',\n",
       " '__ne__',\n",
       " '__new__',\n",
       " '__reduce__',\n",
       " '__reduce_ex__',\n",
       " '__repr__',\n",
       " '__setattr__',\n",
       " '__setstate__',\n",
       " '__sizeof__',\n",
       " '__str__',\n",
       " '__subclasshook__',\n",
       " '__weakref__',\n",
       " '_check_feature_names',\n",
       " '_check_n_features',\n",
       " '_estimator_type',\n",
       " '_get_param_names',\n",
       " '_get_tags',\n",
       " '_more_tags',\n",
       " '_repr_html_',\n",
       " '_repr_html_inner',\n",
       " '_repr_mimebundle_',\n",
       " '_required_parameters',\n",
       " '_validate_data',\n",
       " 'base_estimator',\n",
       " 'calibrated_classifiers_',\n",
       " 'classes_',\n",
       " 'cv',\n",
       " 'ensemble',\n",
       " 'feature_names_in_',\n",
       " 'fit',\n",
       " 'get_params',\n",
       " 'method',\n",
       " 'n_features_in_',\n",
       " 'n_jobs',\n",
       " 'predict',\n",
       " 'predict_proba',\n",
       " 'score',\n",
       " 'set_params']"
      ]
     },
     "execution_count": 95,
     "metadata": {},
     "output_type": "execute_result"
    }
   ],
   "source": [
    "dir(model['model'])"
   ]
  },
  {
   "cell_type": "code",
   "execution_count": 107,
   "id": "2e24b618",
   "metadata": {},
   "outputs": [
    {
     "data": {
      "text/plain": [
       "{'base_estimator__memory': None,\n",
       " 'base_estimator__steps': [('imputer', SimpleImputer(strategy='median')),\n",
       "  ('scaler', StandardScaler()),\n",
       "  ('model',\n",
       "   LogisticRegression(l1_ratio=0.001, max_iter=300, penalty='elasticnet',\n",
       "                      random_state=42, solver='saga'))],\n",
       " 'base_estimator__verbose': False,\n",
       " 'base_estimator__imputer': SimpleImputer(strategy='median'),\n",
       " 'base_estimator__scaler': StandardScaler(),\n",
       " 'base_estimator__model': LogisticRegression(l1_ratio=0.001, max_iter=300, penalty='elasticnet',\n",
       "                    random_state=42, solver='saga'),\n",
       " 'base_estimator__imputer__add_indicator': False,\n",
       " 'base_estimator__imputer__copy': True,\n",
       " 'base_estimator__imputer__fill_value': None,\n",
       " 'base_estimator__imputer__missing_values': nan,\n",
       " 'base_estimator__imputer__strategy': 'median',\n",
       " 'base_estimator__imputer__verbose': 0,\n",
       " 'base_estimator__scaler__copy': True,\n",
       " 'base_estimator__scaler__with_mean': True,\n",
       " 'base_estimator__scaler__with_std': True,\n",
       " 'base_estimator__model__C': 1.0,\n",
       " 'base_estimator__model__class_weight': None,\n",
       " 'base_estimator__model__dual': False,\n",
       " 'base_estimator__model__fit_intercept': True,\n",
       " 'base_estimator__model__intercept_scaling': 1,\n",
       " 'base_estimator__model__l1_ratio': 0.001,\n",
       " 'base_estimator__model__max_iter': 300,\n",
       " 'base_estimator__model__multi_class': 'auto',\n",
       " 'base_estimator__model__n_jobs': None,\n",
       " 'base_estimator__model__penalty': 'elasticnet',\n",
       " 'base_estimator__model__random_state': 42,\n",
       " 'base_estimator__model__solver': 'saga',\n",
       " 'base_estimator__model__tol': 0.0001,\n",
       " 'base_estimator__model__verbose': 0,\n",
       " 'base_estimator__model__warm_start': False,\n",
       " 'base_estimator': Pipeline(steps=[('imputer', SimpleImputer(strategy='median')),\n",
       "                 ('scaler', StandardScaler()),\n",
       "                 ('model',\n",
       "                  LogisticRegression(l1_ratio=0.001, max_iter=300,\n",
       "                                     penalty='elasticnet', random_state=42,\n",
       "                                     solver='saga'))]),\n",
       " 'cv': 'None',\n",
       " 'ensemble': False,\n",
       " 'method': 'isotonic',\n",
       " 'n_jobs': None}"
      ]
     },
     "execution_count": 107,
     "metadata": {},
     "output_type": "execute_result"
    }
   ],
   "source": [
    "model['model'].get_params()"
   ]
  },
  {
   "cell_type": "code",
   "execution_count": 32,
   "id": "136c4dfe",
   "metadata": {},
   "outputs": [
    {
     "data": {
      "text/plain": [
       "array([-5.85146692e-02, -3.90471169e-03,  2.25764950e-02,  3.93726876e-01,\n",
       "        4.79390657e-02, -2.76779636e-02, -1.03230396e-01, -4.21247399e-02,\n",
       "       -2.07242032e-02, -2.71399235e-04, -2.39516307e-02,  6.50043084e-01,\n",
       "        6.77962404e-02,  2.09890591e-01, -1.08291074e-01, -4.29343610e-04,\n",
       "        9.57823312e-03, -9.47798089e-02,  2.01531424e-01,  3.32865292e-01,\n",
       "        2.36622642e-01,  3.96313932e-02, -2.71982718e-02, -3.83302743e-02,\n",
       "       -1.36690818e-02,  3.12906781e-02,  3.92171100e-02, -9.32630212e-03,\n",
       "        1.53430985e-02, -4.48242832e-02,  1.08960250e-02,  6.41928879e-03,\n",
       "        3.33375849e-02, -1.13020181e-03,  5.61569873e-03,  5.78819314e-02,\n",
       "       -9.32132582e-04, -3.83505535e-02,  2.93197662e-02,  1.39658839e-02,\n",
       "        1.00481017e-03,  9.32966251e-03,  2.29829963e-02, -3.70325267e-01,\n",
       "        1.75453665e-01, -1.60594037e-01,  1.60660850e-01,  3.06909305e-01,\n",
       "       -8.19182723e-02, -1.87922186e-01,  2.49889601e-01,  1.89071294e-01,\n",
       "       -2.84480247e-01,  5.86972302e-02,  3.74510294e-02,  1.18652170e-01])"
      ]
     },
     "execution_count": 32,
     "metadata": {},
     "output_type": "execute_result"
    }
   ],
   "source": [
    "model['model'].calibrated_classifiers_[0].base_estimator.named_steps['model'].coef_[0]"
   ]
  },
  {
   "cell_type": "code",
   "execution_count": null,
   "id": "2ff2d97f",
   "metadata": {},
   "outputs": [],
   "source": []
  }
 ],
 "metadata": {
  "kernelspec": {
   "display_name": "Vanilla",
   "language": "python",
   "name": "vanilla"
  },
  "language_info": {
   "codemirror_mode": {
    "name": "ipython",
    "version": 3
   },
   "file_extension": ".py",
   "mimetype": "text/x-python",
   "name": "python",
   "nbconvert_exporter": "python",
   "pygments_lexer": "ipython3",
   "version": "3.10.4"
  }
 },
 "nbformat": 4,
 "nbformat_minor": 5
}
