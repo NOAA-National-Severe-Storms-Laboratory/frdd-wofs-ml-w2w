{
 "cells": [
  {
   "cell_type": "code",
   "execution_count": 2,
   "id": "05536602",
   "metadata": {},
   "outputs": [
    {
     "name": "stderr",
     "output_type": "stream",
     "text": [
      "Intel(R) Extension for Scikit-learn* enabled (https://github.com/intel/scikit-learn-intelex)\n",
      "Intel(R) Extension for Scikit-learn* enabled (https://github.com/intel/scikit-learn-intelex)\n",
      "Intel(R) Extension for Scikit-learn* enabled (https://github.com/intel/scikit-learn-intelex)\n"
     ]
    }
   ],
   "source": [
    "import sys\n",
    "import argparse\n",
    "#Appendages\n",
    "sys.path.append('/home/samuel.varga/projects/2to6_hr_severe_wx/')\n",
    "sys.path.append('/home/samuel.varga/python_packages/ml_workflow/')\n",
    "sys.path.append('/home/samuel.varga/python_packages/VargaPy/')\n",
    "# Import packages \n",
    "import pandas as pd\n",
    "import numpy as np\n",
    "import sklearn\n",
    "from os.path import join\n",
    "from sklearn.linear_model import LogisticRegression\n",
    "from hyperopt import hp\n",
    "from main.io import load_ml_data\n",
    "from ml_workflow.calibrated_pipeline_hyperopt_cv import norm_aupdc_scorer, norm_csi_scorer\n",
    "from ml_workflow.weighted_average_classifier import WeightedAverageClassifier\n",
    "from ml_workflow.tuned_estimator import TunedEstimator, dates_to_groups\n",
    "from VargaPy.MlUtils import All_Severe, Drop_Unwanted_Variables, Train_Ml_Parser\n",
    "from sklearn.model_selection import GroupKFold\n",
    "import joblib\n",
    "from itertools import product"
   ]
  },
  {
   "cell_type": "code",
   "execution_count": 4,
   "id": "139ecbf3",
   "metadata": {},
   "outputs": [
    {
     "name": "stdout",
     "output_type": "stream",
     "text": [
      "Using new variables- dropping old 90th percentile\n",
      "(1274972, 174)\n",
      "all\n"
     ]
    },
    {
     "name": "stderr",
     "output_type": "stream",
     "text": [
      "/home/samuel.varga/miniconda3/envs/Vanilla/lib/python3.10/site-packages/sklearn/base.py:450: UserWarning: X does not have valid feature names, but SimpleImputer was fitted with feature names\n",
      "  warnings.warn(\n",
      "/home/samuel.varga/miniconda3/envs/Vanilla/lib/python3.10/site-packages/sklearn/base.py:450: UserWarning: X does not have valid feature names, but SimpleImputer was fitted with feature names\n",
      "  warnings.warn(\n",
      "/home/samuel.varga/miniconda3/envs/Vanilla/lib/python3.10/site-packages/sklearn/base.py:450: UserWarning: X does not have valid feature names, but SimpleImputer was fitted with feature names\n",
      "  warnings.warn(\n",
      "/home/samuel.varga/miniconda3/envs/Vanilla/lib/python3.10/site-packages/sklearn/base.py:450: UserWarning: X does not have valid feature names, but SimpleImputer was fitted with feature names\n",
      "  warnings.warn(\n",
      "/home/samuel.varga/miniconda3/envs/Vanilla/lib/python3.10/site-packages/sklearn/base.py:450: UserWarning: X does not have valid feature names, but SimpleImputer was fitted with feature names\n",
      "  warnings.warn(\n",
      "/home/samuel.varga/miniconda3/envs/Vanilla/lib/python3.10/site-packages/sklearn/base.py:450: UserWarning: X does not have valid feature names, but SimpleImputer was fitted with feature names\n",
      "  warnings.warn(\n",
      "/home/samuel.varga/miniconda3/envs/Vanilla/lib/python3.10/site-packages/sklearn/base.py:450: UserWarning: X does not have valid feature names, but SimpleImputer was fitted with feature names\n",
      "  warnings.warn(\n",
      "/home/samuel.varga/miniconda3/envs/Vanilla/lib/python3.10/site-packages/sklearn/base.py:450: UserWarning: X does not have valid feature names, but SimpleImputer was fitted with feature names\n",
      "  warnings.warn(\n",
      "/home/samuel.varga/miniconda3/envs/Vanilla/lib/python3.10/site-packages/sklearn/base.py:450: UserWarning: X does not have valid feature names, but SimpleImputer was fitted with feature names\n",
      "  warnings.warn(\n",
      "/home/samuel.varga/miniconda3/envs/Vanilla/lib/python3.10/site-packages/sklearn/base.py:450: UserWarning: X does not have valid feature names, but SimpleImputer was fitted with feature names\n",
      "  warnings.warn(\n",
      "/home/samuel.varga/miniconda3/envs/Vanilla/lib/python3.10/site-packages/sklearn/base.py:450: UserWarning: X does not have valid feature names, but SimpleImputer was fitted with feature names\n",
      "  warnings.warn(\n",
      "/home/samuel.varga/miniconda3/envs/Vanilla/lib/python3.10/site-packages/sklearn/base.py:450: UserWarning: X does not have valid feature names, but SimpleImputer was fitted with feature names\n",
      "  warnings.warn(\n",
      "/home/samuel.varga/miniconda3/envs/Vanilla/lib/python3.10/site-packages/sklearn/base.py:450: UserWarning: X does not have valid feature names, but SimpleImputer was fitted with feature names\n",
      "  warnings.warn(\n",
      "/home/samuel.varga/miniconda3/envs/Vanilla/lib/python3.10/site-packages/sklearn/base.py:450: UserWarning: X does not have valid feature names, but SimpleImputer was fitted with feature names\n",
      "  warnings.warn(\n",
      "/home/samuel.varga/miniconda3/envs/Vanilla/lib/python3.10/site-packages/sklearn/base.py:450: UserWarning: X does not have valid feature names, but SimpleImputer was fitted with feature names\n",
      "  warnings.warn(\n",
      "/home/samuel.varga/miniconda3/envs/Vanilla/lib/python3.10/site-packages/sklearn/base.py:450: UserWarning: X does not have valid feature names, but SimpleImputer was fitted with feature names\n",
      "  warnings.warn(\n",
      "/home/samuel.varga/miniconda3/envs/Vanilla/lib/python3.10/site-packages/sklearn/base.py:450: UserWarning: X does not have valid feature names, but SimpleImputer was fitted with feature names\n",
      "  warnings.warn(\n",
      "/home/samuel.varga/miniconda3/envs/Vanilla/lib/python3.10/site-packages/sklearn/base.py:450: UserWarning: X does not have valid feature names, but SimpleImputer was fitted with feature names\n",
      "  warnings.warn(\n",
      "/home/samuel.varga/miniconda3/envs/Vanilla/lib/python3.10/site-packages/sklearn/base.py:450: UserWarning: X does not have valid feature names, but SimpleImputer was fitted with feature names\n",
      "  warnings.warn(\n",
      "/home/samuel.varga/miniconda3/envs/Vanilla/lib/python3.10/site-packages/sklearn/base.py:450: UserWarning: X does not have valid feature names, but SimpleImputer was fitted with feature names\n",
      "  warnings.warn(\n"
     ]
    },
    {
     "name": "stdout",
     "output_type": "stream",
     "text": [
      "['Hist', 'Logistic', 'Random', 'ADAM']\n",
      "[0.17241095 0.14110843 0.29376882 0.3927118 ]\n",
      "Using new variables- dropping old 90th percentile\n",
      "(1274972, 174)\n",
      "all\n"
     ]
    },
    {
     "ename": "FileNotFoundError",
     "evalue": "[Errno 2] No such file or directory: '/work/samuel.varga/projects/2to6_hr_severe_wx/POTVIN/mlModels/18km/Varga_all_hist_wind_18km_control_0.joblib'",
     "output_type": "error",
     "traceback": [
      "\u001b[0;31m---------------------------------------------------------------------------\u001b[0m",
      "\u001b[0;31mFileNotFoundError\u001b[0m                         Traceback (most recent call last)",
      "Input \u001b[0;32mIn [4]\u001b[0m, in \u001b[0;36m<cell line: 13>\u001b[0;34m()\u001b[0m\n\u001b[1;32m     35\u001b[0m     bl_model\u001b[38;5;241m=\u001b[39mjoblib\u001b[38;5;241m.\u001b[39mload(join(base_path, \u001b[38;5;124mf\u001b[39m\u001b[38;5;124m'\u001b[39m\u001b[38;5;124mblModels/\u001b[39m\u001b[38;5;132;01m{\u001b[39;00mhazard\u001b[38;5;132;01m}\u001b[39;00m\u001b[38;5;124m_baseline_model_control_\u001b[39m\u001b[38;5;132;01m{\u001b[39;00mscale\u001b[38;5;132;01m}\u001b[39;00m\u001b[38;5;124m.joblib\u001b[39m\u001b[38;5;124m'\u001b[39m))\n\u001b[1;32m     36\u001b[0m \u001b[38;5;28;01melse\u001b[39;00m:\n\u001b[0;32m---> 37\u001b[0m     ml_data\u001b[38;5;241m=\u001b[39m\u001b[43mjoblib\u001b[49m\u001b[38;5;241;43m.\u001b[39;49m\u001b[43mload\u001b[49m\u001b[43m(\u001b[49m\u001b[43mjoin\u001b[49m\u001b[43m(\u001b[49m\u001b[43mbase_path\u001b[49m\u001b[43m,\u001b[49m\u001b[43m \u001b[49m\u001b[38;5;124;43mf\u001b[39;49m\u001b[38;5;124;43m'\u001b[39;49m\u001b[38;5;124;43mmlModels/\u001b[39;49m\u001b[38;5;132;43;01m{\u001b[39;49;00m\u001b[43mscale\u001b[49m\u001b[38;5;132;43;01m}\u001b[39;49;00m\u001b[38;5;124;43m/Varga_all_\u001b[39;49m\u001b[38;5;132;43;01m{\u001b[39;49;00m\u001b[43mname\u001b[49m\u001b[38;5;132;43;01m}\u001b[39;49;00m\u001b[38;5;124;43m_\u001b[39;49m\u001b[38;5;132;43;01m{\u001b[39;49;00m\u001b[43mhazard\u001b[49m\u001b[38;5;132;43;01m}\u001b[39;49;00m\u001b[38;5;124;43m_\u001b[39;49m\u001b[38;5;132;43;01m{\u001b[39;49;00m\u001b[43mscale\u001b[49m\u001b[38;5;132;43;01m}\u001b[39;49;00m\u001b[38;5;124;43m_\u001b[39;49m\u001b[38;5;132;43;01m{\u001b[39;49;00m\u001b[38;5;124;43m\"\u001b[39;49m\u001b[38;5;124;43mSigSev\u001b[39;49m\u001b[38;5;124;43m\"\u001b[39;49m\u001b[43m \u001b[49m\u001b[38;5;28;43;01mif\u001b[39;49;00m\u001b[43m \u001b[49m\u001b[43mSigSevere\u001b[49m\u001b[43m \u001b[49m\u001b[38;5;28;43;01melse\u001b[39;49;00m\u001b[43m \u001b[49m\u001b[38;5;124;43m\"\u001b[39;49m\u001b[38;5;124;43mcontrol\u001b[39;49m\u001b[38;5;124;43m\"\u001b[39;49m\u001b[38;5;132;43;01m}\u001b[39;49;00m\u001b[38;5;124;43m_\u001b[39;49m\u001b[38;5;132;43;01m{\u001b[39;49;00m\u001b[43mmodel_ind\u001b[49m\u001b[38;5;132;43;01m}\u001b[39;49;00m\u001b[38;5;124;43m.joblib\u001b[39;49m\u001b[38;5;124;43m'\u001b[39;49m\u001b[43m)\u001b[49m\u001b[43m)\u001b[49m\n\u001b[1;32m     38\u001b[0m     ml_model \u001b[38;5;241m=\u001b[39m ml_data[\u001b[38;5;124m'\u001b[39m\u001b[38;5;124mmodel\u001b[39m\u001b[38;5;124m'\u001b[39m]\n\u001b[1;32m     39\u001b[0m     ml_models\u001b[38;5;241m.\u001b[39mappend(ml_model)\n",
      "File \u001b[0;32m~/miniconda3/envs/Vanilla/lib/python3.10/site-packages/joblib/numpy_pickle.py:579\u001b[0m, in \u001b[0;36mload\u001b[0;34m(filename, mmap_mode)\u001b[0m\n\u001b[1;32m    577\u001b[0m         obj \u001b[38;5;241m=\u001b[39m _unpickle(fobj)\n\u001b[1;32m    578\u001b[0m \u001b[38;5;28;01melse\u001b[39;00m:\n\u001b[0;32m--> 579\u001b[0m     \u001b[38;5;28;01mwith\u001b[39;00m \u001b[38;5;28;43mopen\u001b[39;49m\u001b[43m(\u001b[49m\u001b[43mfilename\u001b[49m\u001b[43m,\u001b[49m\u001b[43m \u001b[49m\u001b[38;5;124;43m'\u001b[39;49m\u001b[38;5;124;43mrb\u001b[39;49m\u001b[38;5;124;43m'\u001b[39;49m\u001b[43m)\u001b[49m \u001b[38;5;28;01mas\u001b[39;00m f:\n\u001b[1;32m    580\u001b[0m         \u001b[38;5;28;01mwith\u001b[39;00m _read_fileobject(f, filename, mmap_mode) \u001b[38;5;28;01mas\u001b[39;00m fobj:\n\u001b[1;32m    581\u001b[0m             \u001b[38;5;28;01mif\u001b[39;00m \u001b[38;5;28misinstance\u001b[39m(fobj, \u001b[38;5;28mstr\u001b[39m):\n\u001b[1;32m    582\u001b[0m                 \u001b[38;5;66;03m# if the returned file object is a string, this means we\u001b[39;00m\n\u001b[1;32m    583\u001b[0m                 \u001b[38;5;66;03m# try to load a pickle file generated with an version of\u001b[39;00m\n\u001b[1;32m    584\u001b[0m                 \u001b[38;5;66;03m# Joblib so we load it with joblib compatibility function.\u001b[39;00m\n",
      "\u001b[0;31mFileNotFoundError\u001b[0m: [Errno 2] No such file or directory: '/work/samuel.varga/projects/2to6_hr_severe_wx/POTVIN/mlModels/18km/Varga_all_hist_wind_18km_control_0.joblib'"
     ]
    }
   ],
   "source": [
    "#Load Data\n",
    "framework=['POTVIN']\n",
    "timescale=['2to6']\n",
    "hazard='wind'.lower() #Use tornado to get 0-2UH Baseline\n",
    "SCALE=['36km','18km','9km'] #9,18,36\n",
    "SigSevere=False\n",
    "mode='train'\n",
    "names=['hist','logistic','random','ADAM']\n",
    "mod_names = ['Hist', 'Logistic', 'Random','ADAM'] \n",
    "\n",
    "#Load Models\n",
    "model_ind=0\n",
    "for FRAMEWORK, TIMESCALE, scale in product(framework, timescale, SCALE):\n",
    "    save_name=f'Varga_all_wac_{hazard}_{scale}_{\"SigSev\" if SigSevere else \"control\"}_{model_ind}.joblib'\n",
    "    base_path=f'/work/samuel.varga/projects/{TIMESCALE}_hr_severe_wx/{FRAMEWORK}'\n",
    "    data_path = f'/work/samuel.varga/data/{TIMESCALE}_hr_severe_wx/{FRAMEWORK}'\n",
    "    out_path=f'/work/samuel.varga/projects/{TIMESCALE}_hr_severe_wx/{FRAMEWORK}/mlModels/{scale}'\n",
    "    if hazard=='all': #Use all severe as target\n",
    "\n",
    "        X, y, metadata = All_Severe(base_path=data_path, mode=mode, target_scale=scale[0:-2:1], \n",
    "                                    FRAMEWORK=FRAMEWORK, TIMESCALE=TIMESCALE, SigSevere=SigSevere)\n",
    "\n",
    "    else:\n",
    "        target_col=f'{hazard}_severe__{scale}'\n",
    "        X,y,metadata = load_ml_data(base_path=data_path, \n",
    "                                mode=mode, \n",
    "                                target_col=target_col, FRAMEWORK=FRAMEWORK, TIMESCALE=TIMESCALE)\n",
    "    X, ts_suff = Drop_Unwanted_Variables(X, original=False, training_scale=False, intrastormOnly=False, envOnly=False)\n",
    "    \n",
    "    # Load the ML model.\n",
    "    ml_models=[]\n",
    "    features=None\n",
    "    for name in names:\n",
    "        if name=='baseline':\n",
    "            bl_model=joblib.load(join(base_path, f'blModels/{hazard}_baseline_model_control_{scale}.joblib'))\n",
    "        else:\n",
    "            ml_data=joblib.load(join(base_path, f'mlModels/{scale}/Varga_all_{name}_{hazard}_{scale}_{\"SigSev\" if SigSevere else \"control\"}_{model_ind}.joblib'))\n",
    "            ml_model = ml_data['model']\n",
    "            ml_models.append(ml_model)\n",
    "            features = ml_data['X'].columns if features is None else features\n",
    "\n",
    "    estimators = [(name, model) for name, model in zip(mod_names, ml_models)]\n",
    "\n",
    "    X = X[features]\n",
    "\n",
    "    #Make WAC\n",
    "    train_dates=metadata['Run Date']\n",
    "    groups=dates_to_groups(train_dates, n_splits=5)\n",
    "    cv=list(GroupKFold(n_splits=5).split(X, y, groups))\n",
    "    wac = WeightedAverageClassifier(estimators=estimators,\n",
    "                         cv=cv)\n",
    "    wac.fit(X, y, groups) \n",
    "    print(wac.est_names)\n",
    "    print(wac.weights_)\n",
    "    wac.save(join(out_path, save_name)) "
   ]
  },
  {
   "cell_type": "code",
   "execution_count": null,
   "id": "bf541c9e",
   "metadata": {},
   "outputs": [],
   "source": [
    "Varga_all_logistic_wind_36km_control_0.joblib"
   ]
  }
 ],
 "metadata": {
  "kernelspec": {
   "display_name": "Vanilla",
   "language": "python",
   "name": "vanilla"
  },
  "language_info": {
   "codemirror_mode": {
    "name": "ipython",
    "version": 3
   },
   "file_extension": ".py",
   "mimetype": "text/x-python",
   "name": "python",
   "nbconvert_exporter": "python",
   "pygments_lexer": "ipython3",
   "version": "3.10.4"
  }
 },
 "nbformat": 4,
 "nbformat_minor": 5
}
