{
 "cells": [
  {
   "cell_type": "code",
   "execution_count": 1,
   "id": "e4d11a4c",
   "metadata": {},
   "outputs": [],
   "source": [
    "from WoF_post.wofs.post.utils import (\n",
    "    save_dataset,\n",
    "    load_multiple_nc_files,\n",
    ")\n",
    "from glob import glob\n",
    "from scipy.ndimage import uniform_filter, maximum_filter \n",
    "from collections import ChainMap\n",
    "import numpy as np"
   ]
  },
  {
   "cell_type": "code",
   "execution_count": 2,
   "id": "68fc10a8",
   "metadata": {},
   "outputs": [],
   "source": [
    "ml_config = { 'ENS_VARS':  ['uh_2to5_instant',\n",
    "                            'uh_0to2_instant',\n",
    "                            'wz_0to2_instant',\n",
    "                            'comp_dz',\n",
    "                            'ws_80',\n",
    "                            'hailcast',\n",
    "                            'w_up',\n",
    "                            'okubo_weiss',\n",
    "                    ],\n",
    "             \n",
    "              'ENV_VARS' : ['mid_level_lapse_rate', \n",
    "                            'low_level_lapse_rate', \n",
    "                           ],\n",
    "             \n",
    "              'SVR_VARS': ['shear_u_0to1', \n",
    "                        'shear_v_0to1', \n",
    "                        'shear_u_0to6', \n",
    "                        'shear_v_0to6',\n",
    "                        'shear_u_3to6', \n",
    "                        'shear_v_3to6',\n",
    "                        'srh_0to3',\n",
    "                        'cape_ml', \n",
    "                        'cin_ml', \n",
    "                        'stp',\n",
    "                        'scp',\n",
    "                       ]\n",
    "            }"
   ]
  },
  {
   "cell_type": "code",
   "execution_count": 3,
   "id": "39cbfaea",
   "metadata": {},
   "outputs": [],
   "source": [
    "# Load the X. \n",
    "ens_files = glob('/work/mflora/SummaryFiles/20210504/0000/wofs_ENS_[2-7]*')\n",
    "ens_files.sort()\n",
    "ens_files = ens_files[4:]\n",
    "\n",
    "svr_files = [f.replace('ENS', 'SVR') for f in ens_files]\n",
    "env_files = [f.replace('ENS', 'ENV') for f in ens_files]"
   ]
  },
  {
   "cell_type": "code",
   "execution_count": 4,
   "id": "8732d5eb",
   "metadata": {},
   "outputs": [],
   "source": [
    "import datetime\n",
    "def get_duration(start_time):\n",
    "        duration =  datetime.datetime.now() - start_time\n",
    "        seconds = duration.total_seconds()\n",
    "        hours = seconds // 3600\n",
    "        minutes = (seconds % 3600) // 60\n",
    "        seconds = seconds % 60\n",
    "    \n",
    "        return hours, minutes, seconds"
   ]
  },
  {
   "cell_type": "code",
   "execution_count": 5,
   "id": "b2eaed20",
   "metadata": {},
   "outputs": [
    {
     "name": "stdout",
     "output_type": "stream",
     "text": [
      "0.0 1.0 7.952074999999994\n"
     ]
    }
   ],
   "source": [
    "import xarray as xr \n",
    "\n",
    "start_time = datetime.datetime.now()\n",
    "\n",
    "ens_ds = xr.open_mfdataset(ens_files, combine='nested', \n",
    "                       concat_dim='time', \n",
    "                       data_vars=ml_config['ENS_VARS'], \n",
    "                       parallel=True, decode_times=False, coords='all', compat='override')\n",
    "\n",
    "env_ds = xr.open_mfdataset(env_files, combine='nested', \n",
    "                       concat_dim='time', \n",
    "                       data_vars=ml_config['ENV_VARS'], \n",
    "                       parallel=True, decode_times=False, coords='all', compat='override')\n",
    "\n",
    "svr_ds = xr.open_mfdataset(svr_files, combine='nested', \n",
    "                       concat_dim='time', \n",
    "                       data_vars=ml_config['SVR_VARS'], \n",
    "                       parallel=True, decode_times=False, coords='all', compat='override')\n",
    "\n",
    "\n",
    "X = {v : ens_ds[v].values for v in ml_config['ENS_VARS']}\n",
    "X = {v : env_ds[v].values for v in ml_config['ENV_VARS']}\n",
    "X = {v : svr_ds[v].values for v in ml_config['SVR_VARS']}\n",
    "\n",
    "ens_ds.close(); env_ds.close; svr_ds.close()\n",
    "\n",
    "hrs, mins, secs = get_duration(start_time)\n",
    "print(hrs, mins, secs)"
   ]
  },
  {
   "cell_type": "code",
   "execution_count": 6,
   "id": "3559e29b",
   "metadata": {},
   "outputs": [
    {
     "name": "stdout",
     "output_type": "stream",
     "text": [
      "0.0 0.0 48.915385\n"
     ]
    }
   ],
   "source": [
    "start_time = datetime.datetime.now()\n",
    "\n",
    "coord_vars = [\"xlat\", \"xlon\", \"hgt\"]\n",
    "X_strm, coord_vars_dict, Xset_attrs, var_attrs  = load_multiple_nc_files(\n",
    "                ens_files, concat_dim=\"time\", coord_vars=coord_vars,  load_vars=ml_config['ENS_VARS'])\n",
    "\n",
    "\n",
    "coord_vars = [\"xlat\", \"xlon\", \"hgt\"]\n",
    "X_strm, coord_vars_dict, Xset_attrs, var_attrs  = load_multiple_nc_files(\n",
    "                env_files, concat_dim=\"time\", coord_vars=coord_vars,  load_vars=ml_config['ENV_VARS'])\n",
    "\n",
    "\n",
    "coord_vars = [\"xlat\", \"xlon\", \"hgt\"]\n",
    "X_strm, coord_vars_dict, Xset_attrs, var_attrs  = load_multiple_nc_files(\n",
    "                svr_files, concat_dim=\"time\", coord_vars=coord_vars,  load_vars=ml_config['SVR_VARS'])\n",
    "\n",
    "hrs, mins, secs = get_duration(start_time)\n",
    "print(hrs, mins, secs)"
   ]
  }
 ],
 "metadata": {
  "kernelspec": {
   "display_name": "Python 3 (ipykernel)",
   "language": "python",
   "name": "python3"
  },
  "language_info": {
   "codemirror_mode": {
    "name": "ipython",
    "version": 3
   },
   "file_extension": ".py",
   "mimetype": "text/x-python",
   "name": "python",
   "nbconvert_exporter": "python",
   "pygments_lexer": "ipython3",
   "version": "3.8.10"
  }
 },
 "nbformat": 4,
 "nbformat_minor": 5
}
