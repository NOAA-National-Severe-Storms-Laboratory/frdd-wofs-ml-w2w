{
 "cells": [
  {
   "cell_type": "code",
   "execution_count": 15,
   "id": "d1356843",
   "metadata": {},
   "outputs": [],
   "source": [
    "from os.path import join, exists\n",
    "from glob import glob\n",
    "import os"
   ]
  },
  {
   "cell_type": "code",
   "execution_count": null,
   "id": "15880730",
   "metadata": {},
   "outputs": [],
   "source": [
    "base_path = '/work/mflora/SummaryFiles'\n",
    "dates = [d for d in os.listdir(base_path) if '.txt' not in d]\n",
    "\n",
    "paths = []\n",
    "for d in dates:\n",
    "    times = [t for t in os.listdir(join(base_path,d)) if 'basemap' not in t]\n",
    "    for t in times:\n",
    "        path = join(base_path,d,t,'wofs_ML2TO6.feather')\n",
    "        if exists(path):\n",
    "            print(True)\n",
    "            os.remove(path)"
   ]
  },
  {
   "cell_type": "code",
   "execution_count": null,
   "id": "dc5b5160",
   "metadata": {},
   "outputs": [],
   "source": []
  }
 ],
 "metadata": {
  "kernelspec": {
   "display_name": "Python 3 (ipykernel)",
   "language": "python",
   "name": "python3"
  },
  "language_info": {
   "codemirror_mode": {
    "name": "ipython",
    "version": 3
   },
   "file_extension": ".py",
   "mimetype": "text/x-python",
   "name": "python",
   "nbconvert_exporter": "python",
   "pygments_lexer": "ipython3",
   "version": "3.8.13"
  }
 },
 "nbformat": 4,
 "nbformat_minor": 5
}
