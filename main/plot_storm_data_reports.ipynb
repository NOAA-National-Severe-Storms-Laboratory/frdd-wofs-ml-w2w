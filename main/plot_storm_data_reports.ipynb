{
 "cells": [
  {
   "cell_type": "code",
   "execution_count": 1,
   "id": "ca4b01e0",
   "metadata": {},
   "outputs": [],
   "source": [
    "import pandas as pd\n",
    "import numpy as np"
   ]
  },
  {
   "cell_type": "code",
   "execution_count": 2,
   "id": "98223205",
   "metadata": {},
   "outputs": [
    {
     "name": "stdout",
     "output_type": "stream",
     "text": [
      "For 2017-2020 dataset, loading Storm Data...\n"
     ]
    }
   ],
   "source": [
    "from WoF_post.wofs.verification.lsrs.get_storm_reports import StormReports\n",
    "from WoF_post.wofs.plotting.util import decompose_file_path\n",
    "import xarray as xr\n",
    "from glob import glob\n",
    "\n",
    "# Get the storm reports. \n",
    "ens_file = glob('/work/mflora/SummaryFiles/20190520/2000/wofs_ENS_00*')[0]\n",
    "\n",
    "comps = decompose_file_path(ens_file)\n",
    "init_time = comps['VALID_DATE']+comps['INIT_TIME']\n",
    "report = StormReports(init_time, \n",
    "            forecast_length=1000,\n",
    "            err_window=200, \n",
    "            )\n",
    "\n",
    "ds = xr.load_dataset(ens_file, decode_times=False)\n",
    "report_ds = report.to_grid(dataset=ds, size=3)"
   ]
  },
  {
   "cell_type": "code",
   "execution_count": 3,
   "id": "a1ed7f91",
   "metadata": {},
   "outputs": [],
   "source": [
    "y = {v : report_ds[v].values[::3, ::3] for v in list(report_ds.data_vars)}"
   ]
  },
  {
   "cell_type": "code",
   "execution_count": 4,
   "id": "2211681c",
   "metadata": {},
   "outputs": [
    {
     "name": "stdout",
     "output_type": "stream",
     "text": [
      "hail_severe [ 0  3 12 13 15 18 19 20 21 22 23 25 26 27 28 29 31 32 34 37 38 39 40 41\n",
      " 42 43 44 45 46 47 48 49 50 51 52 53 54 55 57 58 60 61 62 63 66 67 68 69\n",
      " 70 71 72 73 74 75 76 77 78 79 80 81 82]\n",
      "wind_severe [ 0  1  3  4  5  6  9 10 11 12 13 14 15 16 17 18 19 20 21 22 24 25 26 27\n",
      " 29 31 32 33 35 36 37 38 39 40 41 42 43 44 45 46 47 48 49 50 51 52 53 54\n",
      " 55 56 57 58 59 60]\n",
      "tornado_severe [0 1 2 3 4 5 6 7]\n",
      "hail_sig_severe [ 0  1  2  3  5  6  7  8  9 11 12 13 14 15]\n",
      "wind_sig_severe [ 0  3  4  5  6  7  8  9 10 11 12 13]\n",
      "tornado_sig_severe [0 1 2 3 4 5 6 7]\n"
     ]
    }
   ],
   "source": [
    "for v in list(report_ds.data_vars):\n",
    "    print(v, np.unique(y[v]))"
   ]
  },
  {
   "cell_type": "code",
   "execution_count": null,
   "id": "2176c2a7",
   "metadata": {},
   "outputs": [],
   "source": []
  }
 ],
 "metadata": {
  "kernelspec": {
   "display_name": "Python 3 (ipykernel)",
   "language": "python",
   "name": "python3"
  },
  "language_info": {
   "codemirror_mode": {
    "name": "ipython",
    "version": 3
   },
   "file_extension": ".py",
   "mimetype": "text/x-python",
   "name": "python",
   "nbconvert_exporter": "python",
   "pygments_lexer": "ipython3",
   "version": "3.8.10"
  }
 },
 "nbformat": 4,
 "nbformat_minor": 5
}
