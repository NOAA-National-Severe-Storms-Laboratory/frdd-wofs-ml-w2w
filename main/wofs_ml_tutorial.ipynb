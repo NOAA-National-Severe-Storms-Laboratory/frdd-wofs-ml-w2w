{
 "cells": [
  {
   "cell_type": "markdown",
   "id": "b671da54",
   "metadata": {},
   "source": [
    "## Brief Tutorial "
   ]
  },
  {
   "cell_type": "code",
   "execution_count": 1,
   "id": "ce59d8f2",
   "metadata": {},
   "outputs": [],
   "source": [
    "# Import packages \n",
    "import pandas as pd \n",
    "import numpy as np\n",
    "from os.path import join\n",
    "\n",
    "from sklearn.isotonic import IsotonicRegression\n",
    "import matplotlib.pyplot as plt\n",
    "import itertools\n",
    "import seaborn as sns\n",
    "sns.set_theme()\n",
    "\n",
    "import sys\n",
    "sys.path.append('/home/monte.flora/python_packages/ml_workflow')\n",
    "\n",
    "from ml_workflow import DateBasedCV\n",
    "from ml_workflow.ml_methods import norm_aupdc, norm_csi, brier_skill_score\n",
    "from sklearn.metrics import roc_auc_score"
   ]
  },
  {
   "cell_type": "code",
   "execution_count": 2,
   "id": "649dd436",
   "metadata": {},
   "outputs": [],
   "source": [
    "# Configuration variables (You'll need to change based on where you store your data)\n",
    "base_path = '/work/mflora/ML_2TO6HR/data'"
   ]
  },
  {
   "cell_type": "markdown",
   "id": "753599dc",
   "metadata": {},
   "source": [
    "## Load the ML dataset "
   ]
  },
  {
   "cell_type": "code",
   "execution_count": 3,
   "id": "4d4c8c4f",
   "metadata": {},
   "outputs": [
    {
     "ename": "NameError",
     "evalue": "name 'load_ml_data' is not defined",
     "output_type": "error",
     "traceback": [
      "\u001b[0;31m---------------------------------------------------------------------------\u001b[0m",
      "\u001b[0;31mNameError\u001b[0m                                 Traceback (most recent call last)",
      "Input \u001b[0;32mIn [3]\u001b[0m, in \u001b[0;36m<module>\u001b[0;34m\u001b[0m\n\u001b[0;32m----> 1\u001b[0m X,y,metadata \u001b[38;5;241m=\u001b[39m \u001b[43mload_ml_data\u001b[49m(base_path\u001b[38;5;241m=\u001b[39mbase_path, \n\u001b[1;32m      2\u001b[0m                             mode\u001b[38;5;241m=\u001b[39m\u001b[38;5;124m'\u001b[39m\u001b[38;5;124mtrain\u001b[39m\u001b[38;5;124m'\u001b[39m, \n\u001b[1;32m      3\u001b[0m                             target_col\u001b[38;5;241m=\u001b[39m\u001b[38;5;124m'\u001b[39m\u001b[38;5;124mhail_severe__36km\u001b[39m\u001b[38;5;124m'\u001b[39m)\n",
      "\u001b[0;31mNameError\u001b[0m: name 'load_ml_data' is not defined"
     ]
    }
   ],
   "source": [
    "X,y,metadata = load_ml_data(base_path=base_path, \n",
    "                            mode='train', \n",
    "                            target_col='hail_severe__36km')"
   ]
  },
  {
   "cell_type": "code",
   "execution_count": null,
   "id": "6a9e3201",
   "metadata": {},
   "outputs": [],
   "source": [
    "# Uncomment and run to see the full list of features. \n",
    "#list(X.columns)"
   ]
  },
  {
   "cell_type": "markdown",
   "id": "95b77ff6",
   "metadata": {},
   "source": [
    "## Exploring the ML dataset "
   ]
  },
  {
   "cell_type": "code",
   "execution_count": 4,
   "id": "bd5ef2d7",
   "metadata": {},
   "outputs": [
    {
     "ename": "NameError",
     "evalue": "name 'X' is not defined",
     "output_type": "error",
     "traceback": [
      "\u001b[0;31m---------------------------------------------------------------------------\u001b[0m",
      "\u001b[0;31mNameError\u001b[0m                                 Traceback (most recent call last)",
      "Input \u001b[0;32mIn [4]\u001b[0m, in \u001b[0;36m<module>\u001b[0;34m\u001b[0m\n\u001b[1;32m      4\u001b[0m variables \u001b[38;5;241m=\u001b[39m [\u001b[38;5;124m'\u001b[39m\u001b[38;5;124mscp__time_avg__9km__ens_mean\u001b[39m\u001b[38;5;124m'\u001b[39m,\n\u001b[1;32m      5\u001b[0m              \u001b[38;5;124m'\u001b[39m\u001b[38;5;124mcape_ml__time_avg__9km__ens_mean\u001b[39m\u001b[38;5;124m'\u001b[39m,\n\u001b[1;32m      6\u001b[0m              \u001b[38;5;124m'\u001b[39m\u001b[38;5;124mshear_u_0to6__time_avg__9km__ens_std\u001b[39m\u001b[38;5;124m'\u001b[39m,\n\u001b[0;32m   (...)\u001b[0m\n\u001b[1;32m      9\u001b[0m              \u001b[38;5;124m'\u001b[39m\u001b[38;5;124mw_up__time_max__27km__ens_90th\u001b[39m\u001b[38;5;124m'\u001b[39m,\n\u001b[1;32m     10\u001b[0m             ]\n\u001b[1;32m     12\u001b[0m mapper \u001b[38;5;241m=\u001b[39m [\u001b[38;5;124m'\u001b[39m\u001b[38;5;124mEns. Mean\u001b[39m\u001b[38;5;130;01m\\n\u001b[39;00m\u001b[38;5;124mSupercell Comp. Param. (9 km)\u001b[39m\u001b[38;5;124m'\u001b[39m, \n\u001b[1;32m     13\u001b[0m           \u001b[38;5;124m'\u001b[39m\u001b[38;5;124mEns Mean\u001b[39m\u001b[38;5;130;01m\\n\u001b[39;00m\u001b[38;5;124mML CAPE (9 km)\u001b[39m\u001b[38;5;124m'\u001b[39m,\n\u001b[1;32m     14\u001b[0m           \u001b[38;5;124m'\u001b[39m\u001b[38;5;124mEns Std\u001b[39m\u001b[38;5;130;01m\\n\u001b[39;00m\u001b[38;5;124m0-6 km U-Shear (9 km)\u001b[39m\u001b[38;5;124m'\u001b[39m, \n\u001b[0;32m   (...)\u001b[0m\n\u001b[1;32m     17\u001b[0m           \u001b[38;5;124m'\u001b[39m\u001b[38;5;124mEns Mean\u001b[39m\u001b[38;5;130;01m\\n\u001b[39;00m\u001b[38;5;124mPeak Updraft (27 km)\u001b[39m\u001b[38;5;124m'\u001b[39m,\n\u001b[1;32m     18\u001b[0m             ]\n\u001b[0;32m---> 20\u001b[0m X_full \u001b[38;5;241m=\u001b[39m \u001b[43mX\u001b[49m\u001b[38;5;241m.\u001b[39mcopy()\n\u001b[1;32m     21\u001b[0m X_full[\u001b[38;5;124m'\u001b[39m\u001b[38;5;124mtarget\u001b[39m\u001b[38;5;124m'\u001b[39m] \u001b[38;5;241m=\u001b[39m y\n\u001b[1;32m     23\u001b[0m \u001b[38;5;66;03m# Subsample. \u001b[39;00m\n",
      "\u001b[0;31mNameError\u001b[0m: name 'X' is not defined"
     ]
    }
   ],
   "source": [
    "import seaborn as sns\n",
    "import matplotlib.pyplot as plt\n",
    "import numpy as np\n",
    "variables = ['scp__time_avg__9km__ens_mean',\n",
    "             'cape_ml__time_avg__9km__ens_mean',\n",
    "             'shear_u_0to6__time_avg__9km__ens_std',\n",
    "             'hailcast__time_max__45km__ens_90th',\n",
    "             'shear_v_3to6__time_avg__27km__ens_mean',\n",
    "             'w_up__time_max__27km__ens_90th',\n",
    "            ]\n",
    "\n",
    "mapper = ['Ens. Mean\\nSupercell Comp. Param. (9 km)', \n",
    "          'Ens Mean\\nML CAPE (9 km)',\n",
    "          'Ens Std\\n0-6 km U-Shear (9 km)', \n",
    "          'Ens. Mean\\nPeak Hail Size (45 km)', \n",
    "           'Ens. Mean\\n3-6 km V-Shear (27 km)',\n",
    "          'Ens Mean\\nPeak Updraft (27 km)',\n",
    "            ]\n",
    "\n",
    "X_full = X.copy()\n",
    "X_full['target'] = y\n",
    "\n",
    "# Subsample. \n",
    "inds = np.where(X_full['comp_dz__time_max__45km__ens_90th'] > 10.)[0]\n",
    "\n",
    "X_full = X_full.iloc[inds,:]\n",
    "X_full.reset_index(drop=True, inplace=True)\n",
    "\n",
    "inds = np.random.choice(len(X_full), size=10000, replace=False)\n",
    "\n",
    "X_full = X_full.iloc[inds,:]\n",
    "X_full.reset_index(drop=True, inplace=True)\n",
    "\n",
    "# Create a plotting panels. \n",
    "f, axes =plt.subplots(dpi=300, ncols=3, nrows=2, figsize=(10,5))\n",
    "\n",
    "for i, (v, ax) in enumerate(zip(variables, axes.flat)):\n",
    "    sns.histplot(ax=ax, data=X_full, x=v, hue='target', legend=False, stat='probability',\n",
    "                 common_norm=False)\n",
    "    ax.set_xlabel(mapper[i])\n",
    "    limits = np.percentile(X_full[v], [1.0, 97.5])\n",
    "    ax.set_xlim(limits)\n",
    "    \n",
    "plt.subplots_adjust(wspace=0.5, hspace=0.6)   "
   ]
  },
  {
   "cell_type": "markdown",
   "id": "15fec29f",
   "metadata": {},
   "source": [
    "## Load the basline dataset\n",
    "\n",
    "We recommend loading the \n"
   ]
  },
  {
   "cell_type": "markdown",
   "id": "c5443174",
   "metadata": {},
   "source": [
    "## Exploring the baseline dataset"
   ]
  },
  {
   "cell_type": "code",
   "execution_count": 41,
   "id": "4dc178fe",
   "metadata": {},
   "outputs": [],
   "source": [
    "X,y, dates = load_bl_data(feature_col='hailcast__nmep_>1_0_45km', target_col='hail_severe__36km')"
   ]
  },
  {
   "cell_type": "code",
   "execution_count": 42,
   "id": "59ce36df",
   "metadata": {},
   "outputs": [
    {
     "ename": "KeyError",
     "evalue": "\"None of [Int64Index([ 777001,  777002,  777003,  777004,  777005,  777006,  777007,\\n             777008,  777009,  777010,\\n            ...\\n            1706578, 1706579, 1706580, 1706581, 1706582, 1706583, 1706584,\\n            1706585, 1706586, 1706587],\\n           dtype='int64', length=2915534)] are in the [columns]\"",
     "output_type": "error",
     "traceback": [
      "\u001b[0;31m---------------------------------------------------------------------------\u001b[0m",
      "\u001b[0;31mKeyError\u001b[0m                                  Traceback (most recent call last)",
      "Input \u001b[0;32mIn [42]\u001b[0m, in \u001b[0;36m<module>\u001b[0;34m\u001b[0m\n\u001b[0;32m----> 1\u001b[0m scores \u001b[38;5;241m=\u001b[39m \u001b[43mcv_scorer\u001b[49m\u001b[43m(\u001b[49m\u001b[43mX\u001b[49m\u001b[43m,\u001b[49m\u001b[43m \u001b[49m\u001b[43my\u001b[49m\u001b[43m,\u001b[49m\u001b[43m \u001b[49m\u001b[43mdates\u001b[49m\u001b[43m)\u001b[49m\n",
      "Input \u001b[0;32mIn [5]\u001b[0m, in \u001b[0;36mcv_scorer\u001b[0;34m(X, y, dates)\u001b[0m\n\u001b[1;32m     15\u001b[0m \u001b[38;5;28;01mfor\u001b[39;00m train_inds, test_inds \u001b[38;5;129;01min\u001b[39;00m cv\u001b[38;5;241m.\u001b[39msplit(X):\n\u001b[1;32m     16\u001b[0m     clf \u001b[38;5;241m=\u001b[39m IsotonicRegression(out_of_bounds\u001b[38;5;241m=\u001b[39m\u001b[38;5;124m'\u001b[39m\u001b[38;5;124mclip\u001b[39m\u001b[38;5;124m'\u001b[39m, y_min\u001b[38;5;241m=\u001b[39m\u001b[38;5;241m0\u001b[39m, y_max\u001b[38;5;241m=\u001b[39m\u001b[38;5;241m1\u001b[39m)\n\u001b[0;32m---> 17\u001b[0m     clf\u001b[38;5;241m.\u001b[39mfit(\u001b[43mX\u001b[49m\u001b[43m[\u001b[49m\u001b[43mtrain_inds\u001b[49m\u001b[43m]\u001b[49m, y[train_inds])\n\u001b[1;32m     18\u001b[0m     cv_scores\u001b[38;5;241m.\u001b[39mappend(scorer(clf, X[test_inds], y[test_inds], known_skew\u001b[38;5;241m=\u001b[39mknown_skew))\n\u001b[1;32m     20\u001b[0m \u001b[38;5;28;01mreturn\u001b[39;00m cv_scores\n",
      "File \u001b[0;32m~/miniconda3/envs/wofs_test/lib/python3.8/site-packages/pandas/core/frame.py:3512\u001b[0m, in \u001b[0;36mDataFrame.__getitem__\u001b[0;34m(self, key)\u001b[0m\n\u001b[1;32m   3510\u001b[0m     \u001b[38;5;28;01mif\u001b[39;00m is_iterator(key):\n\u001b[1;32m   3511\u001b[0m         key \u001b[38;5;241m=\u001b[39m \u001b[38;5;28mlist\u001b[39m(key)\n\u001b[0;32m-> 3512\u001b[0m     indexer \u001b[38;5;241m=\u001b[39m \u001b[38;5;28;43mself\u001b[39;49m\u001b[38;5;241;43m.\u001b[39;49m\u001b[43mcolumns\u001b[49m\u001b[38;5;241;43m.\u001b[39;49m\u001b[43m_get_indexer_strict\u001b[49m\u001b[43m(\u001b[49m\u001b[43mkey\u001b[49m\u001b[43m,\u001b[49m\u001b[43m \u001b[49m\u001b[38;5;124;43m\"\u001b[39;49m\u001b[38;5;124;43mcolumns\u001b[39;49m\u001b[38;5;124;43m\"\u001b[39;49m\u001b[43m)\u001b[49m[\u001b[38;5;241m1\u001b[39m]\n\u001b[1;32m   3514\u001b[0m \u001b[38;5;66;03m# take() does not accept boolean indexers\u001b[39;00m\n\u001b[1;32m   3515\u001b[0m \u001b[38;5;28;01mif\u001b[39;00m \u001b[38;5;28mgetattr\u001b[39m(indexer, \u001b[38;5;124m\"\u001b[39m\u001b[38;5;124mdtype\u001b[39m\u001b[38;5;124m\"\u001b[39m, \u001b[38;5;28;01mNone\u001b[39;00m) \u001b[38;5;241m==\u001b[39m \u001b[38;5;28mbool\u001b[39m:\n",
      "File \u001b[0;32m~/miniconda3/envs/wofs_test/lib/python3.8/site-packages/pandas/core/indexes/base.py:5782\u001b[0m, in \u001b[0;36mIndex._get_indexer_strict\u001b[0;34m(self, key, axis_name)\u001b[0m\n\u001b[1;32m   5779\u001b[0m \u001b[38;5;28;01melse\u001b[39;00m:\n\u001b[1;32m   5780\u001b[0m     keyarr, indexer, new_indexer \u001b[38;5;241m=\u001b[39m \u001b[38;5;28mself\u001b[39m\u001b[38;5;241m.\u001b[39m_reindex_non_unique(keyarr)\n\u001b[0;32m-> 5782\u001b[0m \u001b[38;5;28;43mself\u001b[39;49m\u001b[38;5;241;43m.\u001b[39;49m\u001b[43m_raise_if_missing\u001b[49m\u001b[43m(\u001b[49m\u001b[43mkeyarr\u001b[49m\u001b[43m,\u001b[49m\u001b[43m \u001b[49m\u001b[43mindexer\u001b[49m\u001b[43m,\u001b[49m\u001b[43m \u001b[49m\u001b[43maxis_name\u001b[49m\u001b[43m)\u001b[49m\n\u001b[1;32m   5784\u001b[0m keyarr \u001b[38;5;241m=\u001b[39m \u001b[38;5;28mself\u001b[39m\u001b[38;5;241m.\u001b[39mtake(indexer)\n\u001b[1;32m   5785\u001b[0m \u001b[38;5;28;01mif\u001b[39;00m \u001b[38;5;28misinstance\u001b[39m(key, Index):\n\u001b[1;32m   5786\u001b[0m     \u001b[38;5;66;03m# GH 42790 - Preserve name from an Index\u001b[39;00m\n",
      "File \u001b[0;32m~/miniconda3/envs/wofs_test/lib/python3.8/site-packages/pandas/core/indexes/base.py:5842\u001b[0m, in \u001b[0;36mIndex._raise_if_missing\u001b[0;34m(self, key, indexer, axis_name)\u001b[0m\n\u001b[1;32m   5840\u001b[0m     \u001b[38;5;28;01mif\u001b[39;00m use_interval_msg:\n\u001b[1;32m   5841\u001b[0m         key \u001b[38;5;241m=\u001b[39m \u001b[38;5;28mlist\u001b[39m(key)\n\u001b[0;32m-> 5842\u001b[0m     \u001b[38;5;28;01mraise\u001b[39;00m \u001b[38;5;167;01mKeyError\u001b[39;00m(\u001b[38;5;124mf\u001b[39m\u001b[38;5;124m\"\u001b[39m\u001b[38;5;124mNone of [\u001b[39m\u001b[38;5;132;01m{\u001b[39;00mkey\u001b[38;5;132;01m}\u001b[39;00m\u001b[38;5;124m] are in the [\u001b[39m\u001b[38;5;132;01m{\u001b[39;00maxis_name\u001b[38;5;132;01m}\u001b[39;00m\u001b[38;5;124m]\u001b[39m\u001b[38;5;124m\"\u001b[39m)\n\u001b[1;32m   5844\u001b[0m not_found \u001b[38;5;241m=\u001b[39m \u001b[38;5;28mlist\u001b[39m(ensure_index(key)[missing_mask\u001b[38;5;241m.\u001b[39mnonzero()[\u001b[38;5;241m0\u001b[39m]]\u001b[38;5;241m.\u001b[39munique())\n\u001b[1;32m   5845\u001b[0m \u001b[38;5;28;01mraise\u001b[39;00m \u001b[38;5;167;01mKeyError\u001b[39;00m(\u001b[38;5;124mf\u001b[39m\u001b[38;5;124m\"\u001b[39m\u001b[38;5;132;01m{\u001b[39;00mnot_found\u001b[38;5;132;01m}\u001b[39;00m\u001b[38;5;124m not in index\u001b[39m\u001b[38;5;124m\"\u001b[39m)\n",
      "\u001b[0;31mKeyError\u001b[0m: \"None of [Int64Index([ 777001,  777002,  777003,  777004,  777005,  777006,  777007,\\n             777008,  777009,  777010,\\n            ...\\n            1706578, 1706579, 1706580, 1706581, 1706582, 1706583, 1706584,\\n            1706585, 1706586, 1706587],\\n           dtype='int64', length=2915534)] are in the [columns]\""
     ]
    }
   ],
   "source": [
    "scores = cv_scorer(X, y, dates)"
   ]
  },
  {
   "cell_type": "code",
   "execution_count": null,
   "id": "de23c7b8",
   "metadata": {},
   "outputs": [],
   "source": [
    "np.mean(scores)"
   ]
  },
  {
   "cell_type": "code",
   "execution_count": null,
   "id": "853f23af",
   "metadata": {},
   "outputs": [],
   "source": [
    "np.mean(bl_df['hail_severe__9km'])*100"
   ]
  }
 ],
 "metadata": {
  "kernelspec": {
   "display_name": "Python 3 (ipykernel)",
   "language": "python",
   "name": "python3"
  },
  "language_info": {
   "codemirror_mode": {
    "name": "ipython",
    "version": 3
   },
   "file_extension": ".py",
   "mimetype": "text/x-python",
   "name": "python",
   "nbconvert_exporter": "python",
   "pygments_lexer": "ipython3",
   "version": "3.8.10"
  }
 },
 "nbformat": 4,
 "nbformat_minor": 5
}
